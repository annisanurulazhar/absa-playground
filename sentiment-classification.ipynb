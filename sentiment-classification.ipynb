{
 "cells": [
  {
   "cell_type": "code",
   "execution_count": 1,
   "metadata": {},
   "outputs": [
    {
     "name": "stderr",
     "output_type": "stream",
     "text": [
      "C:\\Users\\Annisa Nurul Azhar\\Anaconda3\\lib\\site-packages\\gensim\\utils.py:1209: UserWarning: detected Windows; aliasing chunkize to chunkize_serial\n",
      "  warnings.warn(\"detected Windows; aliasing chunkize to chunkize_serial\")\n",
      "C:\\Users\\Annisa Nurul Azhar\\Anaconda3\\lib\\site-packages\\h5py\\__init__.py:34: FutureWarning: Conversion of the second argument of issubdtype from `float` to `np.floating` is deprecated. In future, it will be treated as `np.float64 == np.dtype(float).type`.\n",
      "  from ._conv import register_converters as _register_converters\n",
      "Using TensorFlow backend.\n"
     ]
    }
   ],
   "source": [
    "import numpy as np\n",
    "import pandas as pd\n",
    "from sklearn.preprocessing import MultiLabelBinarizer\n",
    "from sklearn.model_selection import train_test_split\n",
    "import string\n",
    "import gensim\n",
    "from gensim.models import Word2Vec, KeyedVectors\n",
    "import keras\n",
    "from keras.layers.core import Reshape, Flatten\n",
    "from keras import regularizers\n",
    "from keras.preprocessing.text import Tokenizer\n",
    "from keras.preprocessing.sequence import pad_sequences\n",
    "from keras.models import Sequential\n",
    "from keras.layers import Input, Dense, Activation, Embedding, Flatten, GlobalMaxPool1D, Dropout, Conv1D, LSTM, MaxPooling1D, concatenate\n",
    "from keras.callbacks import ReduceLROnPlateau, EarlyStopping, ModelCheckpoint\n",
    "from keras.losses import binary_crossentropy\n",
    "from keras.optimizers import Adam\n",
    "from keras.models import Model\n",
    "from skmultilearn.problem_transform import BinaryRelevance\n",
    "from sklearn.svm import LinearSVC\n",
    "from xgboost import XGBClassifier\n",
    "from sklearn.metrics import classification_report\n",
    "import matplotlib.pyplot as plt\n",
    "\n",
    "%matplotlib inline"
   ]
  },
  {
   "cell_type": "code",
   "execution_count": 83,
   "metadata": {
    "collapsed": true
   },
   "outputs": [],
   "source": [
    "def get_all_label(x_train, y_train):\n",
    "    y_train_set = []\n",
    "    sent = x_train[0]\n",
    "    X_train_set = [sent]\n",
    "    labels = []\n",
    "    for i in range (len(x_train)):\n",
    "        if sent != x_train[i]:\n",
    "            if (len(labels)>0):\n",
    "                y_train_set.append(labels)\n",
    "            sent = x_train[i]\n",
    "            X_train_set.append(sent)\n",
    "            labels = []\n",
    "        labels.append(y_train[i])\n",
    "    return X_train_set, y_train_set\n",
    "\n",
    "def tokenize(msg):\n",
    "    clean = [char for char in msg if char not in string.punctuation]\n",
    "    clean = ''.join(clean)\n",
    "    return clean.lower().split()\n",
    "\n",
    "def find_maxlen(reviews):\n",
    "    longest = 0\n",
    "    strlong = \"test\"\n",
    "    for review in reviews:\n",
    "        if len(tokenize(review)) > longest:\n",
    "            longest = len(tokenize(review))\n",
    "            strlong = review\n",
    "    return longest\n",
    "\n",
    "def train_w2v(corpus, size, min_count):\n",
    "    docs = [tokenize(doc) for doc in corpus]\n",
    "    model = gensim.models.Word2Vec(docs,\n",
    "                                   size=size,\n",
    "                                   window=10,\n",
    "                                   min_count=min_count,\n",
    "                                   workers=10)\n",
    "    model.train(docs, total_examples=len(docs), epochs=10)\n",
    "    return model\n",
    "\n",
    "def tokenize_text(vocab_size, reviews,maxlen):\n",
    "    tokenizer = Tokenizer(num_words=vocab_size, lower=True)\n",
    "    tokenizer.fit_on_texts(reviews)\n",
    "    sequences = tokenizer.texts_to_sequences(reviews)\n",
    "    x = pad_sequences(sequences, maxlen=maxlen)\n",
    "    word_index = tokenizer.word_index\n",
    "    return x, word_index\n",
    "\n",
    "def createEmbeddingMatrix(word_index, vocab_size, dim, word_vectors):\n",
    "    EMBEDDING_DIM=dim\n",
    "    vocabulary_size=min(len(word_index)+1,vocab_size)\n",
    "    embedding_matrix = np.zeros((vocabulary_size, EMBEDDING_DIM))\n",
    "    for word, i in word_index.items():\n",
    "        if i>=vocab_size:\n",
    "            continue\n",
    "        try:\n",
    "            embedding_vector = word_vectors[word]\n",
    "            embedding_matrix[i] = embedding_vector\n",
    "        except KeyError:\n",
    "            embedding_matrix[i]=np.random.normal(0,np.sqrt(0.25),EMBEDDING_DIM)\n",
    "    return embedding_matrix\n",
    "\n",
    "def createCNNModel(filter_sizes, num_filters, embedding_matrix, embedding_dim, vocabulary_size, maxlen, num_classes):\n",
    "    filter_sizes = filter_sizes\n",
    "    num_filters = num_filters\n",
    "    drop = 0.5\n",
    "    \n",
    "    inputs = Input(shape=(maxlen,))\n",
    "    embedding_layer = Embedding(vocabulary_size,\n",
    "                            embedding_dim,\n",
    "                            weights=[embedding_matrix],\n",
    "                            trainable=True)\n",
    "    embedding = embedding_layer(inputs)\n",
    "    \n",
    "    conv_0 = Conv1D(num_filters, filter_sizes[0],activation='relu',kernel_regularizer=regularizers.l2(0.01))(embedding)\n",
    "    conv_1 = Conv1D(num_filters, filter_sizes[1],activation='relu',kernel_regularizer=regularizers.l2(0.01))(embedding)\n",
    "    conv_2 = Conv1D(num_filters, filter_sizes[2],activation='relu',kernel_regularizer=regularizers.l2(0.01))(embedding)\n",
    "    \n",
    "    maxpool_0 = MaxPooling1D(maxlen - filter_sizes[0] + 1, strides=1)(conv_0)\n",
    "    maxpool_1 = MaxPooling1D(maxlen - filter_sizes[1] + 1, strides=1)(conv_1)\n",
    "    maxpool_2 = MaxPooling1D(maxlen - filter_sizes[2] + 1, strides=1)(conv_2)\n",
    "    \n",
    "    merged_tensor = concatenate([maxpool_0, maxpool_1, maxpool_2], axis=1)\n",
    "    flatten = Flatten()(merged_tensor)\n",
    "    \n",
    "    dense1 = Dense(256)(flatten)\n",
    "    dropout = Dropout(drop)(dense1)\n",
    "    \n",
    "    output = Dense(units=num_classes, activation='sigmoid',kernel_regularizer=regularizers.l2(0.01))(dropout)\n",
    "    \n",
    "    # this creates a model that includes\n",
    "    model = Model(inputs, output)\n",
    "    print(model.summary())\n",
    "    return model\n",
    "\n",
    "def createCNNLSTMModel(filter_sizes, num_filters, embedding_matrix, embedding_dim, vocabulary_size, maxlen, num_classes):\n",
    "    filter_sizes = filter_sizes\n",
    "    num_filters = num_filters\n",
    "    drop = 0.5\n",
    "    \n",
    "    inputs = Input(shape=(maxlen,))\n",
    "    embedding_layer = Embedding(vocabulary_size,\n",
    "                            embedding_dim,\n",
    "                            weights=[embedding_matrix],\n",
    "                            trainable=True)\n",
    "    embedding = embedding_layer(inputs)\n",
    "    \n",
    "    conv_0 = Conv1D(num_filters, filter_sizes[0],activation='relu',kernel_regularizer=regularizers.l2(0.01))(embedding)\n",
    "    conv_1 = Conv1D(num_filters, filter_sizes[1],activation='relu',kernel_regularizer=regularizers.l2(0.01))(embedding)\n",
    "    conv_2 = Conv1D(num_filters, filter_sizes[2],activation='relu',kernel_regularizer=regularizers.l2(0.01))(embedding)\n",
    "    \n",
    "    maxpool_0 = MaxPooling1D(maxlen - filter_sizes[0] + 1, strides=1)(conv_0)\n",
    "    maxpool_1 = MaxPooling1D(maxlen - filter_sizes[1] + 1, strides=1)(conv_1)\n",
    "    maxpool_2 = MaxPooling1D(maxlen - filter_sizes[2] + 1, strides=1)(conv_2)\n",
    "    \n",
    "    merged_tensor = concatenate([maxpool_0, maxpool_1, maxpool_2], axis=1)\n",
    "    flatten = Flatten()(merged_tensor)\n",
    "    \n",
    "    dense1 = Dense(256)(merged_tensor)\n",
    "    dropout = Dropout(drop)(dense1)\n",
    "    lstm_1 = LSTM(128)(dropout)\n",
    "    output = Dense(units=num_classes, activation='softmax',kernel_regularizer=regularizers.l2(0.01))(lstm_1)\n",
    "    \n",
    "    # this creates a model that includes\n",
    "    model = Model(inputs, output)\n",
    "    print(model.summary())\n",
    "    return model\n",
    "\n",
    "def trainCNN(x_train, y_train, model, epochs, filepath):\n",
    "    adam = Adam(lr=1e-3)\n",
    "    model.compile(loss='binary_crossentropy', metrics=['accuracy'],\n",
    "              optimizer=adam)\n",
    "    callbacks = [EarlyStopping(patience=4),\n",
    "            ModelCheckpoint(filepath=filepath, save_best_only=True)]\n",
    "    model.fit(x_train, y_train, batch_size=32, epochs=epochs, validation_split=0.1,\n",
    "         callbacks=callbacks)\n",
    "    \n",
    "def get_output_cnn(model, x_train, x_test):\n",
    "    total_layers = len(model.layers)\n",
    "    fl_index = total_layers-1\n",
    "    feature_layer_model = Model(\n",
    "                     inputs=model.input,\n",
    "                     outputs=model.get_layer(index=fl_index).output)\n",
    "    x_train_xg = feature_layer_model.predict(x_train)\n",
    "    x_test_xg = feature_layer_model.predict(x_test)\n",
    "    return x_train_xg, x_test_xg"
   ]
  },
  {
   "cell_type": "code",
   "execution_count": 16,
   "metadata": {
    "collapsed": true
   },
   "outputs": [],
   "source": [
    "data = pd.read_csv('dataset/priority_3k_labelled.csv', sep=',')"
   ]
  },
  {
   "cell_type": "code",
   "execution_count": 17,
   "metadata": {},
   "outputs": [
    {
     "data": {
      "text/html": [
       "<div>\n",
       "<style scoped>\n",
       "    .dataframe tbody tr th:only-of-type {\n",
       "        vertical-align: middle;\n",
       "    }\n",
       "\n",
       "    .dataframe tbody tr th {\n",
       "        vertical-align: top;\n",
       "    }\n",
       "\n",
       "    .dataframe thead th {\n",
       "        text-align: right;\n",
       "    }\n",
       "</style>\n",
       "<table border=\"1\" class=\"dataframe\">\n",
       "  <thead>\n",
       "    <tr style=\"text-align: right;\">\n",
       "      <th></th>\n",
       "      <th>review</th>\n",
       "      <th>category_sentiment</th>\n",
       "      <th>category</th>\n",
       "      <th>sentiment</th>\n",
       "    </tr>\n",
       "  </thead>\n",
       "  <tbody>\n",
       "    <tr>\n",
       "      <th>0</th>\n",
       "      <td>Kotor berdebu. Saya tdk berhenti bersin ketika...</td>\n",
       "      <td>wifi_P1-neg</td>\n",
       "      <td>wifi_P1</td>\n",
       "      <td>neg</td>\n",
       "    </tr>\n",
       "    <tr>\n",
       "      <th>1</th>\n",
       "      <td>Kotor berdebu. Saya tdk berhenti bersin ketika...</td>\n",
       "      <td>kebersihan-neg</td>\n",
       "      <td>kebersihan</td>\n",
       "      <td>neg</td>\n",
       "    </tr>\n",
       "    <tr>\n",
       "      <th>2</th>\n",
       "      <td>kamar ada semutnya. kamar mandi bermasalah. bu...</td>\n",
       "      <td>kebersihan-neg</td>\n",
       "      <td>kebersihan</td>\n",
       "      <td>neg</td>\n",
       "    </tr>\n",
       "    <tr>\n",
       "      <th>3</th>\n",
       "      <td>Kamar mandi bau, airnya bau</td>\n",
       "      <td>bau_P1-neg</td>\n",
       "      <td>bau_P1</td>\n",
       "      <td>neg</td>\n",
       "    </tr>\n",
       "    <tr>\n",
       "      <th>4</th>\n",
       "      <td>tak sesuai espektasi, kamar sempit, pintu kama...</td>\n",
       "      <td>service-neg</td>\n",
       "      <td>service</td>\n",
       "      <td>neg</td>\n",
       "    </tr>\n",
       "  </tbody>\n",
       "</table>\n",
       "</div>"
      ],
      "text/plain": [
       "                                              review category_sentiment  \\\n",
       "0  Kotor berdebu. Saya tdk berhenti bersin ketika...        wifi_P1-neg   \n",
       "1  Kotor berdebu. Saya tdk berhenti bersin ketika...     kebersihan-neg   \n",
       "2  kamar ada semutnya. kamar mandi bermasalah. bu...     kebersihan-neg   \n",
       "3                        Kamar mandi bau, airnya bau         bau_P1-neg   \n",
       "4  tak sesuai espektasi, kamar sempit, pintu kama...        service-neg   \n",
       "\n",
       "     category sentiment  \n",
       "0     wifi_P1       neg  \n",
       "1  kebersihan       neg  \n",
       "2  kebersihan       neg  \n",
       "3      bau_P1       neg  \n",
       "4     service       neg  "
      ]
     },
     "execution_count": 17,
     "metadata": {},
     "output_type": "execute_result"
    }
   ],
   "source": [
    "data.head()"
   ]
  },
  {
   "cell_type": "code",
   "execution_count": 23,
   "metadata": {},
   "outputs": [
    {
     "name": "stdout",
     "output_type": "stream",
     "text": [
      "['kamarnya nyaman, acnya berbunyi,lantai kamarnya kurang bersih tapi makanan unuk sarapannya enak terima kasih airy', 'sangat memuaskan. Sprei dan handuknya wangi, kamarnya cukup bersih dan nyaman. AC dan air panasnya berfungsi dengan baik. Saluran TV sedikit bermasalah tapi cukup memuaskan. ini pengalaman kedua saya di airy gunung sahari. Terima.kasih', 'AC nya parah. Berisik bersurara. Bikin gak bisa tidur sama sekali. Lokasi nya susah minta ampun ditemukan.', 'free snack + sabun / shampoo airy gak ada... AC nya juga bocor air nya keluar di dlm ruangan... semoga di perbaiki tempat dan kinerjanya dimana hak buat konsumen...', 'kamar sudah cukup bagus dan luas. ac cukup lama baru dingin dan air kamar mandi agak bau pas dibuka pertama kali', 'kamar nya oke bagus rapi.ac dingin. ramah.tapi wifinya parah gk bisa dipake..', 'bantalnya enak.. kamarnya dingin.. keset ga ada lagi nha..', 'Kamarnya tdk ada jendela, ac kurang dingin, seprei/bantal agak berdebu..semalaman hidung jg gatel2..kamar kecil..breakfast ala kadarnya..ok utk tidur 1 mlm. Wifi nya kenceng soalny dpt kmr deket router wifi. Thanks utk snack complimentaryny.', 'Overall baik murah pelayanan prima semua fasilitas lengkap sesuai yang ditawarkan pada saat reservasi... namun, salah satu kamar dr pesanan saya yang ACnya panas. untungnya pihak hotel bersedia mindahkan kamar ke yg lebih baik... NICE airy !!!', 'receptionistnya baru bangun. pelayanan kurang ramah, sampai disana pun kamar belum disiapkan, padahal udah jauh banget dari jam check in, terus ac ga nyala dan harus nunggu lagi, waktu check out juga mengecewakan.. saya tidak ingin menginap dihotel ini lagi..', 'worth it. sesuai dengan harga. sayang AC nya kurang dingin. keseluruhan sudah baik.', 'Cukup baik kok. Tapi, kamar yg saya dpt no window. dan handuknya kotor,huft. Selebihnya kaya ac dan air panas si oke aja.', 'kamar sempit, AC tidak dingin, berisik', 'Ukuran kamar kecil tapi cukup lah, wifi kebetulan lagi rusak, sinyal sangat susah krn kamar dilantai bawah, kebersihan baik, ac dingin, tv ada n berfungsi. Selimut, handuk, snack, air mineral disediakan. Pelayanan bapak kosnya cukup baik dan helpful.', 'Ada kecoa di kamar mandi, AC kurang dingin, air panas malam hari tdk nyala', 'JANGAN PILIH KAMAR DISINI Pelayanannya mengecewakan. Kami dibentak saat akan checkin alasannya karena nama kami blm terupdate. Kamar sangat kotor & tidak dibersihkan. Banyak rambut di wc. AC mati, dan tidak dapat handuk. CS dari airy pun tdk menggubris komplain kami. Kami bahkan telah menulis surat pembaca ke koran untk properti asal-asalan ini', 'Sangat mengecewakan... Tempat nya susah d cari, kamar mandi pengap dan bau, AC tidak dingin dan menetes, terlebih lagi pemilik nya sangat teramat tidak sopan tidak cocok jadi pemilik penginapan kayak pereman pasar... Di tambah kemarin dapat kamar 202 tangg', 'Sangat strategis tempat lokasinya. Tetapi untuk ACnya kurang dingin di kamar 202.', 'minus nya ac nya lama dingin nya', 'ac nya susah di nyalain', 'Aman dan nyaman + ac kurang dingin', 'utk kesekian kalinya sllu ada plus minus. yang saya dapatkan di airy rooms slipi yakni air conditioner(ac) yang lamban. jd harus menunggu berjam jam utk ruangan lebih dingin. over all, tampak kamar ssuai dengan yg di foto. complimentary snack jg ada. semoga airy tidak dibeda2kan dgn kamar yg lain. trimakasih airy', 'berkesan: harganya super murah, kolam renang bersih... suram: air krannya bau, beddingnya sudah kusam, ac reyot, selimut tipis, ada suara2 di tengah malam dari langit2...', 'AC nya kurang dingin dan kotor,banyak nyamuk dan kurang terawat kamarnya..bau kamar tidak enak smp saya beli obat semprot nyamuk dan beli pengharum ruangan.kolam renang bersih..', 'pelayanannya ramah. tempat tidur nyaman, bersih , AC menyala air panas bisa di gunakan wifinya sangat kencang .. mungkin yang perlu diperbaiki bau saluran air di kamar mandi, tp langsung hilang baunya sejauh ini sangat memuaskan ... terimakasih', 'tempatnya sempurna, pas didepan Pantai Losari, namun sayang ACnya Kurang Dingin padahal sdh lapor namun tetep tidak bisa dingin', 'Kamar lumayan, kamar mandinya aduuhhhh. Tempat strategis, AC nggk berasa', 'kalau segi kenyamanan agak kurang karena AC kurang dingin dan tolong kamar mandi setiap kamar rajin di bersihkan karena kemarin saya menginap ada semacam cacing hitam di lantai bawah (kmr 202). pelayanannya sangat bagus masnya ramah, disini disediain handuk', '2 kali kesini, AC masih aja ngga seberapa dingin, alat mandi juga cuman sabun ngga ada shampo, air panas/hangat ngga berfungsi.', 'over all enak nginep disini, lokasinya strategis jadi kalo mau berasa turis bisa jalan kaki kemana mana.. dan yg lebih berasa turisnya pas malem mau ke GI jalan kaki dan sekeliling lagi ada proyek pembangunan gitu HAHAHA..... oiya ac nya sempet netes juga sih tapi gpp lah bisa diatasi', 'Ini adalah 1x sy pakai airy.Kesan 1 memang beda pelayanan dengan hotel berbintang,but fine.Kaget surprise dan seneng bngt dpt box meal free pula.Kebersihan kerapihan kamar keren dexh.Apalagi kamar mandi bathup mantabbb wes.sayang Ac kurang dingin,TV mati hidup swndiri berulang2 bahkan respon receptionist buruk.Internet juelek pollll.lumayan aja wes', 'ac gak dingin, kamar mandinya kurang bersih', 'Pengelola di lapangan tidak komunikatif, kamar mandi masih kotor (banyak kekuningan di keramik), AC kurang dingin, channel TV terbatas, pengelola lapangan jarang di tempat dan tidak ada tempat sampai namun sesuai dengan harganya 50 ribu.', 'over all okey cuma AC nya yg kurang dingin jadi gerah banget. ', 'Kamar cukup Bersih, sayang tidak sesuai dengan ekpetasi yg digbr...tlp kamar mati ada nyamuk ac tidak dingin tidak ada paket bathroom seperti biasa standar airy', 'Wfi tidak bisa di access, AC bocor dan banyak semut merahnya', 'hotel yang tidak memuaskan, seperti bangunan yang tidak terawat. tidak dapat sunrise meal. kasur tween yang di jadikan satu menjadi double. tidak dapat perlengkapan mandi(sabun, sikat gigi dan shampo). AC tidak berfungsi dengan baik. tidak ada bantal kecil airy, tidak ada sponsor airy satupun. kamar bau, bed kotor. selang toilet tidak layak pakai.', 'ac g seberapa dingin, air pembuangan mandi masih belum lancar, pasta gigi kering jd g bs di pakai, tapi so far..nyaman banget, pelayanan ok..kamar bersih..comfortable banget', 'pintu kamar mandi gabisa dikunci. acnya gadingin. ada kecoanya', 'Kran kamar mandi mati,,pintu kamar mandi tidak bisa dikunci,,ac panas,,no wifi,, handuk cuma dikasih 1,,pdhal tamu nya 2.', 'Kurang bagus, AC tidak nyala, showernya kurang bagus, kurang bersih', 'Wifinya gak sampek ke kamar, lampu tidur yang rusak tidak di perbaiki lg, ac kurang dingin, n sarapannya cuma roti & teh aja', '2 kali pindah kamar, kamar pertama toilet tdk dapat digunakan karena closet bocor, kamar kedua AC tidak dingin lalu pindah ke kamar ketiga awalnya toilet tdk keluar air dan harus tunggu 2 jam baru keluar air.', 'cukup nyaman kamar besar tapi ac kurang dingin. enaknya cukup dekat kemana2 tempat strategis', 'Acnya kurang dingin', 'AC tidak dingin, kunci kamar tidak bisa dipakai karena kehabisan tap card sehingga tiap keluar masuk kamar harus panggil petugas, kamar byk ngengat kecil yg bikin gatal.', 'Kurang memuaskan.  Wc nya sudah jelek. Ac nya berisik..  Dan tempat sangat tidak nyaman...', 'kamar nyaman, bersih, aman. pelayanan sangat baik dan ramah. minus hanya AC lama dinginnya. all perfect', 'televisi dan pendingin ruangannya tidak berfungsi dengan baik, sehingga mengurangi rasa nyaman costumer saat menginap. semoga kedepannya bisa lebih baik lagi ☺️', 'Ac nya prlu ditingkatkan dan air panasny jg prlu ditambah, selebihnya sudah bagus', 'hotel bagus dan pemandanganya juga bagus. tp kusus buat kamat Airynya bener2 berbeda sekali dengan kamar lainya, kamar airynya banyak sarang laba2 tempat tidur yg sudah ga nyaman karena pernya berasa banget dibadan dan sudah miring2, ase dikamat juga tdak dingin apa lagi kamar tidak ada fentilasi sama sekali jadi makin berasa pegap.', 'kamar ac gak dingin air mandinya kecil', 'kamar besar cuma minusnya ac kurang dingin dan layanan tv nya kurang bagus', 'hanya sj ac nya kurang dingin...g ad sendalnya.....semuanya nyaman kebersihan nyaman.....tapi knp di jakut hanya sedikit hotel airy nya...', 'masuk gang nya kotor, jorok, kamar nya sempit, kamar mandi kotor, AC nya lama banget dingin nya, mengecewakan, ga seperti ygdi tampilkan di foto.', 'tenang cumah agak kpanasan dikit AC kurang stabil', '1. lampu kamar terlalu redup 2. lampu di kamar mandi salah satunya mati 3. tdk ada peralatan mandi 4. ac tdk berfungsi normal (tidak berasa ac-nya walau udah di kecilkan) 5. air panasnya kadang bisa di gunakan & kadang tidak', 'Harga cukup murah, pelayanan baik. hanya 1 yg bermasalah...AC tidak bisa dingin meski sdh dibersihkan.', 'itu kamarnya kotor minta ampun, banyak sarang laba-laba & kasurnya sudah lama tidak diganti sprey-nya & nyamuk banyak sekali, bikin gatel, untungnya cuma semalam hanya untuk transit doang, yang berkesan cuma AC dingin, saluran tv bagus, kamar mandi lumayan air panas & dekat bandara, malam sampai dini hari suara bising dari tamu sebelah.', 'Kamarnya nyaman.. Ac dingin kamar mandi shower ada air panasnya, bersih, tv lcd, ada snack box nya juga.. hanya saja bawah tmpat tdur tdk ikut di sapu jdi ada debu nya.. tpi overall puas dan nyaman, staff ramah bgt.. ', 'Untuk kebersihan sudah lumayan, AC lumayan dingin tidak seperti pertama kali saya book kamar disini. Sprei juga baru dan bersih, mungkin cuma selimutnya saja yg perlu diganti karna sudah agak buras. Untuk barang dikamar seperti meja atau kelengkapan lain masih agak berdebu dan nampak seperti hotel tua karna perabotnya kelihatan rapuh.', 'kamar oke, tapii untuk ac kurang dingin breakfast nya sederhana tapi nikmat blower kamar mandi gag berfungsi.. overall semua okeyy lahh', 'tapi sayang ac  ya tidak dingin tp untuk keseluruhan sih bagus 👍🏻', 'lumayan murah. AC tidak dingin. kamar mandi kurang bersih. lingkungan sekitar kamar kurang bersih. ', 'perlu ditambah pengharum di lemarinya. overall kamarnya bersih banger, nyaman, fasilitas lengkap, ac dingin.  kalau bisa sediakan line telepon untuk pemesanan taksi, karena letaknya cukup jauh dari jalan raya. ', 'Oke saja, tapi Ac nya berisik banget dah.', 'ac nya tdk dingin', \"AC kurang optimal atau dingin'y kurang\", 'fasilitas kotor,ac tidak dingin,pintu kmr mandi tidak bsa d tu2p,kulkas tidak bisa di gunakan,sprei ', 'Pelayanan ramah, kamar nya dingin, cuma air mandinya kurang panas,', 'ACnya kurang dingin', 'Biasanya aku dpt snack d room ini gada sama sekali Ac nya bau cuka (gatau kaya cuka tapi aneh banget', 'kamar nya terbilang bagus tapi sayang perawatan nya kurang, ac nya tidak dingin, disediakan kompor tapi tidak ada gas dan perlatan memasak dan tdk ada papan reklame airy di depan yg buat saya bingung cari lokasi nya sampai mutar2. terimakasih airy..', 'baik : keramahan pelayanan, desain bangunan yg nyaman lemah : kebersihan kamar. lantai terasa lengket. ac lambat mencapai suhu yg diinginkan', 'Standar,bangunan tua.. Namun saklar listrik sudah tidak kuat menancap pada dinding, ac dingin memerlukan waktu lama, lift hanya sampai Lt 4 padahal kamar ada di Lt 5', 'waktu check in saya harus menunggu selama hampir 1 jam, dikamar ac saya tidak dingin.. ketika dikamar tiba2 kamar saya mau dibuka dari luar oleh karyawan hotel yg ternyata double booking, kesalahan dari hotel', 'Pelayanan ok, fasilitas big No, Dikamar tidak ada keset, flapon kaya rembesan air gitu udh lumutan, Agak bau apek, AC kurang dingin, pembuangan air kamar mandi agak mampet, gak rekomend lah pokok ya', 'ok hanya ac kurang dingin', 'ac nya gak dingin... cuma brasa dry tanpa cool', 'kamar tidak terang ac kurang dingin kamar mandi trlalu kecil wifi rusak lingkungan sekitar hotel asyik sih ada sarapan enak di Dkt Hotel namanya Nasi Uduk Bu Maya Disebelah Alfamart', 'AC dilantai bawah tidak nyala terpaksa pindah ke lantai 4, nyala sih tp tidak begitu dingin', 'ac kurang dingin, mungkin karena udh tua kalibya.. efeknya kamar menjadi bau tidak sedap.. selebihnya sih ok', 'kamar 617 panas. hari pertama minta dibenarkan. hari kedua masih panas. komplain ke resepsionis tidak direspon oleh tim maintenance. Semalaman air conditioner tidak menyala, terpaksa buka jndela', 'AC NYA KURANG TERASA, KAMAR BOCOR, PETUGASNYA KURANG SIGAP DALAM PELAYANAN,KAMAR MANDI KURANG BERSIH  ', 'Lumayan ayem, sayang ACnya banyak yg rusak jadi kurang dingin', 'selimutnya bau, ac nya juga suka bunyi, dan saluran kamar mandinya mungkin mampet karna bau pesing', 'kurang ramah, saat datang kondisi kamar belum siap untuk digunakan karena AC bermasalah.', \"kamar rapih 'cuman air y kecil sama Ac y kurang dinggin\", 'view oke lah,Ac nya jg dingin, kolam renang nya lumayan,  minus tidak ada air panas, tidak ada keset, tidak ada tempat sampah, seprei  nyuci nya tidak bersih. perbaiki lg kebersihan kamar nya . Thanks Airy , Over All sesuai harga lah ya.. ', 'Saluran AC yang ke kamar mandi tolong diperbaiki masalahnya gak enak banget lagi buang air kena tetesan air dari selang pembuangan ac. ', 'nyaman, bersih, tv aja yang kurang bagus ga ada yg bisa ditonton dgn jelas. ac dingin.', 'Bersih dan nyaman, tapi AC nya kurang dingin dan juga bocor. ', 'Ac harus lama dulu baru dingin... Handuk 1 aja...', 'AC kurang dingin karena sudah lama, yg bagus kamar nya luas, dan airy rooms selalu ngasih snack Mungkin kebersihan nya perlu ditingkatkan untuk hotel ini', 'Pelayanan ramah sekali, namun gang jalan masuk terlalu kecil.. untuk kamar nya sendiri AC nya kurang dingin, banyak nyamuk..', 'ga ada handuk , ac ga dingin , kamar kotor , semoga selanjutnya di upgrade lagi masalah kenyamananny', 'tempatnya bersih hanya saja acnya kurang dingin', 'Ac ga dingin, jauh dr harapan dan standard airy..', 'parrahh kamarnya. ac bocor. water heater ga berfungsi. air kotor. kamar mandi kotor kamar bau. sprei ada bercak2 sperma', 'toilet kotor . wc nya gak berfungsi dan bau  nya sampai keluar . AC nya dingin tapi berisik . Gak disediain handuk . ', 'Kamarnya cukup luas. Sarung bantal agak kotor dan ruangan agak bau. AC berfungsi dengan baik. Dan de', 'Lokasi berada di tempat yg jauh dr kebisingan kota. Bangunan lama. View bagus, kolam renang viewnya gunung Salak tp kolamnya kotor. Kamarnya penerangan sangat kurang, remang-remang. Kasur keras. Channel TV gambarnya jelek. AC dingin. Air panas tidak fungsi. WC bagus. Overall sesuai dengan harga yg tidak terlalu mahal.', 'acnya tidak dingin dan tidak ada tissunya sama laundrynya kebetulan troble jadi handuknya cuman dapat 1', 'Sory, kamar dihotel ini tidak sesuai dg tagline Airy. murah iya, tapi jauh dari layak huni. Kamar pengap, sprei dan lantai kotor, handuk seperti keset, AC berisik dan tidak dingin, Kamar mandi tidak ada gantungan baju, pintu kamar susah dikunci dan tidak ada tempat sampah. Dan saat itu lagi renovasi, jalan dari lobi ke kamar penuh pasir.', 'kamar mandi panas tdk ada exausfan,ac tdk merata suhu dinginnya dan jendela terlihat dr luar krn tdk', 'Lokasi strategis, pelayanan baik, ac dingin, Kamar cukup luas Namun Kamar kotor Dan Kamar mandi bau. Sarapan hanya nasi goreng Dan Telor ceplok Gak ada roti tawar. Bangunan seperti kurang terawat Dan terkesan kuno', 'ac kamar nya mengeluarkan suara berisik', 'AC nya per 30 menit mati. alhasil saya tidak nyenyak tidur krn jagain AC supaya tetap on. spy anak istri bisa tidur. kamar mandi nya agak serem. gitu aja! think again lah !', 'ac nya ga dingin. kamar sempit tp utk hrg segitu wajar sih. ', 'Kamar nyaman, full ac, tv nyala meskipun tdk semua chanel, kamar mandi bersih, pelayanan ramah, delat sm tempat makan, tp kadang suka mati tiba2 listriknya, overall is good. Thankyou 💙', 'tempat memang tidak strategis. bangunannya pun sudah usang dan tidak terurus karena hotelnya sangat sepi. beberapa fasilitas hotel pun ada yang rusak, contohnya ac, shower, kasur, kunci lemari. Walaupun yang menginap sedikit, tapi tetap saja di buatkan sarapan. yaa sesuai lah sama budget kita. overall hotelnya lumayan bagus kok. terima kasih~', 'Kamar mandi kurang bersih, ac ga dingin', 'Pelayanan baik, cuma ac kurang dingin sma air gak da air panas', 'kamar panas, AC rusak, kamar mandi bocor, ga nyaman banget, untung cm transit aja.', 'kamar bau,kotor,ac gak dingin', 'overall bagus..ac nya aja kurang dingin, ', 'AC kurang dingin', 'Pelayanan sudah baik. fasilitas sudah sesuai dengan harga. hanya saja AC berisik.', 'wife mati, lupa dikasih selimut, air panas sedikit doang. ac jg gk memuaskan, nyari petugasnya jg susah ', 'bagus.....hanya saya untuk kedunginan ac perlu di perhatikan karena kemarin kurang dingin', 'Assalamualaikum wr wb tampilan depan kotor, pelayanan kurang ramah, ac kurang dingin!', 'semuanya memuaskan hanya saja AC kamar 203 tidak dingin dan kamar mandinya sedikit berbau', 'AC tidak dingin, remote TV rusak.', 'Kamar lumayan bersih, meski ada beberapa berdebu tapi masi cukup nyaman. Air hangat, ac dingin, wifi cepat, karyawan sedikit kurang ramah, menginap beberapa hari, harusnya setiap hari diganti snack atau mnawarkan handuk baru', 'Minus air panas, ac kurang dingin, tidak ada kran buat wudhu. But afterall its ok, suasananya nyaman tanpa ada suara kendaraan, dan tidak bising.', 'kamar lumayan besar,tp sayang tidak ada keset kamar mandinya,dan airnya kecil,serta ac kurang dingin. tolong di perbaiki agar costumer puas,trima kasih.', 'keseluruhan baik hanya saja ac tidak dingin. air panas kurang terasa. ', 'kamar bocor,  air panas ga nyalah,  ac tidak dingin, ', 'AC di kamar nomer 10 ngga dingin', 'AC TIDAK DINGIN!! KAMAR KOTOR DAN BANYAK NYAMUK.. AIR PANAS TIDAK NYALA. TV SEBAGAI PAJANGAN AJA YA??', 'air kamar mandi kotor, ac tidak dingin, seprai kotor, kamar berbau', 'Kamarnya wangi karbol yg sangat menyengat, saya curiga freon yang bocor. Tolong diperhatikan agar tidak sampai ada yg keracunan. Terimakasih #101', 'AC tidak dingin', 'AC kurang dingin', 'AC tidak panas,  dinding kamar ada rembesan bocor air jd kamar lembab dan penerangannya kamar tdk terang tapi remang remang', 'overall oke, hanya AC kurang dingin, banyak cat sudab lapuk perlu cat ulang, pegawai ramah Deket  kemana mana', 'Pintu kamar mandi ngga bisa ditutup karena rusak, kamar keadaan kotor kaya belom disapu, sprei juga ga bersih. AC juga ga dingin. Resepsionis yang cewe kurang ramah.', 'cek in jam 10 . dapet kamar yg di bilang cadangan di lantai 4 . soal jauh nya kamar juga kondisi tv ( kecil juga tabung ) yg berbeda dengan kamar lain di bawah masih bisa di tolerir lah tapi maaf soal AC nya ga bisa di tolerir . ga bisa istrahat karena kepanasan di dalam kamar . mohon utk di perhatikan lagi perlengkapan kamar demi kenyamanan cust.', 'Kamar bersih, rapih, semuanya enak, parkiran enak, tempat tidur nyaman, ac dingin, air hangat lancar, tv besar tapi kekurangannya cuma di handuk dan selimut belum disediakan.', 'kamarnya dicat ulang, kalau perlu didekor ulang biar kelihatan hidup, cerminny jangan cermin angker donk, gabisa ngaca 😂, AC nya dibenerin donk biar ga mati2 sendiri,  tolong serangga2 dibasmi juga, tp petugas dan staff ramah maksimal!!! lokasi hotel dket pvj banget, lokasi bagus sayang kalau tdk dimaksimalkan, trims', 'AC tidak dingin dan pintu kamar mandi bocor but overall nice esp.  makanannya. dekat dari tempat makan di luar hotel dan supermarket', 'Acnya kurang dingin, wifi juga gak ada:( ', 'handuk kasih double, ac kurang dingin, semoga lebih baik lagi', 'Baiknya cuman dekat dengan perbelanjaan cihampelas. Kamarnya lembab, cat nya udah lapuk, agak berdebu, seprainya kurang bersih dan tanpa logo airy rooms, debit air nya kecil(kurang puas mandinya), tidak ada remote AC (jd minta petugas buat atur suhu.', 'Pelayanan sangat memuaskan, perbaiki AC karena tidak bisa diatur suhunya', 'Ac kurang dingin, handuk kecil & minuman sama cemilan ngga diperbarui😣', 'ac-nya sdh tdk layak lagi,ruangan kamar kurang penerangan..selain itu sdh ckup baik', 'Kamarnya sempit dan pengap. unik memang designnya..kalo luas dikit lagi aja pasti bagus. dan ventilasi/ blower..itu perlu bgt. posisi ac perlu diganti. ', 'ac tdk dingin, sdh 3x lapor tdk ad tanggapan sama sekali, lantai keramik byk yg rusak', 'bagus seh tp AC ny panas...', 'Ini adalah yg kedua nginep di Airy Anggrek Satu 18. AC lebih dingin dr yg pertama, kamar lebih luas. sayangnya dikasih smoking room, padahal setau saya Airy non smoking semua. jd pertama masuk bau asap rokok. Tapi so far sih seneng2 aja nginep di sini. ', 'Ini adalah yg kedua nginep di Airy Anggrek Satu 18. AC lebih dingin dr yg pertama, kamar lebih luas. sayangnya dikasih smoking room, padahal setau saya Airy non smoking semua. jd pertama masuk bau asap rokok. Tapi so far sih seneng2 aja nginep di sini. ', 'AC,Toilet dan Lantai Kurang Baik, Ada Nyamuk di Kamar', 'kamar bersih.selimut kotor dan kasar lagi.ga ada remote ac.trus panas. tv tabung kecil 20 inc.air kencang.wifi ga nyampe kamar.cma 1 garis.palayanan lambat pas cek in ga ada resepsionisnya nunggu lama baru siap.', 'air ny kecil jd susah mo keramas.., AC ny jg kecil n g isa diatur jd kepanasan bo2 ny..', 'Overall baik. Tapi AC kurang dingin.', 'wifi kenceng, kamar luas, ac bagus, tp kamar mandi agak kotor, makanannya enak dan harga terjangkau, tempat makan juga banyak sekitar hotel ,akses kemana -mana sekitar kota dekat,thanks airyroom👍', 'air Asin, ac tidak dingin, suara berisik', 'AC tidak dingin dan tidak ada lift kekamar atas!', 'Kamarnya Bersih, nyaman,, tapi AC,nya ga kerasa dingin', 'Sdh sering kesana.. semua nya OK. Cuma pas terakhir menginap, pendingin ruangan 308 TIDAK dingin. ', 'Dr luar bagus ada kolam renang, balkon yg lgs ke kolam renang. tp pas msk kmr, sy dpt kmr no.6, AC sering mati sendiri, udara yg dikluarkan ac agak bau. aroma bantal jg kurang sedap.', 'ac nya rusak, jadi kami ga bisa tidur semaleman. Saya lupa di kamar berapa. Overall sih lumayan ya buat backpacker. Ada harga, ada rupa..', 'kamar jadul dan panas, ac ga dingin, suara pompa nonstop', 'tempat nyaman cuman di ac nya aja kurang dingin', 'Kurang snack ajaaa', 'bagus wih, lokasi oke banget deket kemana2, tapi ga terlalu berisik. kamar luas tapi ac ga dingin.', 'Baik, sayang ACnya tlg diperbaiki ya', 'Oke banget, tapi ac nya gak bisa diatur suhu nya', 'AC nggak dingin, lampu kurang terang', 'ac ga dingin lantai ktor pmesanan sblum nya,tdk dpt cemilan', 'ac kurang dingin,lantai kamar seperti tdk pernah di bersihkan alias kotortapi over all pelayanan dan penjaga y ramah dan sopan mohon d tingkatkan lagi kualitas kamarnya ', 'Kondisi kamar standar banget... Saya sering menggunakan Airy Rooms... Tapi kali ini yang paling tidak nyaman... 1. AC kurang dingin 2. Tidak ada snack 3. Heater Water tidak berfungsi 4. Kamar biasa saja Not recomended sih, kalau menurut saya...', 'ac kurang dingin dan kamar model lama', 'Ac tidak dingin,(bocor) . Stop kontak tidak ada arus listrik, sehingga tidak bisa mengecas hp. Jika malam terdengar suara tikus berlari di atas plafon kamar. Handuk hanya tersedia 1', 'Lumayan untuk harga diskon. Ac, tv, westafel. Semua baik. Cuma kmrrn abis ada wedding party, blm beres, jadi sampah nya bauuu', 'Bantal sma tempat tidurnya basah, lantainya pun masih basah, ac nya tidak dingin ', 'tambahkan keset untuk kamar mandi, dan juga ACnya kurang dingin.', 'AC-nya tidak berfungsi, AC kemungkinan bocor, panas banget. air dilantai 4 kadang-kadang tidak naik, airnya loyo.', 'ac nya mati kaga dingin', 'AC krg dingin', 'AC kamar yang saya gunakan kurang dingin', 'AC ga dingin', 'Tidak ada yg bertulisan Airy di room 107, remot TV tdk bs di pakai(rusak), remot AC tdk ada(hidupin AC manual), perlengkapan kamar mandi cmn ada handuk. Kami sangat kecewa yg di room 107 Room 103 sangat puas perlengkapan room ada smua', 'hanya AC nya agak kurang dingin', 'good.. ada snack di stiap kamar. cm syg pas dpt kamar 305 ac nya gak dingin sm sekali. selebihnya keren. langganan dsini. ', 'Yang berkesan adalah pihak hotel berkenan memberikan makan sahur (sebagai ganti sarapan) waktu saya menginap di sini pada bulan Ramadhan. Yang perlu diperbaiki sekiranya handuk perlu diganti, plafon perlu dicat ulang agar bersih (ada plak hitam) dan mungkin kamar perlu dicek ulang (sepertinya ada air AC yang bocor menetes di kamar. Selebihnya baik.', 'overall everything was good before i took a bath. showernya rusak tidak bisa mengeluarkan air dengan baik. kasurnya cukup nyaman tetapi bantal terlalu tipis dan kurang nyaman. ac kurang dingin. but the price is affordable enough. thx airy', 'ac kurang dingin', 'Pelayanan bagus...mohon AC nya segera diservice supaya lebih dingin lagi...', 'ac agak bau. remote tv tidak berfungsi', 'kamar luas ac lama banget dinginnya + airnya lengket dan bau.', 'tidak sesuai dengan kamar pesanan...ac tidak dingin...', 'acnya kurang dingin dan tv channel rata  ngilang', 'Dpt kamar yg ac-nya gak dingin samasekali. setelah gagal utk bersabar, akhirnya pindah kekamar lain saat jam 2 dini hari. kondisi bdn yg letih krn perjalanan mudik via darat bertambah lelah krn kondisi ini. kmr yg barupun ac-nya tdk bisa dibilang dingin. tdk nyaman sama sekali ditambah tdk ada permintaan maaf dari staff hotel. kapok jg dgn airy.', 'Kamar bersih, AC dingin, tapi sarung bantal + seprei engga bersih, masih ada noda, jadi kurang nyaman, minta yang baru tetap masih ada nodanya', 'Hot waternya hari pertama berfungsi namun hari kedua sudah tidak berfungsi, siaran TVnya kabur dan AC kurang dingin.', 'AC klo bisa di ganti, kmrn kurang dingin nga seperti biasanya...', 'Kamar OK, bersih, rapi dan fasilitas OK. Hanya AC yang tidak bisa dingin, walaupun sudah di setting suhu rendah dan Fan Jetfan. Mohon diperbaiki. Overall OK. Terima kasih', 'AC tidak dingin sama sekali sampai saya akhirnya mutusin buat check-out. kasurnya banyak sekali pasir dan ngeres buat tidur. airnya bau seperti air payau.', 'air kecil, kolam kotor,ac ga dingin,sedih bgt deh, tp petugasnya baik', 'udah cape dari bandung pingin istrahat.udah dpt kamar,eh ac rusak malah dapat kipas angin. walau dapat pot 50rb.trakhr bangun tdr masuk angin. tempatnya bagus tapi gitu kalau soal pelayanan harus di tingkatkan lagi.dan kurang ramah.', 'kamar panas... lantai kamar kotor peralatan housekeping di letak di lorong hotel', 'ac kurang dingin,  tapi overall puas', 'Pesen 2 kamar tapi besar kamarnya beda, banyak semut. Kamar mandinya pintu yg 1 gabisa ditutup. Gaada ac cuma kipas kecil bgt, ga gerah sih cuma pengep aja. Over all bagus.', 'Kamar tidak sesuai gambar yang di foto sangat kecil, ACnya bocor, kamarnya juga ada rembesan air dan bocor kamar mandinya kecil dan gelap dan tidak ada kesetnya, Sangat mengecewakan.', 'Harga MURAH! Pelayan baik dan ramah. Lokasi masuk gang (perkampungan warga) tp bisa dicari di google map. Kamar bersih, rapi dan cukup luas. fasilitas: TV mantap, AC kurang dingin (16°), snack dan air, perlengkapan mandi (sabun odol sikat), handuk ada 2 tp kecil, air lancar tp agak bau. mungkin krn air sumur bor dan lokasi dekat dengan sungai. ⭐⭐⭐⭐', 'Kain kasur selama 4 malam menginap tidak pernah di ganti, dan asuh kurang dingin.', 'Kain kasur selama 4 malam menginap tidak pernah di ganti, dan asuh kurang dingin.', 'Plusnya, proses check in sangat cepat, pegawai ramah dan tanggap, breakfastnya enak. Minusnya, kamar mandi agak kecil, free snacknya tidak tersedia, remot acnya suka mati.', 'Ac kurang dingin ', 'ac kurang dingin', 'ac nya mati mati terus jdi mengganggu waktu istrahatnya', 'Semuanya oke, hanya saja AC kurang dingin. Terima kasih.', 'ac nya waktu saya menginap ada yang bocor di ac,selebihnya nyaman saya disana udeh 3 kali saya disana dan yang terakhir doang ac nya bocor', '#NAME?', 'AC tdk bekerja dg baik,  sy bhkn upgrade ke suite room,  ruangan tetap tdk dingin. Membuat sy tdk bisa istirahat ', 'Murah, nyaman, sinyal tv nya kurang bagus, wifi masih belum stabil, tidak ada keset, remote ac nya suka macet', 'Nyaman tp ac bocor', 'Yang berkesan pelayanannya ramah, yg kurang berkesan yaitu ac kamar meneteskan air dari bagian yg mengeluarkan angin. Solusi dari pihak hotel  yaitu menampung air tadahan pakai wadah.Semoga ke depannya bisa diperbaiki.', 'Lokasi sebenarnya strategis, kamar kecil terus AC-nya ribut, TV masih pake antena dalam bantalnya masih bau waktu saya kesana. Kamar kecil juga sempit.', 'cuma air kurang lancar dan ac kurang dingin', 'pelayanan baik. fasilitas baik. cuma ac kurang dingin.', 'ac dingin. air panas oke. tv bruwet', 'Luas kamar tertera 20 m2 kenyataannya gk sampe, dan ac kurang dingin, subuh kebangun karena gerah', 'ac kurang dingin..yang lainnya sudah ok', 'ac tidak dingin, airnya kecil. seharusnya sebelum ada yang booking diperiksa dl', 'untuk lokasi nya agak masuk disebelakang ruko, ketika saya sampai dsana jam 12 pintu sdh di tutup n perlu menelepon operator hotel, untuk kamar kondisinya kurang baik, ruangannya bau seperti habis di pakai, handuk berantakan, sabun mandi seperti habis di pakai, tempat tidur acak acakan n penuh rambut di atas nya, wc mampet tidak berfungsi, ada kaos kaki di laci lemari, dan kamar berdebu. untung ada wifi dan AC sehingga ruangan tidak terlalu sumpek', 'kemari, pelayanannya ga ramah. Kamar Panas. AC tidak dingin, KAMAR KOTOR. gaada sarapan. ', 'AC tidak dingin, lembab, ada kecoak', 'AC tidak berfungsi sempurna jadi panas.', 'AC nya kurang dingin. Di laman traveloka gambar kamar mandinya ada bathup nya tapi pas check in tidak tersedia bathup. ', 'pelayannan-nya ramah banget ❤️👍 dan kalau’pun kurang paham mereka menjelaskan lagi sampai kita paham, sarapannya juga enak ,hanya saja sedikit tidak bersih kasur-nya mungkin bisa lebih baik lagi kedepan-nya , AC -nya dingin 👍 ada air hangat-nya juga untuk shower, over all it’s good not bad 😊.', 'kamar nya kurang dingin Krn AC nya rusak. penanganan pindah kamar lama', 'Airy Progo adalah bangunan yang sama dengan Hotel Progo. sedang renovasi sehingga berisik. Breakfast siap jam 7, tdk ada perlakuan khusus jika check out seblm breakfast. Termasuk kami yg harus segera brkt seblm jam 6pagi. kamar luas,ac dingin,bersih. toilet tua dan tidak ada water heater. semoga lebih baik setelah renovasi', 'AC ga dingin, ga bs change kamar pula dan parkiran sempit hnya cukup 5 motor.  Cukup sekali kesini deh', 'Kamar tidak sesuai dgn foto, sangat sempit ac berbunyi berisik sekali', 'seprei banyak noda,AC tidak dingin,reception pagi sangat tidak sopan', 'So far good, cuma ruangan agak gelap dan AC nya tidak begitu dingin. ', 'Lokasi bagus dan strategis. lobby sangat minim. pintu kamar mandi tidak bisa di tutup. AC agak rusak...angka2 di AC macet naik turunnya. sandal tidak ada. cuma ini ...', 'awal udah senang karena dikasih welcome cokelat, tapi kecewa berlipat lipat karena kamar gk sesuai di foto dan ulasan pada traveloka, kamarnya bau , banyak semut di tempat tidur, AC gk nyala panas banget, menang di TV doang yg gede, kamar mandi gk sempat saya pake karena saya sekarang siap siap mau check out pindah hotel aja, nyesel udah bayar buat 3 malam dan gk bisa direfund', 'Kamar bersih ac dingin pelayannya ramah tapi yang kurang air panas kurang berfungsi halaman asri ', 'Sya puas menginap di hotel ini dari segi harga sangat terjangkau acbagus keaman bagus kebersihan juga bagus yang hanya air panas gak panas ', 'Overall nyamanlah. Lokasi dekat stasiun, banyak warung makan dan laundri si sekitar. AC dingin, kamar mandi lumayan tanpa pemanas, tv oke. Cuma agak sempit aja dan wifi tidak bisa diakses.', 'Menginap di kamar 611... Gedung hotel yg sangat bagus, resepsionis yg ramah, di dalam kamar yg bersih. Handuk hanya disediakan 2 yg besar. Ac tidak dingin. Wifi kenceng, dalam kamar mandi tidak ada keset jd agak basah basahan keluar kamar mandi. Sy dpt promo di harga 200rb lebih dikit... Untuk harga tersebut puas bgt....', 'sudah nyaman hanya saya air AC bocor sehingga membuat basah lantai di kamar tolong untuk service kamar lebh di perhatiin', 'AC mati hidup, dan kalau menyala suara AC nya berisik..', 'yang paling berkesan adalah suasana elegant di kamar trsebt  sehingga membuat nyaman untk bermlam yang harus di perbaiki keadaan AC , karna terjadi kebocoran air AC di kamar yang saya tempati', 'selama menggunakan airy rooms ini airy paling mengecewakan 1. wifi g connect ke kamar 2. pintu kamar mandi ga bs di tutup kalau tidak di kunci dr dalam 3. ac netes mulu/bocor 4. shower harus di pegang ga bs di taroh tempatnya 5 INI yang parah LISTRIK KAMAR MATI karena abs pulsa listriknya tp responnya kurang tanggap nih ga ada inisiatif cepet', 'Fasilitas yang ada sesuai dengan harga, walaupun AC memang kurang dingin..', \"WC isn't working, AC isn't cool, sumpek gerah dan bad lighting di kamar. Dikasih gantungan kunci yang jelek, terus jatuh dan patah, akhirnya malah kliennya disuruh ganti 100rb padahal kuncinya kaya kunci kamar biasa, cuma ada semacam gantungan kartu nomer \", 'Untuk AC tolong diperhatikan krn ruangn tdk dingin pdhl suhu 18 drjt tp AC tidak dingin...yg lain ok..', 'untuk kamar nya so far baik, lumayan bersih. dan luas. tapi banyak kurang nya.. waktu check in nya jam 2. kelamaan. hotel keseluruhan gak menarik, hospitality staf nya kurang banget, AC di kamar kurang dingin. sarapan mulai jam 7, menu nya juga gak menarik. atau kaya jajanan di warteg.. gak ada dessert nya.', 'walaupun hotelnya dipindahkan karena alasan renovasi (dan kamar saya sepertinya di downgrade), tp keluarga tetap merasa nyaman. ac dingin, kasur empuk, air panas ada, tp langit2 banyak sawangnya, kamar mandi juga, tp overall okelah', 'hotel ditengah Kota , mudah dlditemukan , dekat dengan pusat2 pertokoan dan perbelanjaan , Banyak pedagang makanan Dan minimarket , kamar bersih , AC dingin , handuk bersih , selalu tersedia peralatan Mandi Dari airy room dan snack , Kekurangan : selimut yg kurang tebal, seperti sprei kedua, kamar Mandi Yang kurang bersih, . tetapi cukup baik . . ', 'Bagus, hanya kurang pendingin ruangan. Cuma tersedia kipas kecil', 'Water heater tidak nyala & ac kurang dingin. Selebihnya pelayanan ok', 'wifi gk bisa dipake di dlam kmar & ac dlam kamar kurang dingin. thx', 'pelayanan bagus sangat ramah. cuma ac kurang dingin dan channel tv kurang lengkap', 'hotelnya bagus,pelayanan cukup dan kurangnya ac kurang dingin', 'Hotel paling parah!! tidak lagi dah menginap disini...kamar bau apek...handuk tambahan bau badan orang...sprei bau badan...ac panas...parahhhhh......!!! Komplain ke Airy Room tidak ada dispensasi apapun!!! Itu komen bagus2 mungkin orang sendiri yang isi...', 'Secara objektif harus puas dengan fasilitas dan pelayanan yang diberikan sesuai harga kamar. AC, TV, Toilet, Tempat Tidur bahkan ada Balkonnya, lokasi mudah dijangkau hanya saja kala itu ketika check-in sambutan kurang ramau menurut saya mungkin karena resepsionisnya tdk ada yg ada Bos nya jadi beda lalu lampu tidur dikamar mati. Overall Mantab!', 'pelayanan ramah, ac dingin, tapi kesel nya ketika reservasi saya tidak terdaftar di hotel tsb, dan tv hotel yg remotnya tak berfungsi. ditambah penjaga kantin yang tidak memberikan kembalian tnpa berbicara apapun', 'untuk AC di harap bisa lebih baik dan bisa di kondisionalkan kembali... terkadang AC tidak bsa d remote.. untuk air panas supaya di aktifkan...', 'Kasurnya keras. AC dingin Suasana nyaman. TV banyak semutnya. Lokasi di pinggir jalan besar jadi aksesnya mudah.', 'Pelayanan baik & ramah, breakfast jg bisa diganti pke sahur dan diantar ke kamar. Sayang wifi sm ac nya ga jalan ', 'AC tidak dingin....tidak tersedia selimut', 'pelayanan yang memuaskan bagai di rumah sendiri, ac harus sering di cuci agar dingin. ', 'kamar luas, nyaman, minus ac kurang dingin. selebihnya memuaskan. ', 'kamarnya bagus, rapi, enak , AC nya aja yang kurang halus suaranya, sama pelayanan kurang memuaskan. dan, kalau sarapan itu harus guest yang minta, apa harus sudah disediakan ya? ', 'Cek in lancar tapi ac nya tidak dingin', 'ac nya kurang dingin ', 'Ac kurang dingin, kondisi lantai kamar mulai bergelombang. ', 'luas. nyaman. AC dingin. ada balkon. tv kabel. lokasi deket buat ke bintaro exchange, cm kurang di stiker arah kiblat dan ga ada cafenya', 'AC di 303 gakada rasanya sama sekali. sampai ganggu tidur, tolong dicek. Overall oke.', 'kamar wangi sekali. bersih. nyaman. cuma satu ac kurang dingin mas :(', 'pelayanan bagus tp 1 kamar yg di pesen ac ga dingin dan kmr mandi bau', 'nyaman cuma sayang AC nya bocor parah', 'ac kamar berisik, staf hotel tidak ramah, makanan kurang sip', 'kami pindah kamar sampai 2x gara2 ac di kamar yg pertama mati, yg kedua g dingin dan disuruh tunggu ', 'kamar panas meski ada ac, proses check in tidak lancar karena bertepatan dg penjaga penginapan sedang tidak ada di rumah. ', 'letaknya mudah ditemukan, dekat dengan tempat makan, tapi AC tidak terlalu dingin, lampu ada yg gak bisa nyala, WiFi juga gak sampe ke kamar, sinyal hp juga susah', 'Receptionist ramah,  kamar luas, ac dingin perlengkapan ala @Airyroom di sediakan kekurangannya: bed lamp,  room line,  tdk berfungsi,  chanel tv putus sambung,  pilihan terbatas, kebersihan hotel kurang sekali,  terutama kamar mandi pool spt tidak tersentuh dibiarkan kotor. ', 'Kecewa bgt, di mulai dari pelayanan di awal nya yg lelet bgt ngasih kunci kamar, penjaga nya malah berantem dulu, kamar yg kotor (  kaya jarang di bersihin ) debu dimana mana, peralatan tidur nya bau apek, AC rusak kamar mandi nya kotor bgt, gaada peralatan mandi kaya di airy yg lain, pkoknya kecewa bgt gak sesuai sm yg di tawarkan di aplikasi airy', 'Saya sering nginap disini biasanya nyaman, tapi kmrn saya nginep 2 hr dapat kamar no 22 AC panas tidak berasa , tidurpun sampai keringetan ', 'Acnya kurang dingin .. Selebihnya baik', 'Cukup nyaman.  AC agak kurang dingin.  letak kamar di lantai 3, no lift.', 'sangat mengecewakan. complain tdk ditanggapi ac dari awal check in sampe check out per 2 jam ac mati. untuk breakfastnya nasinya kurang enak', 'Ac Rusak panas ....Toilet rusak....', 'pelayanan bagus tapi fasilitas nya gak enak,  ac kurang dingin, tv channel nya terbatas, toilet dan kamar kotor, banyak nyamuk tidur gak nyaman', 'hanya kamarnya bau rokok dan air kamar mandi bocor ke kamar serta AC kurang dingin. Maaf komplain supaya dijaga kualitasnya', 'AC Tidak Dingin gak ada usaha lanjutan dari karyawan, kebersihan sangat sangat kurang.. baru kali ini kecewa pake airy..', 'AC nya panas', 'Sungguh liburan yang sangat mengecewakan, pelayanan yang sangat buruk dan staff yang tidak care terhadap guest. dalam 1 hari menginap 2 masalah terjadi menghampiri saya, 1 HP saya terkena tetesan air dari AC Trouble. 2 Mobil di parkiran di serempet mobil guest lain, saat security di tanya jawabannya hanya tidak tau 😒.', 'pelayanan sangat memuaskan tp pendingin ruangan 803 kurang dingin perlu pembersihan terimah kasih', 'pelayanannya baik dan ramah,room nya bersih dan nyaman tp ac nya gak dingin....', 'tempat tidur dan ruangan bersih hanya ac tidak berfungsi dgn baik', 'Ac nya kurang dingin ', 'kamar kotor dan ac panas . saya langsung checkout terimakasih', 'ac nya sudah cukup lama sampai ga dingin .yg lain nya okeee', 'nyaman,murah,bsh,,,semuanya sdh oke,snack,air mineral,tv,air pnas,ac,perlengkpan mnd. tinggal ac yg krg dingin.', 'jauh dr ekspektasi.. untung menginap diskon dr airy jd ga trlalu rugi. lantai terkelupas, seprei sprti tdk di cuci, selimut seperti seprei sgt tipis. remot ac tdk berfungsi. bahkan handuk sj hrs minta trlbh dahulu. snack tidak ada, hnya air mineral. sbtulnya klpn ada sy jrg makan, tp bukankh itu sdh standard dr airy? tdk disarankan jk hrga normal.', 'overall enak nyaman cuman ac di perbaikin dong kurang dingin', 'AC bocor, keran wastapel rusak, kamar kurang bersih', 'receiptíonist ilang2an, aturannya terlalu byk beserta denda2, proses check in dan check out ribet karena aturannya byk. kamar bersih tp Ac nya gk dingin', 'Ac harus dicek secara Berkala, tanpa harus menunggu customer Complained, terimakasih ', 'Kamar sempiiiiiit, bau rokok sangat menyengat, kotor, AC bocor, WC mampet, cukup sekali seumur hidup untuk nginap di sini😭 Paraaaaaah.', 'memuaskan tetapi ac nya berisik', 'Secara keseluruhan bagus dan nyaman, hanya saja ac kamar yg saya tempati mengeluarkan air', 'Remote ac tidak berfungsi. Ada kecoa dan kaki seribu dimalam hari. Porsi sarapan sedikit. Ada bekas rembesan air di langit-langit kamar dan di dinding nya. Akan tetapi, dengan harga yang relatif murah untuk single room, kamar ini cocok untuk para budget traveller. ', 'Tempat tidur kotor, ada bercak darah dan debu. AC tidak bisa dingin. Kamar mandi juga tidak bersih. Handuk harus diminta dulu baru dikasih, itupun salah satu handuk masih dalam keadaan lembab. Ketika menginap sempat mati lampu, dan ketika malam lampu tidur mendadak rusak. Lantai vinyl rusak sehingga lantai lengket karena lemnya kemana-mana. Kecewa.', 'Tempat tidur kotor, ada bercak darah dan debu. AC tidak bisa dingin. Kamar mandi juga tidak bersih. Handuk harus diminta dulu baru dikasih, itupun salah satu handuk masih dalam keadaan lembab. Ketika menginap sempat mati lampu, dan ketika malam lampu tidur mendadak rusak. Lantai vinyl rusak sehingga lantai lengket karena lemnya kemana-mana. Kecewa.', 'Acnya model jadul.. Berisikkk parahh bkn susah tdur n kurang dngin.. Dtmbh lg air panasny cm brfungs', 'bersih tapi ac tidak dingin mesti di service lagi ', 'bagus.. sesuai expectasi. hanya AC kurang dingin. mgkn butuh servis saja', 'kasurnya kecil, snacknya terbatas, ac kurang dingin. gak bagus kalau utk berdua. terima kasih', 'pengalaman hotel terburuk, pintu hotel jelek, ac tua kurang berfungsi, 1 hari pertama tidak disediakan selimut, selimut juga kotor, sprai dan tempat tidur kotor, tempat tidur juga ga spring bed, ventilasi wc jelek, jadi bau, air kotor, lantai kayu, tv kecil lama tidak terurus, pelayanan juga tidak memuaskan, hotel airy terburuk yang pernah ada.', 'ac nya aga bau ', 'kamar dan lain2 bagus cuma ac nya selalu kurang dingin', 'lokasi masuk gank jauh ac tidak dingin tp ada kolam renang dan dapat breakfast', 'lumayan lah lg byk diskon, cuma kondisi kunci kmr yg sy tmpi sudah rusak jd manual, batre ac abis tp', 'ac tidak dingin, pelanggan kepanasan, kamar mandi kotor', 'Ac tidak dingin, fasilitas hotel tidak bagus', 'sangat mengecewakan, kamarnya kotor apalagi di atas lemari sampah berserakan, shower ga da jadi mandi pake timba itupun kita complain slow respond harus nelfon pihak airy dan owner. sangat kecewa sama airy room standarnya ga sesuai sama yang di harapkan. 1. ga da shower 2. ac ga dingin 3. ga da air panas 4. selimut ga sesuai standar. MENGECEWAKAN', 'AC mati, tidak ada keset, pelayanan kurang', 'Ac tidak dingin, sangat kurang nyaman.', 'Ac ga dingin', 'Kamae Mandi kurang bersih, ada puntung rokok. kamar tidur jg bau tidak sedap, AC kurang dingin... View kurang enak jg.', 'tidak ada wifi , tv tidak dapat menyala dikarenakan kabel antenanya diputus, ac nya lama dingin  din', 'Biasa aja. Remote ac ga berfungsi. Baru kali ini saya kecewa dgn airy. Biasanya dapet souvenir dari airy, yg ini boro boro, welcome snack aja ga ada ', 'Keren.  Cuma AC nya aja kurang dingin', 'ac dingin pelayanan lumayan baik. namun selimut dan bed agak kotor. kamar juga berbau ( moldy )', 'Pelayanan ramah tapi kondisi kamar sangat kurang nyaman. Gelap, kurang bersih, AC berisik.', 'AC nya rusak tidak berfungsi mohon di perbaiki (saya menginap di kamar K / L ).', 'Dari segi kamar cukup baik bersih nyaman,  tetapi utk ac nya berisik dan yg utama utk kamar mandi airnya jadi banjir apa bila setelah mandi pembuangan nya tdk sempurna hampir masuk ke ruang kamar dan juga licin sehingga tdk nyaman sekali, utk makanan tdk enak, tdk bervariasi ', 'Kecewa banget sih di hotel ini, ac mati, jelek lah pokoknya ga nyaman gua nginep di situ dan kalo booking airy ga bakal disono lagi cih', \"sangat puas dengan fasilitas kamar yang diberikan. cuman ac nya sering berbunyi. agak mengganggu saat istirahat. but over all it's good... sarapannya juga oke.. \", 'Ac hanya bisa di temperatur 24 derajat. TV ga bisa nyala. Tapi wifi ok sih.', 'Pertama datang ada serangga di kasur saya, ac tua jadi berisik, pelayanan staff seperti bintang lima', 'AC kurang dingin ', 'lift mati, ac tidak dingin, kamar lantai 3 dan kalo mau naik turun capek sekali', 'ac panas, front office kurang ramah', 'ac kurang dingin', 'kamarx sesuai gambar cuma lampux gak ada lampu terang yg ada cuma lampu redup, ac nya kurang dingin bahkan gak dingin , air panasx gak hidup ', 'resepsionis yang ramah, tapi acnya kurang dingin', 'sesuai expektasi, pelayanan bagus,sarapan enak, kmr bersih tp ac kurang dingin', 'Lumayan nyaman, cuma ac kurang dingin dan kebersihan perlu ditingkatkan', 'ac tidak dingin,  bangunan lama, naik ke lantai 3 dgn tangga, no Wifi,  service dari para petugas hotel yang kurang memuaskan, kualitas kebersihan kurang,  tidak seperti layaknya kualitas hotel airy lain nya, mohon standard hotel airy room lebih di tingkatkan lagi, terima kasih', 'Ac nya panas', 'kamar bau, bantal bau apek, ac ga dingin,,, ', 'jelek ac gak dinging', 'kamar kurang bersih .. air nya kecil dan sering mati. banyak nyamuk. area nya berisik. banyak anak anak muda berprilaku kurang menyenangkan. ac lumayan dingin. pelayanan cukup baik.', 'Fasilitasnya lumayan lengkap ada air panas, tv, snack, AC, dan peralatan mandi, kasur empuk, parkiran tapi yg kurang itu sarung bantal yg warnanya kusam jadi terkesan usang dan kotor, cat tembok yg mulai mengelupas dan selimut yang tipis....overall lumayan bagus untuk harga segitu kedepannya mungkin lebih ditingkatkan lagi untuk fasilitas kamarnya', 'overall nyaman, tapi di kamar saya AC nya agak rusak jadi tidak dingin', 'Kamarnya bersih dan unik, tapi sayang posisi tempat tidurnya diatas gitu, jd stiap ketinggalan barang harus naik dlu, trus kalau ke toilet hrus trun tangga. Naik turun tangganya bkin capek. Trus pas awal dtang AC g dingin trus tanya mba disana katanya rusak, tunggu service nya datang, pas tukang service datang ternyata AC nya g rusak.', 'tempat nyaman,cuma tidak ada keset didepan kamar mandi dan AC nya berisik', 'Ac nya tidak dingin', 'Cuma wifinya bermasalah itu aja . Dn AC nya kurang dingin mngkin  dah lama gak di cuci', 'Kamarnya gak sesuai dengan yg di tampilkan, acnya gk begitu dingin. ', 'lokasi beda dengan spot hotelnya. muter2 nyari sampe 20menit. nanya orang sekitar jg ga ada yg tau. ternyata cari yg namanya hotel 68 saja. orang baru tahu. kamar super mini. tidak ada lemari dan ac kurang dingin walau sudah di set 16 derajat. kamar mandi blm bersih dan masih bau sehingga harus disiram tiap sela. keamanan baik dan ramah', '(+) kamar besar, baru, bersih. hari ke 1 AC tdk dingin, tp diganti pihak homestay dgn kamar yg lain (-) tdk ada lift, wifi lambat, Breakfast cm dikasih 2 piring. sesuai dgn harganya.', 'saya kecewa banget dengan fasilitas di airy eco sawah besar kartini jakarta. semua fasilitas tersedia tapi tidak bisa dipakai semua contoh telpon yg didalam kamar tidak bis di gunkan , AC remot nya tidak ada jd tidak bisa atur suhu saat kedinginan , remot tv juga pas baru masuk kamar tidak tersedia .', 'AC kurang dingin, beberapa lampu ada yg tidak menyala.', 'Penginapan kurang terurus, mesin air panas mati, selokan air di kamar mandi macet, remot AC eror dan gak bisa dingin, remot TV jg eror, channel TV 6-7 aja. pertama kalinya pesan di airy yang kesannya menyesal, padahal yang sudah2 baik2 aja.', 'Tempat tenang... Cuma ac kurang dingin ', 'so bad, booking udh jauh hari pas check in dpt room yg ac nya rusak parah, dsuruh nunggu sampai perbaikan ac selesai, proses pemindahan kmr dr jam checkin itu 2 jam. udh lelah mau istirahat malah disuruh tunggu. alasan kamar full jd ga bs pindah kmr. setelah complain ke airy, baru tindakan pemindahan kmr dr pihak hotelnya. listrik bolak balik mati', 'Seprai berdebu dan cenderung kusam. Remote AC ga berfungsi. Lantai kamar mandi licin bahkan dalam ke', 'harganya sih murah,  tempatnya tenang,  teduh, ada kolam renang dan ac. namun bedcover dan sprei terasa belum di cuci,  kamar mandi alirannya tdk lancar krn sistem aliran lbh tinggi, lantainya berdebu dan botol minum bekas penginap sebelumnya di kamar harusnya dibuang. semoga lbh ditingkatkan lagi ya..  ', 'ga recomended ac panas, bantal bau, dan ruangan ga sesuai yg di gmabr. beda bgt. thx airy', 'ada kolam renang meskipun hanya utk dewasa saja, ac dingin, tv kabel oke, dapat minum dan snack, dan alat mandi plus sisir, sayang kamar mandi agak bau, dan kamar tidak kedap suara, fasilitas ada musola, lift dan kolam renang nilai plusnya, overall oke sih, terimakasih airy', 'Hotelnya bgs viewnya.Tapi AC mohon di perbaiki agar dingin supaya tamu tambah betah lagi.', 'SAya menginap tidak full satu hari krna beberapa hal : 1. Bantal yg disediakan tidak layak (keras,  wrna bantal coklat, ukuran kecil) 2. AC perlu di cek lg krn bunyinya keras didlm ruangan dan suhu sdh 18 tidak terasa dinginnya. 3. cat tembok di kmr mandi perlu diperbaiki lg krna byk yg mengelupas 4. air panas lama keluarnya kira selbh br kluar. ', 'ac tidak dingin,air sower kecil..', 'untuk harga 150rb cukup baik. walau AC nya ga dingin😊😊 tp pelayanan yg punya rumah cukup baik. ternyata dapat snack jg😊😊', 'lumayan buat budged rendah.. tapi acnya kadang tidak sejuk, jadi kurang nyaman waktu istirahatnya. terima kasih', 'acnya ga dingin, tombol flush toiletnya nyangkut terus jadi harus benerin sendiri. udah pindah kamar sama aja, eh malah air showernya bau got..', 'Gak nyaman banget, krna Ac nya rusak, gak dingin trs suka mati sndiri dlm beberapa wktu, trs airnya gak mengalir dgn  lancar suka ngadat. Kebersihan msh oke, cuman sayang gda tempat penampung sampah. ', \"Fasilitas yang dijamin Airy vs kenyataan: 1. TV: chanel banyak, tp tdk ada remote 2. Free Wi-Fi: ada, tp koneksi sangat lambat bahkan utk aplikasi pengirim pesan pun tdk bs digunakan 3. AC: memuaskan 4. Comfy & clean bed: hanya 'clean' 5. Hot& cold shower: hanya 'cold' 6. Amenity kit: memuaskan 7. Free mineral water: memuaskan\", 'Saya dan rekan saya kecewa dengan keadaan kamar no. 16 fasilitas AC yg ada sangat sangat tidak berfungsi. Bahkan di luar kamar lebih dingin drpd d dalam kamar. Rekan saya pun akhirnya memilih tidur di dalam mobil.. Saya dan rekan tidak akan pernah menginap di Ananda lagi. Cukup. ', 'air panasnya ga ada,lalu sebaiknya diberikan lobang agar tidak banjir,didepan kamar mandi juga tolong berikan lap kaki,tv jg diberikan remot ya...acnya juga ga dingin.', 'Sederhana cuma AC-nya salah pasang tuh jadi tidak ngaruh ke ruangan.', 'AC tidak dingin, kelengkapan Airy musti diminta', 'Panas sekali waktu malam. Wifi nya tidak berfungsi', 'ac tidak dingin.air panas tidak pungsi', 'Kotor kurang bersih, ac bocor dan service sangajt kurang baik. Kurang nyaman di depan pagar banyak masyarakat yg melihat. Dan hodreng juga sobek sangkat tdk bagus', 'AC kurang dingin, listrik bunyi-bunyi mulu bikin tidak pules tidur, kunci pintu susah buat buka sama munutupnya ', 'Ac tidak dingin,  tidak ada sendal hotel,  wasteful air mati,  lainya oke view bagus.... ', 'kamar kotor, Ac tidak terasa apa apa, toilet udah karatan, Air asin,tv tidak ada warna, customer service tidak mempersiapkan kamar sebelum orang datang untuk menginap', 'AC kurang dingin, tapi ada cemilan dan sekitar tempat penginapan banyak tempat makan. Kamar mandi bersih tapi tidak ada saluran udara keluar dari kamar mandi.', 'kamar bersih, ac dingin, tv berfungsi. tapi pintu kamar mandi tidak bisa dikunci. resepsionis kurang ramah toiletries hanya diberi 1 untuk 3 hari padahal harusnya tiap hari dapat.', 'Sudah cukup baik, tapi fasilitas kamar masih kurang, sepetti TV, kamar mandi, ac tidak dingin, dan meja yg terlalu kecil, ', 'kamar bersih,  ac gak kurang dingin.. so far so good 👍', 'tidak ada yg berkesan.. AC kurang dingin Snack box kosong Kunci kamar tidak berfungsi, harus memakai kunci master dari resepsionis Tissu toilet habis Air panas kamar mandi tidak berfungsi', 'Lokasi strategis dekat mall, ac dingin, pelayanan ok tp toilet agak bau dan remote tv tdk berfungsi dgn baik', 'Tempat tidur nyaman, ACnya cukup dingin. Tetapi water heaternya agak lama buat air panasnya.', 'AC ga dingin, kamar kurang terang, sehingga seperti agak kotor. Tp untuk harga segitu, termasuk oke. Lokasi strategis, ada waterheater', 'Ac kurang dingin', 'Hotel dengan nuansa interior tradisional. Lokasi strategis dengan akses ke berbagai moda transportasi mudah,, dekat dengan mall dan food court. Kamar sempit dan AC yang berisik mungkin itu saja yang menjadi kekurangannya.', 'ac nya lama baru dingin terus pas tidur kedengeran suara mesin air', 'ACnya ga dingin. semoga diperbaiki utk ke depannya..', 'KECEWA BANGET. GA WORTH IT. fasilitas ga lengkap, ga ada air minum dan tas peralatan mandi airy. tempat kumuh bau kotor, padahal harga 125rb. lemari rusak ac ga dingin lantai kotor. ga ngerti kenapa airy bisa masukin penginapan kayak gini. pdhl udh sering nginep di airy dan yg harga 125rb cukup bagus. gak usah nginep disini, cari yg lain aja.', 'kamar jelek kasur pernya amblas. ada ac tapi tidak berfungsi jadi panas udah kayak tidak ada udara', 'AC nya Panas gak berfungsi. Offer all sih ya oke lah.', 'Air agak bau, AC berisik jadi terganggu ', 'Ada beberapa room yang Acnya tidak dingin', '1. Air keran kamar mandi MATI. 2. Parkiran motor SEMRAWUT 3. Kebersihan luar dan dalam gedung sangat KOTOR. 4. AC kamar lama sekali dinginnya. 5. Pelayanan resepsionis KURANG peduli. 6. Foto di iklan tidak sesuai dengan kenyataan (Dari semua aspek).', 'menurut saya hal yang paling menonjol di sini yaitu wifi yang super duper ngebut, lancar jaya. bed empuk sprei bersih. handuk wangi, tempat bersih, kecuali toilet sedikit kotor namun tidak jadi masalah. saluran telivisi masih sedikit. AC-nya tidak berasa. penilaian ptibadi saya 8,5/10', 'saya mginap di hotel rahayu.AC x kurang dingin WC x kotor terus sarapan pagi telor ceplok tidak memuaskan', 'banyak nyamuk, air mati lalu nyala tapi berwarna kehitaman, hot shower tidak berfungsi, wi-fi tidak tahu passwordnya, snack dan minum tidak diberi kalau tidak diminta. Namun kamar cukup nyaman, tenang, ranjang empuk, lokasi dekat dengan warung makan dan restoran, ac dingin, ada dispenser untuk air panas didalam kamar, ada toiletries dan handuk juga', 'overall oke, tapi hanya minus satu ac kamar 301 sama sekali tidak kerasa dingin. mohon untuk di service, tks', 'Ac kurang dingin dan banyak nyamuk :(', 'alhamdulillah nyaman,..cuma ac mungkin perlu rajin di cek dan service,..suaranya agak keras dan kurang dingin... overall ok', 'Kamar berisik karena jetpump. AC tidak berfungsi dg baik, udara pengap dan panas..', 'AC nya kurang dingin, selimutnya sangat tipis.', 'breakfastnya enak, staff dan pelayanannya sangat ramah, hanya Ac yang kurang dingin', 'air yang diwastafel gak nyala .... AC kurang dingin.', 'awalnya sy mendapat kamar yg AC nya ga berfungsi dingin. Dan saya komplain ke receptionist, lalu sy dipindahkan ke kamar yg lebih bagus. kamarnya yg baru itu nyaman, bersih, ada cahaya matahari yg buat segar, ada snack, air mineral, peralatan mandi, dsb. saya puas 👍', 'kamar kurang bersih ... ac kurang dingin ...  mungkin karena hotel lama ya', 'kamar mandi sepertiny kurang layak... wc mampet,  wastafel jg mampet saluran air nya... pintu kamar mandi ditambal pake kantong plastik semoga bs diperbaiki ke depan nya... ac kurang dingin... ', 'check-in cukup mudah dan cepat tapi pertama dapat kamar AC-nya sama sekali tidak dingin tapi begitu komplain langsung dipindahkan, Pelayanan staf cukup ramah tapi ruangan agak sedikit kotor (meja lantai berdebu).', 'biasanya klu nginap di airy tersedia dlm kemasan lengkap.kebuthn MCK.....di hotel ini sisir tdk ada...AC tidak normal ruangannya panaas, Kuncinya pintu juga tdk di kasi ke saya pada hal sdh deposit 100.000 jadi klau saya kluar dan kembali k hotel petugs yg buka pintu tdk profesional.....tlg utk di perbaiki trima.', 'Ac kurang dingin', 'Ac kurang dingin', 'ac tidak berfungsi dengan baik, gerah', 'AC tidak dingin, kamar mandi bau', 'TV remote krg berfungsi, AC remote tdk berfungsi, wastafel kecil air nya.', 'Remote ac ga ada, bingung nyari mbanya malem2', 'sheet dan handuk nya perlu diganti, channel tv ga bs diakses sebagian..  pintu geser lemari seret bgt,  jatuh ketika digeser..... wifi kenceng, ac dingin, kolam renang bersih, ada snack nya ☺', 'Ac nya tdk adem ', 'sdh ke 2x nya nginep dsni,dn msh sama kamarnya bersih ac dingin,cuman sayang tv nya masih bintik2 dn chanelnya cuman 2 sh hhehhee, jdingk bisa ntn tv juga, selain tu sh oke semua', 'Kamar 209 AC nya tidak dingin', 'Tgl 9 Juni 2018 saya menginap di salah satu kmr di lt.2 (lupa no kmr-nya) dan sangat kecewa krn AC yg sama sekali tidak dingin sehingga tidurngak nyenyak krn panas san flushing kloset yg rusak (tidak bisa di flush). Payah dan sangat tidak recommended', 'ac kurang dingin dan lantai kamar mandi mohon dibersihkan sblm tamu datang.', 'nyaman... tapi ac bocor ', 'Ac nya tidak dingin d tambah tidak ada ventilasi udara yg bkin pengap dan panas juga banyak nyamuk yg bkin tidak nyaman', 'Tempat ramai dan tidak susah cari minimarket karena ada indomaret dan alfa. Akses pinggir jalan. Customer servicenya ramah sekali. Cuma AC-nya pas subuh tiba-tiba kurang dingin harga dengan fasilitas good.', 'Kamar nyaman. AC dingin. Kamar mandi kapsul yang saya kurang nyaman. Tidak ada toiletries dan airyrooms compliment snack di room.', 'Banyak bantal, tapi semuanya bau. Arus tiba-tiba di off kan, supaya AC mati. jadinya gerah. Stop kontak hanya 1 titik, Untuk ruangan yang lumayan luas itu kurang. Saran, tingkatkan kebersihan. terima kasih', 'Kamar bau dan jorok, sprei bekas tamu dan lama tidak diganti-in, AC tidak dingin, kamar mandi jorok dan rusak, makanan tidak enak, TV kuno dan rusak, gorden bau sekali, bantal bau. Masuk kamar langsung bau tidak sedap;penerangan kamar dan sekitarnya gelap', 'air panas nya gak ada, selebihnya bagus ,... AC mati tengah mlm ', 'view bagus pelayanan bagus cm ac aja kurang dingin', 'tempat nya nyaman bersih. cuma AC nya kurang dingin', 'AC tidak jalan dan kamar tidak sesuai gambar', 'Tempat nya nyaman hanya mines AC kurang dingin', 'Ac kamar kurang dingin.. selebih ny okk', 'Overall bagus, cuma AC kurang dingin.', 'kamar sisa , AC panas. pelayanan minimal..', 'banyak komplein dr team saya kemarin.. ada beberapa kamar yg ac ya kurang dingin.. sprei ya agak kotor.. dan kalau bisa ada fasilitas air panas yaa.. yg plus ya.. petugas ya ramah dpt berkoordinasi dgn baik..  dan ada fasilitas Mobil golf untuk mengantarkan barang ke kamar yaa.. semoga menjadi lebih baik lagi yaa ', 'cukup murah dan strategis, sayangnya ruang terasa panas karena acnya bocor keluar pintunya tidak tertutup dengan baik', 'Cukup nyaman, rapih dan bersih. Hanya saja AC kurang dingin. ', 'ac sepertinya harus diservice..', 'sdh baik... hanya ac kurang dingin.', 'good..cuma AC nya kurang dingin ', 'kecewa tempat kotorrr, ga ada air panas, shower tdk berfungsi, tempat tidur dan sprei kotor, tv dan AC bocor dan tidak ada remotenya, kulkas mati tdk berfungsi, sarapan pagi tdk dikasih, semuanya tidak sesuai yg ditawarkan....tidaka puasss', 'sangat tidak layak, tua, berdebu, panas, pake kipas angin,, sangat kecewa', 'Kamar lumayan besar namun AC kurang dingin. Air di toilet mampet', 'Di kamar 301: AC-nya kurang dingin, air shower di kamar mandi mengalirnya kecil, Air di kamar mandi tidak bisa menggunakan air hangat yang ada hanya air panas dan dingin saja. Saya percaya management hotel bisa segera memperbaikinya.', 'AC nya kurang dingin', 'AC tidak dingin, nampak kotor, tidak direkomendasikan.', 'Kamar kotor, seprai warnanya kuning-kuning, bantalnya seperti batal lama/rusak bagian dalamnya, meja kamar rusak-rusak seperti meja bekas, AC tidak berfungsi baik, kamar kotor, penjaga hotelnya jutek-jutek. Tidak recommended deh.', 'Kamar mandi pengap karena blower tidak nyala, handuk kotor, AC tidak dingin paling rendah suhu 25°C', 'Kamar kotor, seprai warnanya kuning-kuning, bantalnya seperti batal lama/rusak bagian dalamnya, meja kamar rusak-rusak seperti meja bekas, AC tidak berfungsi baik, kamar kotor, penjaga hotelnya jutek-jutek. Tidak recommended deh.', 'nyaman dan bersih tapi hanya 1 kurangnya AC nya kurang dingin..', 'Kamar panas, AC tidak dingin. Tempat semacam kurang layak.', 'Kamar tidak sesuai dengan yang diiklankan. Kamar gelap, pengap, AC juga rada berisik, kamar mandi tidak bersih, lantai kusam, sprei kucel. Kamar ini seperti kamar sisa. Bahkan di ruang tengah tempat mengobrol ada kucing berkeliaran karena piring bekas makanan tamu masih berserakan. Ini pengalaman menginap kami yang terburuk sepanjang kami menginap di beberapa tempat baik dalam/luar negeri.', 'Kamar bagus,rapi,bersih dan wangi tapi sayang kamar yang saya tempati ac nya tdk dingin dan air panas nya juga makannya tidak enak dan porsi nya sudah di takar', 'tempat nya bersih wangi rapi. yang bikin kecewa AC nya bocor alias rusak jadi kurang dingin', 'murah sih tapi jg coba coba bawa anak bahaya tangganya tinggi kalau anak jatuh selesai dah game over,ac-nya juga gak dingin....foto fotonya coba lebih real jd konsumen tidak salah book atau terlanjur bayar kesihan......kalau nginep sendiri is ok tapi gak kalau bareng keluarga.....', 'room yang diberikan tidak ada compliment, reception yang sangat kasar dalam memberi info room kepada customer. alat mandi & Handuk hanya 1.  AC bocor,Selimut Hanya 1. (padahal saya menginap 2 org) ....Tlg lebih baik lagi ', 'ac bocor, kurang bersih, kamar agak sempit. tlg di perbaiki', 'Tempat horor banget... Kotor.. Kamar mandi kotor, air banyak cu.. Alias kotor.. Tembok mohon di cat ulang.. Ahh pokoknya harus banyak yg diperbaiki sih.. Dari kamar, ke bersihan Lantai, ac, toilet, Tempat tidur.. ', 'staff tidak ramah, kamar bnyk nyamuk, air mati, ac tdk dingin.  masih ada perkakas tamu sblmnya yg tdk dibersihkan dg detail', 'ac nya sering mati sendiri', 'hotelnya sempit, ac nya panas, dan listriknya tatau mati jadi mau gamau harus ganti kamar. ', 'Fasilitas kurang memuaskan...saluran televisi cm ada 3 saluran, AC kurang dingin. Karna kurang memuaskan saya jam 5 sore sudah cek out, masuk jam 2 siang keluar jam 5 sore.', 'kesan menginap airy rooms eco tj duren timur jakarta barat : 1. receptionistnya kurang ramah 2. kondisi kamar kotor dan pengap 3. kondisi AC tidak dingin 4. banyak semut dan kecoa dikamar mandi 5. kotor ', 'AC kurang dingin, bantal bau iler', 'Kasur ada kutu nya, dan badan saya jadi gatal gatal.. Dan ac sama sekali tdk dingin', 'Lokasinya bagus, namun kondisi kamarnya cukup memprihatinkan. Mulai dari bau apek, AC yang berisik, cat dinding kamar yang terkelupas serta banyak noda, tidak ada perlengkapan mandi seperti handuk dan sikat gigi, tabung penyiram kloset tidak berfungsi, tidak ada kursi di dalam kamar dan sarapannya hanya satu pilihan yaitu nasi dengan menu seperti makan siang. Namun ini hal yang wajar mengingat harga yang paling murah dari kelas hotel bintang dua yang ada di Medan.', 'ac ga dingin sama sekali. kamar mandi banyak kerak. sprei noda dan bau. handuk cuma 1 kecil dan warna kusam. semua furniture kotor.', 'AC nya panas dan tidak dingin, dan juga kurang bersih', 'lumayan bagus dan terasa aman cmn AC kurang dingin aja..... salam.... ', 'Lokasi strategis, cuma ada jam malam. Jalan di portal di atas jam 10 malam. Ini menginap yang kesekian kali. Cuma yang terakhir agak mengecewakan. Karena AC mati, jadi panas sekali. Handuk dan perlengkapan mandi cuma satu, padahal harusnya dua. harus minta dulu baru dikasi. Wifi nya mati. Remote TV mati, ganti chanel ga bisa, karena TV ga ada tombol manualnya. sebelumnya ok-ok saja disana. tp pengalaman terakhir mengecewakan.', 'Awalnya cuma pengen coba dan membuktikan review nih hotel dan...taraaaaa...ternyata bener nginep dsini ga nyaman. Mulai dr kasir yg ga ramah sama sekali dan ga pasang senyum (please deh klo lg badmodd atau PMS better ambil cuti) dan ga ada CS yg stay ditempat jd kudu cari2 dulu, AC kamar yg ga dingin sampai kamar ga bs dikunci jg makanannya yg buat sya pribadi kurang enak...and finally terima kasih buat para tamu yg uda berbagi pengalaman....', 'air keran keluarnya kecil & rasanya asin, mungkin karna dekat daerah laut & sedang kemarau. jadi harus nampung dulu kalo mau MCK. handuk hanya tersedia 1, padahal orangnya 2. tempat masih dalam perbaikan, jadi kurang nyaman. jendela tidak ada tirai, jadi keliatan dari seberang. stop kontak hanya tersedia 1 untuk televisi, jadi kalo mau charger hp,kabel  tv harus dicabut. AC kurang dingin, padahal sudah 16°C. ada lemari pakaian yg besar, tapi tidak ada hangernya. keset tipis, jadi kalo mandi kesetnya ikutan basah. Ulasan diatas mungkin banyak minusnya, tapi sesuai lah dengan harganya. terimakasih.', 'ac gk dingin, sumpek, toilet mampet.', 'bagus. ramah staffnya. cuma kamarnya agak sempit, sesuai harganya sih karena murah. ac kurang dingin. ', 'Kamar bau rokok,perlu ventilasi.Lokasi dekat kantor imigrasi sangat strategis.Air hangat stabil,WC bersih.AC normal.Pelayanan ramah.Lokasi hotel agak sulit ditemukan karena lokasi hotel menjorok kedalam.Lift berjalan normal.Terima kasih', 'Lokasi strategis, tp fasilitas kurang ac tidak dingin dan bocor ,air panas tidak berfungsi dan selama saya 3 hari menginap kamar tidak pernah d bersihkan. Agak mengecewakan 😏😏', 'kebersihan kamar hotel baik, ac nya dingin, tempat tidur & selimut spreinya bersih dan nyaman. tapi, kamar mandinya krg bersih, wastafelnya mampet, untung ada air hangat buat mandi. keamanan hotel bagus, tempat parkir luas', 'kamar sesuai yg di foto,  sarapan pg ny lmyn,  chek in cpt n ga pk deposit,  kurang ny di gang2 AC gak on,  keran wastafel kluar ny kecil,  yg lain2 ok lah', 'fasilitas di dalam kamar melebih ekspektasi dengan harga dibawah seratus ribu. TV, AC, wifi kenceng, dapat sncak pula.minusnya kamar mandi tidak dibersihkan jd ada kerak2 coklat di lantai dan dinding kamar mandi dan bau tidak sedap tercium dari saluran air di kamar mandi.lokasi agak masuk dari jalan raya,tp masih accessible.kemungkinan besar balik lagi apabila ada keperluan di sby.', 'selimut, sprei bau, showernya tidak berfungsi air hangat dan alirannya rendah jadi terpaksa mandi pakai kran toilet, AC nyaman, TV dan ketenangan oke', 'Perlengkapan mandinya lengkap dan ac nya dingin. Hanya saja koneksi internet kurang bagus.', 'Kamar mandi nya tdk wangi, tidak ada air panas nya di shower. Awal nya ac kurang dingin', 'MENGECEWAKAN, SAYA CUMA BERTAHAN 2 JAM DI HOTEL INI. - kran kamar mandi karatan - handuk bau - kamar berdebu - AC Bocor sampai seisi kamar basah, bocornya sangat parah - ada DEPOSIT nya 100rb. - hotelnya sama dengan Kos Kos an. - Wifi sangat lemah, jadi sa', 'dengan harga 122.400 dapat kamar lumayan bagus. Bed Ok, AC dingin. Tingkatkan kebersihan kamar mandi, Entertainment juga perlu perbaikan, masa Tr**s TV doang yg jernih siarannya.. Mohon Plang nama Hotelnya dibuat besar dong biar gampang dikenali.. selebihnya pertahankan... ', 'hotelnya sih lumayan bagus tapi AC nya panas banget dan tidak ada set up property Airy sama sekali mulai dari amenities, bantal, sarung, dan makanan. Selain itu pelayanannya juga kurang sewaktu FO di komplain.', 'Sprayx kasar dan berbulu.ac nya ribut', 'Kamar mandi agak bau karena air tetesan AC.', 'Ini adalah pengalaman TERBURUK saya menginap di hotel, fasilitas yang diberikan semuanya BURUK, Mulai dari bantal, kamar mandi dan sprei yang kotor, Sofa yang dipenuhi semut, Ac yang tidak berfungsi, Lemari yang rusak, TV yang tidak dapat sinyal hingga wasthtafel yang seperti rumah makan ! Ini yang terburuk,  dan tidak sesuai dengan harapan.', 'sangat baik semuanya..wifi..ac semua bagus..cuma air panas kadang kurang panas', 'Harga mahal, kamar kotor dan AC perlu waktu lama buat dingin. Tidal Ada lift', 'mantap, namun ac kurang dingin', 'kelebihan: Pelayanan staffnya ramah. Kamar bersih, AC dingin, tersedia air hangat, sarapannya soto, parkir luas, sebelah mini market, diberikan snack kekurangannya: wifi tidak unlimited, hanya 12 jam senilai Rp 5000 (berupa voucher), lift ACnya tidak terasa n agak bau (mgkn krn jarang digunakan)', 'overall kamar nya nyaman,  bersih, tp lokasi yang dtulis alamatnya salah. sehingga saya harus berputar putar Dan hampir salah rumah. (+): kamar bersih,  lokasi baik, dekat bandara, dekat convenience store (alfamart), petugas Ramah (-): waktu msk kamar bau lembab, mgkn hrs diperhatikan maintenance kamar,termasuk AC kamar saya tidak dingin.', 'Pelayanan ok, makanannya juga enak. Kelengkapan kamar baik, yang disayangkan hanya AC kurang dingin (agak lama dinginnya) dan handuk yang agak smelly. Namun kompensasinya ada kolam renangnya :) ', 'AC nya krg dingin', 'ac dan wifi kamar sering error', 'remote ac mulai rusak', '(+) kamar lumayan luas, kasur nyaman, sprei bersih, rapi dan aminities lengkap. ada welcome snack, dan kamar dibersihkan setiap hari. (-) bangunan dan hotel model lama, colokan hanya ada 1, siaran tv bnyak yg g da sinyal nya, pass wifi tdk diinfo, fo tidak ramah, sarapan tdk dihidang, ac kurang dingin n berisik', 'acnya kurang dingin', 'kamar mandinya kotor dan bau, banyak semut dikamar sehingga tidak bisa menaruh makanan sembarangan. pelayanannya kurang baik dari receptionis dan pegawainya. fasilitas seperti ac kurang dingin dan wifi tidak dapat digunakan. saya tidak akan menginap disana lagi pokoknya. ', 'kamar tidak sesuai dengan harapan,ac sangat kotor,ubin terangkat jadi bahaya ketika terinjak,toilet ada kecoa........general cleaning harus berkala karna fasilitas sangat buruk', 'Kamar agak sedikit bau, perlengkapan lengkap ada air minum, snack, sabun mandi, odol & sikat gigi. Kamar mandi nyaman. AC kamar terlalu dingin. Secara keseluruhan baik. Makasih Airy Room ', 'tempat yg nyaman dan tenang untuk istirahat..tp tolong ac nya kurang dingin..semoga di perhatikan..', 'semua baikndr segi fasilitas dan pelayanan. minusnya di ac yg kurang dingin', 'tempat nya nyaman banget .. pelayanannya ramah . yang kurang air kamar Mandi nya kecil .. Dan AC nya kurang dingin', 'Kamar cukup nyaman, minimalis, reseptionis ramah, hanya saja air ac sedikit bocor dan mengalir ke pintu, dan air shower saat pertama kali dihidupkan agak sedikit bau, juga bagian atap kamar ada tikus, juga Channel TV sedikit, dan juga restaurant tutup sebelum jam 7 malam, padahal dibuku room service tertulis close jam 9 malam. Mohon diperbaiki.', 'kamar luas, ac dan air tdk ad masalah. untuk breakfastnya enak. hanya saran untuk kebersihan banyak dan selimutnya d tingkatkan. overall, hotel ini lumayan.', 'Dua kali menginap dihotel sm dan dapat kamar yang sm tetep AC ndak pernah dingin serasa tidak ada AC nya itu kamar dan suara pendingin kamar yang cukup berisik,tp selaen masalah AC yang tidak pernah dingin makanan dan kebersihan cukup memuaskan saya dan ke', 'tampilan luar boleh biasa tapi kamarnya luas, bed empuk, fasilitas lengkap, breakfastnya enak. Tapi di kamar no 1, pintu sebelah kanan perlu diperbaiki, ac kurang dingin dan shower perlu diperbaiki krn ada bocor, shower air panas tdk berfungsi.', 'Kursi tidak bisa dipakai, malah dijadikan ganjalan meja. Toilet becek, AC berisik, kolong kasur kotor banyak sampah. ', 'AC kurang dingin tapi ada kipas atas jadi terbantu. Overall baik', 'Pelayanan ok, tapi... kamarnya agak pengap AC sudah agak tua dan berisik.', 'ac kamar kurang dingin', 'kamarnya nyaman... ac dingin... layanan nya jg baik tpiiiii.... klu bs sprei nya di ganti... gatal2 sih.... ', 'Saya sudah merasa tidak nyaman tidur di sjnj semenjak air belum nyala selama hampir dua hari. Di hari kedua, air baru menyala. Ketika kami menanyakan kondisi air, seharusnya bellboy memberikan solusi dengan ramah, bukan dengan merengut. Freon AC di kamar kami bocor sampai menumpahi lantai kamar kami. Masalah listrik, korslet bila AC & air hidup.', 'AC nya kurang dingin,dipindahkan keruangan lain tetap dapat kamar yang AC nya kurang dingin', 'Tempatnya kotor, remote tv tidak berfungsi, AC bocor dan tidak ada remote.', 'kualiatas airy smakin menurun, shower rusak, acnya ga dingin.', '+ kamar cukup luas, terjangkau, sarapan bervariasi, ada kulkas+teko air pns, hot shower, ac dingin, lokasi strategis, lift - channel tv sedikit, ada liat kecoa kecil 1, hari 1-2 ga dpt snack, hari 4 ga dbersihkan n ga dpt mnm+snack, kalo panggil housekeeping lamaaaaaaa but overall bagus, akan mnginap lg dsni krn kmr bsr, bersih, murah, srpan enak', 'ac lambat dingin', 'kamar panas di room 353, AC di janji kan di perbaiki hanya dalam 15 menit dari jam 2 siang slsai stgah 4 baru di bolehkan minta hidup. lalu baru setengah jam sudah minta matiin lagi buat perbaiki AC sampai saya kesal jam 6 akhir nya saya keluar. padahal bisa minta pindah room tapi alasan room nya tidak ada.', 'menginap 2 hari tp rasanya cuma 1 hari, kamar tidak dibersihkan padahal sudah menggantung tulisan untuk membersihkan kamar, toiletries cuma 1 dan handuk cuma 1 pasang remot ac baterainya cuma 1 jadi mesti ganti dari remot tv kalau mau ubah suhu, kamar sebelah sangat ribut karena (mungkin) direnovasi saat ada tamu jd sangat mengganggu', 'kamar oke,  tpi acnya tlong lbih dprhatikan lagi karna acnya kurang dingin', 'Kamarnya bau tidak enak, ACnya tidak dingin..', 'ac bocor anduk sprey lusuh ', 'kamar ok bantal empuk tp ac amat sangat tdk dingin,,tidur ttp mandi keringat', \"good.. keseluruhan baik hanya pas kemaren dapet kamar yang ac nya agak bunyi.. but it's ok.. nyaman, lokasi gampang di cari\", 'Hotelnya bagus sih, cuma kedapetan kamar yang AC-nya panas banget, gak dingin. ', 'Ac panas dan air panas hanya sebentar saja.', 'dapat kamar yg AC nya tidak dingin. over all nyaman kamarnya dan lokasi strategis dgn kantor', 'fasilitas kurang karyawan gak ramah gk dpt snack pdhl seharusny dpt, peralatan mandi berbeda dgn hotel airy yg lain gk sesuai ac gk dingin kamar gelap', 'kebersihan kamar dan harga ok HANYA mohon perbaiki: 1. AC kamar bocor jika sdh on bbrp jam, tidur terganggu krn tiba2 ac panas tdk berfungsi krn bocor tsb. 2. air minum yg diberikan rasanya agak asin, krn bukan dlm kemasan botol plastik bersegel tapi dgn teko.  semoga ini diperhatikan utk diperbaiki. terima kasih', 'AC kurang dingin. Tapi lumayan lah.', 'Tempat tidur sangat keras, bantal besar dan keras, air panas tidak berfungsi, AC kurang dingin biasanya setiap saya menginap di hotel/kost/penginapan yang bekerja sama dgn Airy Room selalu dapat snack & peralatan mandi, tapi kali ini tidak 1 pun yang saya dapatkan ', 'wifi sulit untuk koneksi loginnya, dan kamar 221 bocor ac nya.', 'fasilitas kurang karyawan gak ramah gk dpt snack pdhl seharusny dpt, peralatan mandi berbeda dgn hotel airy yg lain gk sesuai ac gk dingin kamar gelap', 'AC panas sampai harus buka jendela.', 'ac nya ga dingin showernya ga ada air panasnya malah mati.. anehh..', 'peralatan kurang berfungsi remot ac mati sower main2 wifi tidak bsa d gubakan. smoga d revisi', 'Ac nya gk dingin', 'ac nya lumayan dingin dan air acnya bocor jadi basah lantainya, wifinya ga ada alasannya dalam perbaikan. menu makanannya dari sekalian banyak cuma 2 aja yg tersedia, untuk kamar bagus dan luas. Terimakasih. ', 'ac kurang dingin', 'Kmr ny lucu bgt wlwpun kcil tp bersih air panas ontime tv ac dingin pke pin kamarnya cma wifi gk mencakup kmr yg di ujung2 dan gk cepat aksesnya. Cocok bwt backpeker hrg murh dpt snack dr airy peralatan mandi di tmpat lain mana dapet hehee dgn hrg yg sgtt murah gnii ', 'ac panas sampe narik kasur k ruang tv kulkas jg gg dingin teko listrik ga panas', 'Hotelnya nyaman, lengkap dan luar. Tapi sayang saya dapet kamar yang ac nya kurang dingin. Mungkin untuk kedepannya dapat di perbaiki', 'Butuh pengharum ruangan dan perbaikan AC', 'mantav, ruangan bersih, ac dingin...cm kgak ada air panas..', 'ac nya kamar 309 bocor', 'kamar bau rokok, ac kurang dingin', 'hotel tua, cukup bersih, cukup nyaman. airy tidak diberikan snack?, harga bagus, remot ac tidak ada,', 'AC panas, front desk tidak ramah, kasur banyak pasir, bau rokok.', 'sarapan lumayan, AC jadul yg kamar atas, pelayanan baik, sprei agak kotor, shower agak macet setelah di perbaiki lancar, air gak panas ', 'Terlepas dari kulkas yang tidak dingin dan remote ac rusak, hotel ini cukup baik dan memuaskan.', 'Toiletnya kotor, banjir, dan tidak bisa di flush sangat mengecewakan. AC kurang dingin. pelayanan lu', 'kamarnya gak sesuai ac nya ada tp gak berasa dingin smpe kepanasan', 'kamar lumaya. tapi acc sangat mengecewakan. tidak ada dingin nya sama sekali', 'check in jam 7.30 malem, dikasih kamar 221 paling ujung jauh banget dari lift jd bumil tua yg lagi capek harus jalan lumayan jauh ke kamar. pas masuk kamar, kloset ga ada tutup dan ga ada lapisannya, jd kalo BAB/BAK pantat sakit. TV channel biasa dan wifi bad, air panas super lama panasnya, ac ga terlalu berasa. Nginep 2mlm, kapok.', 'wifi mati...air panas ga jalan ... ac ga dingin', 'ace nya cuma ga dingin', 'sesuai gambar, bersih, ac dingin, wifi kencang, hanya channel tv yg kurang:)', 'ac nya gak dingin :(', 'ac ny panas', 'Kamar sempit, air mati terus. Ac ga dinging, remote ac tidak berfungsi', 'pesan 2 kamar, salah satu kamar tidak sesuai dengan pesanan, harusnya ada AC tapi tidak ada, cuma di kasi kasur, tidak standar airyroom. kamar mandi bau, toilet bocor. seprai kurang bersih. lokasi bagus, tidak jauh dari pusat kota.', 'alamat susah dicarinya, ac gk dingin, tdk ada air panas', 'Secara keseluruhan tempat nyaman. parkirn juga aman. AC, Wifii, dan air mandi juga lancar. Cuma rada kecewa sama lantai kamarnya bukan keramik dan kamar mandi sdikit kotor di langit2nya. Secara overal klo untuk tinggal sih okee lah', 'Ac tidak dingin,selimut dan sprei gatal seperti 10 tahun tidak diganti', 'Kamarnya tidak nyaman karena kurang bersih dan hawanya pengap, di kamar mandi dan sekitar kamar banyak berkeliaran kecoa kecil. Acnya juga tidak dingin berasa tidak pakai ac jadinya', 'Ac panas.', 'Ac nya tidak berfungsi dengan baik', 'tidak sesuai pesanan.. pesan yg Double, d kasih yg Twin... AC kurg dingin.. saya langsung chekout hari itu juga.. Resepsionisnya kurg komunikatif..', 'Kamar bersih, AC tidak dingin, tidak disediakan snack dan peralatan mandi, hanya ada sikat gigi. Setelah minta, baru diantarkan.', 'suasana menyenangkan,kamar mandi agak kotor..lubang shower agak bumpet, pelayanan baik...di ujung lorong ,ada jendela yang bolong tdk ada kacanya..jadi hampir aja anak saya terjun bebas...krn dpt kamarnya pas d ujung..kasur bersih,ac lumayan sejuk,ada kolam renang bersih,lokasi mudah d jangkau,hrga sesuai,,', 'Baik tapi ac nya kurang dingin selebihnya mantaaaaaaabbbbbbbbssss', 'hotelnya menakutkan, desain lama, kamar mandi angker, ac gak jelas..gak lagi kesini', 'Ac kurang dingin', 'kurang baik, ac kamar suka mati', 'kamar bersih nyaman..namun kurang sesuai dengan penawaran fasilitasnya..ac mati..wifi tidak bisa conect..dan kamarnya terlalu sempit..', 'kamarnya baik, namun AC nya tdk dingin..(suasana kamar seperti tdk ada AC) sarapannya lumayan banyak pilihan.. thanks airy', 'Sangat-sangat mengecewakan sekali... Kamar berbeda dari yang di photo, kotor, TV tabung jadul kecil, remot TV dan AC tidak adak, kamar mandi kotor, flusing toilet rusak, properti seperti bantal airy room tidak ada, hanya ada pocket airy room saja. Lemari² dan laci² kotor, tidak ada lap di depan toilet, tisu toilet juga tidak ada. PAYAH !!!!', 'alamat hotel sulit di temukan,  di waze pun tdk terdeteksi. ac tidak dingin, jendela rusak. tapi pelayanan nya ramah2 dan ganteng2 :)']\n",
      "['neg', 'pos', 'neg', 'neg', 'neg', 'pos', 'pos', 'neg', 'neg', 'neg', 'neg', 'pos', 'neg', 'pos', 'neg', 'neg', 'neg', 'neg', 'neg', 'neg', 'neg', 'neg', 'neg', 'neg', 'pos', 'neg', 'neg', 'neg', 'neg', 'neg', 'neg', 'neg', 'neg', 'neg', 'neg', 'neg', 'neg', 'neg', 'neg', 'neg', 'neg', 'neg', 'neg', 'neg', 'neg', 'neg', 'neg', 'neg', 'neg', 'neg', 'neg', 'neg', 'neg', 'neg', 'neg', 'neg', 'neg', 'neg', 'pos', 'pos', 'pos', 'neg', 'neg', 'neg', 'pos', 'neg', 'neg', 'neg', 'neg', 'pos', 'neg', 'neg', 'neg', 'neg', 'neg', 'neg', 'neg', 'neg', 'neg', 'neg', 'neg', 'neg', 'neg', 'neg', 'neg', 'neg', 'neg', 'neg', 'pos', 'neg', 'pos', 'neg', 'neg', 'neg', 'neg', 'neg', 'neg', 'neg', 'neg', 'neg', 'pos', 'pos', 'neg', 'neg', 'neg', 'pos', 'neg', 'neg', 'neg', 'pos', 'neg', 'neg', 'neg', 'neg', 'neg', 'neg', 'neg', 'neg', 'neg', 'neg', 'neg', 'neg', 'neg', 'pos', 'neg', 'neg', 'neg', 'neg', 'neg', 'neg', 'neg', 'neg', 'neg', 'neg', 'pos', 'neg', 'neg', 'neg', 'pos', 'neg', 'neg', 'neg', 'neg', 'neg', 'neg', 'neg', 'neg', 'neg', 'neg', 'neg', 'pos', 'neg', 'neg', 'neg', 'neg', 'neg', 'pos', 'neg', 'neg', 'neg', 'neg', 'neg', 'neg', 'neg', 'neg', 'neg', 'neg', 'neg', 'neg', 'neg', 'neg', 'neg', 'neg', 'neg', 'neg', 'pos', 'neg', 'neg', 'neg', 'neg', 'neg', 'neg', 'neg', 'neg', 'neg', 'neg', 'neg', 'neg', 'neg', 'neg', 'neg', 'neg', 'neg', 'neg', 'neg', 'pos', 'neg', 'neg', 'neg', 'neg', 'neg', 'neg', 'neg', 'neg', 'neg', 'neg', 'neg', 'neg', 'neg', 'neg', 'neg', 'neg', 'neg', 'neg', 'neg', 'pos', 'neg', 'neg', 'neg', 'neg', 'neg', 'neg', 'neg', 'pos', 'neg', 'neg', 'neg', 'pos', 'neg', 'neg', 'neg', 'neg', 'pos', 'neg', 'pos', 'neg', 'neg', 'neg', 'neg', 'neg', 'neg', 'pos', 'pos', 'pos', 'neg', 'neg', 'neg', 'neg', 'neg', 'neg', 'neg', 'neg', 'neg', 'pos', 'pos', 'neg', 'neg', 'neg', 'neg', 'neg', 'neg', 'pos', 'pos', 'neg', 'pos', 'neg', 'neg', 'neg', 'neg', 'neg', 'neg', 'neg', 'neg', 'pos', 'neg', 'neg', 'neg', 'neg', 'neg', 'neg', 'neg', 'neg', 'pos', 'neg', 'neg', 'neg', 'neg', 'neg', 'neg', 'neg', 'neg', 'neg', 'neg', 'neg', 'neg', 'neg', 'neg', 'neg', 'neg', 'neg', 'neg', 'neg', 'neg', 'neg', 'neg', 'neg', 'neg', 'neg', 'neg', 'neg', 'neg', 'neg', 'neg', 'neg', 'neg', 'neg', 'neg', 'neg', 'neg', 'neg', 'neg', 'neg', 'neg', 'neg', 'neg', 'neg', 'neg', 'neg', 'neg', 'neg', 'neg', 'pos', 'neg', 'neg', 'neg', 'neg', 'neg', 'neg', 'neg', 'neg', 'neg', 'neg', 'neg', 'neg', 'neg', 'neg', 'neg', 'neg', 'neg', 'neg', 'neg', 'pos', 'pos', 'neg', 'neg', 'neg', 'neg', 'neg', 'neg', 'neg', 'neg', 'neg', 'neg', 'neg', 'neg', 'neg', 'neg', 'pos', 'neg', 'neg', 'neg', 'neg', 'neg', 'neg', 'neg', 'neg', 'neg', 'pos', 'neg', 'neg', 'neg', 'neg', 'neg', 'neg', 'neg', 'neg', 'neg', 'neg', 'neg', 'pos', 'neg', 'pos', 'neg', 'pos', 'pos', 'neg', 'neg', 'neg', 'neg', 'neg', 'neg', 'neg', 'neg', 'neg', 'neg', 'neg', 'neg', 'neg', 'pos', 'neg', 'neg', 'neg', 'neg', 'neg', 'neg', 'neg', 'neg', 'neg', 'neg', 'neg', 'neg', 'neg', 'neg', 'neg', 'neg', 'neg', 'neg', 'pos', 'neg', 'pos', 'neg', 'neg', 'neg', 'neg', 'neg', 'neg', 'pos', 'neg', 'neg', 'neg', 'neg', 'neg', 'neg', 'neg', 'neg', 'neg', 'neg', 'neg', 'neg', 'neg', 'neg', 'neg', 'neg', 'neg', 'neg', 'neg', 'neg', 'neg', 'neg', 'neg', 'neg', 'neg', 'neg', 'neg', 'neg', 'neg', 'neg', 'neg', 'neg', 'neg', 'neg', 'neg', 'neg', 'neg', 'neg', 'neg', 'neg', 'neg', 'neg', 'neg', 'neg', 'neg', 'neg', 'neg', 'neg', 'neg', 'neg', 'pos', 'neg', 'pos', 'neg', 'pos', 'pos', 'pos', 'neg', 'neg', 'pos', 'neg', 'neg', 'neg', 'neg', 'pos', 'neg', 'neg', 'pos', 'neg', 'neg', 'neg', 'neg', 'neg', 'neg', 'neg', 'neg', 'neg', 'neg', 'neg', 'neg', 'neg', 'neg', 'pos', 'neg', 'neg', 'neg', 'neg', 'neg', 'neg', 'pos', 'neg', 'neg', 'neg', 'neg', 'pos', 'neg', 'neg', 'neg', 'neg', 'neg', 'neg', 'neg', 'neg', 'neg', 'neg', 'neg', 'neg', 'neg', 'neg', 'neg', 'neg', 'neg', 'neg', 'neg', 'neg', 'neg', 'neg', 'neg', 'pos', 'neg', 'neg', 'neg', 'pos', 'neg', 'neg', 'neg', 'neg', 'neg', 'neg', 'neg', 'neg', 'neg', 'neg', 'neg', 'neg', 'pos', 'neg', 'neg', 'neg', 'neg', 'neg', 'pos', 'neg', 'neg', 'neg', 'neg', 'neg', 'neg', 'pos', 'neg', 'neg', 'neg', 'neg', 'neg', 'neg', 'neg', 'neg']\n"
     ]
    }
   ],
   "source": [
    "data_list = [[],[],[],[],[],[],[],[],[],[]]\n",
    "target_list = [[],[],[],[],[],[],[],[],[],[]]\n",
    "for i in range(len(data)):\n",
    "    if(data.category[i]=='ac_P1'):\n",
    "        data_list[0].append(data.review[i])\n",
    "        target_list[0].append(data.sentiment[i])\n",
    "    if(data.category[i]=='air_panas_P1'):\n",
    "        data_list[1].append(data.review[i])\n",
    "        target_list[1].append(data.sentiment[i])\n",
    "    if(data.category[i]=='bau_P1'):\n",
    "        data_list[2].append(data.review[i])\n",
    "        target_list[2].append(data.sentiment[i])\n",
    "    if(data.category[i]=='general'):\n",
    "        data_list[3].append(data.review[i])\n",
    "        target_list[3].append(data.sentiment[i])\n",
    "    if(data.category[i]=='kebersihan'):\n",
    "        data_list[4].append(data.review[i])\n",
    "        target_list[4].append(data.sentiment[i])\n",
    "    if(data.category[i]=='linen_P1'):\n",
    "        data_list[5].append(data.review[i])\n",
    "        target_list[5].append(data.sentiment[i])\n",
    "    if(data.category[i]=='service'):\n",
    "        data_list[6].append(data.review[i])\n",
    "        target_list[6].append(data.sentiment[i])\n",
    "    if(data.category[i]=='sunrise_meal_P1'):\n",
    "        data_list[7].append(data.review[i])\n",
    "        target_list[7].append(data.sentiment[i])\n",
    "    if(data.category[i]=='tv_P1'):\n",
    "        data_list[8].append(data.review[i])\n",
    "        target_list[8].append(data.sentiment[i])\n",
    "    if(data.category[i]=='wifi_P1'):\n",
    "        data_list[9].append(data.review[i])\n",
    "        target_list[9].append(data.sentiment[i])\n",
    "print(data_list[0])\n",
    "print(target_list[0])"
   ]
  },
  {
   "cell_type": "code",
   "execution_count": 29,
   "metadata": {
    "collapsed": true
   },
   "outputs": [],
   "source": [
    "y = [[1 if s=='pos' else 0 for s in c] for c in target_list]"
   ]
  },
  {
   "cell_type": "code",
   "execution_count": 27,
   "metadata": {
    "collapsed": true
   },
   "outputs": [],
   "source": [
    "word_vectors = KeyedVectors.load_word2vec_format('model/w2v_model.bin', binary=True)"
   ]
  },
  {
   "cell_type": "code",
   "execution_count": 101,
   "metadata": {
    "collapsed": true
   },
   "outputs": [],
   "source": [
    "x_ac_P1, word_index = tokenize_text(5000, data_list[0], 180)\n",
    "embedding_matrix_ac_P1 = createEmbeddingMatrix(word_index, 5000, 400, word_vectors)"
   ]
  },
  {
   "cell_type": "code",
   "execution_count": 117,
   "metadata": {
    "collapsed": true
   },
   "outputs": [],
   "source": [
    "from imblearn.over_sampling import RandomOverSampler"
   ]
  },
  {
   "cell_type": "code",
   "execution_count": 103,
   "metadata": {},
   "outputs": [],
   "source": [
    "x_train_ac_P1, x_test_ac_P1, y_train_ac_P1, y_test_ac_P1 = train_test_split(x_ac_P1, y[0], test_size=0.2, random_state=9000)"
   ]
  },
  {
   "cell_type": "code",
   "execution_count": 105,
   "metadata": {},
   "outputs": [
    {
     "name": "stdout",
     "output_type": "stream",
     "text": [
      "50\n",
      "425\n"
     ]
    }
   ],
   "source": [
    "pos_weight = len([s for s in y_train_ac_P1 if s==1])\n",
    "neg_weight = len([s for s in y_train_ac_P1 if s==0])\n",
    "print(pos_weight)\n",
    "print(neg_weight)"
   ]
  },
  {
   "cell_type": "code",
   "execution_count": 118,
   "metadata": {
    "collapsed": true
   },
   "outputs": [],
   "source": [
    "ros = RandomOverSampler(random_state=42)\n",
    "x_res, y_res = ros.fit_resample(x_train_ac_P1, y_train_ac_P1)"
   ]
  },
  {
   "cell_type": "code",
   "execution_count": 119,
   "metadata": {},
   "outputs": [
    {
     "name": "stdout",
     "output_type": "stream",
     "text": [
      "425\n",
      "425\n"
     ]
    }
   ],
   "source": [
    "pos_weight = len([s for s in y_res if s==1])\n",
    "neg_weight = len([s for s in y_res if s==0])\n",
    "print(pos_weight)\n",
    "print(neg_weight)"
   ]
  },
  {
   "cell_type": "code",
   "execution_count": 57,
   "metadata": {
    "collapsed": true
   },
   "outputs": [],
   "source": [
    "from sklearn.utils.class_weight import compute_class_weight\n",
    "class_weights = compute_class_weight('balanced', np.unique(y_train_ac_P1), y_train_ac_P1)"
   ]
  },
  {
   "cell_type": "code",
   "execution_count": 120,
   "metadata": {},
   "outputs": [
    {
     "name": "stdout",
     "output_type": "stream",
     "text": [
      "__________________________________________________________________________________________________\n",
      "Layer (type)                    Output Shape         Param #     Connected to                     \n",
      "==================================================================================================\n",
      "input_9 (InputLayer)            (None, 180)          0                                            \n",
      "__________________________________________________________________________________________________\n",
      "embedding_9 (Embedding)         (None, 180, 400)     885200      input_9[0][0]                    \n",
      "__________________________________________________________________________________________________\n",
      "conv1d_22 (Conv1D)              (None, 180, 128)     51328       embedding_9[0][0]                \n",
      "__________________________________________________________________________________________________\n",
      "conv1d_23 (Conv1D)              (None, 178, 128)     153728      embedding_9[0][0]                \n",
      "__________________________________________________________________________________________________\n",
      "conv1d_24 (Conv1D)              (None, 176, 128)     256128      embedding_9[0][0]                \n",
      "__________________________________________________________________________________________________\n",
      "max_pooling1d_22 (MaxPooling1D) (None, 1, 128)       0           conv1d_22[0][0]                  \n",
      "__________________________________________________________________________________________________\n",
      "max_pooling1d_23 (MaxPooling1D) (None, 1, 128)       0           conv1d_23[0][0]                  \n",
      "__________________________________________________________________________________________________\n",
      "max_pooling1d_24 (MaxPooling1D) (None, 1, 128)       0           conv1d_24[0][0]                  \n",
      "__________________________________________________________________________________________________\n",
      "concatenate_8 (Concatenate)     (None, 3, 128)       0           max_pooling1d_22[0][0]           \n",
      "                                                                 max_pooling1d_23[0][0]           \n",
      "                                                                 max_pooling1d_24[0][0]           \n",
      "__________________________________________________________________________________________________\n",
      "flatten_8 (Flatten)             (None, 384)          0           concatenate_8[0][0]              \n",
      "__________________________________________________________________________________________________\n",
      "dense_15 (Dense)                (None, 256)          98560       flatten_8[0][0]                  \n",
      "__________________________________________________________________________________________________\n",
      "dropout_8 (Dropout)             (None, 256)          0           dense_15[0][0]                   \n",
      "__________________________________________________________________________________________________\n",
      "dense_16 (Dense)                (None, 1)            257         dropout_8[0][0]                  \n",
      "==================================================================================================\n",
      "Total params: 1,445,201\n",
      "Trainable params: 1,445,201\n",
      "Non-trainable params: 0\n",
      "__________________________________________________________________________________________________\n",
      "None\n"
     ]
    }
   ],
   "source": [
    "cnn_model_ac_P1 = createCNNModel([1,3,5], 128, embedding_matrix_ac_P1, 400, min(len(word_index)+1,5000), 180, 1)"
   ]
  },
  {
   "cell_type": "code",
   "execution_count": 121,
   "metadata": {},
   "outputs": [
    {
     "name": "stdout",
     "output_type": "stream",
     "text": [
      "Train on 765 samples, validate on 85 samples\n",
      "Epoch 1/100\n",
      "765/765 [==============================] - 19s 25ms/step - loss: 5.4585 - acc: 0.7621 - val_loss: 4.1802 - val_acc: 0.9412\n",
      "Epoch 2/100\n",
      "765/765 [==============================] - 15s 19ms/step - loss: 3.3408 - acc: 0.9608 - val_loss: 2.6121 - val_acc: 0.9176\n",
      "Epoch 3/100\n",
      "765/765 [==============================] - 15s 20ms/step - loss: 1.9882 - acc: 0.9686 - val_loss: 1.4314 - val_acc: 1.0000\n",
      "Epoch 4/100\n",
      "765/765 [==============================] - 15s 20ms/step - loss: 1.1790 - acc: 0.9935 - val_loss: 1.0322 - val_acc: 0.9529\n",
      "Epoch 5/100\n",
      "765/765 [==============================] - 15s 19ms/step - loss: 0.7194 - acc: 0.9987 - val_loss: 0.5580 - val_acc: 1.0000\n",
      "Epoch 6/100\n",
      "765/765 [==============================] - 15s 19ms/step - loss: 0.4586 - acc: 0.9987 - val_loss: 0.4255 - val_acc: 0.9765\n",
      "Epoch 7/100\n",
      "765/765 [==============================] - 15s 20ms/step - loss: 0.3398 - acc: 0.9922 - val_loss: 0.3186 - val_acc: 1.0000\n",
      "Epoch 8/100\n",
      "765/765 [==============================] - 15s 20ms/step - loss: 0.2723 - acc: 0.9961 - val_loss: 0.1952 - val_acc: 1.0000\n",
      "Epoch 9/100\n",
      "765/765 [==============================] - 15s 19ms/step - loss: 0.2054 - acc: 0.9974 - val_loss: 0.1534 - val_acc: 1.0000\n",
      "Epoch 10/100\n",
      "765/765 [==============================] - 15s 19ms/step - loss: 0.1598 - acc: 0.9974 - val_loss: 0.1168 - val_acc: 1.0000\n",
      "Epoch 11/100\n",
      "765/765 [==============================] - 14s 19ms/step - loss: 0.1425 - acc: 0.9935 - val_loss: 0.1921 - val_acc: 1.0000\n",
      "Epoch 12/100\n",
      "765/765 [==============================] - 15s 19ms/step - loss: 0.1273 - acc: 0.9974 - val_loss: 0.0913 - val_acc: 1.0000\n",
      "Epoch 13/100\n",
      "765/765 [==============================] - 16s 20ms/step - loss: 0.1123 - acc: 0.9974 - val_loss: 0.1343 - val_acc: 1.0000\n",
      "Epoch 14/100\n",
      "765/765 [==============================] - 16s 21ms/step - loss: 0.0958 - acc: 0.9974 - val_loss: 0.0715 - val_acc: 1.0000\n",
      "Epoch 15/100\n",
      "765/765 [==============================] - 15s 20ms/step - loss: 0.0771 - acc: 0.9974 - val_loss: 0.0795 - val_acc: 0.9765\n",
      "Epoch 16/100\n",
      "765/765 [==============================] - 15s 20ms/step - loss: 0.0890 - acc: 0.9961 - val_loss: 0.0698 - val_acc: 1.0000\n",
      "Epoch 17/100\n",
      "765/765 [==============================] - 15s 19ms/step - loss: 0.1174 - acc: 0.9895 - val_loss: 0.0974 - val_acc: 1.0000\n",
      "Epoch 18/100\n",
      "765/765 [==============================] - 15s 19ms/step - loss: 0.1104 - acc: 0.9974 - val_loss: 0.1359 - val_acc: 0.9765\n",
      "Epoch 19/100\n",
      "765/765 [==============================] - 15s 19ms/step - loss: 0.0959 - acc: 0.9974 - val_loss: 0.0636 - val_acc: 1.0000\n",
      "Epoch 20/100\n",
      "765/765 [==============================] - 14s 19ms/step - loss: 0.0812 - acc: 0.9987 - val_loss: 0.1259 - val_acc: 1.0000\n",
      "Epoch 21/100\n",
      "765/765 [==============================] - 14s 19ms/step - loss: 0.0760 - acc: 0.9961 - val_loss: 0.0708 - val_acc: 1.0000\n",
      "Epoch 22/100\n",
      "765/765 [==============================] - 15s 19ms/step - loss: 0.0682 - acc: 0.9974 - val_loss: 0.0778 - val_acc: 0.9765\n",
      "Epoch 23/100\n",
      "765/765 [==============================] - 15s 19ms/step - loss: 0.0626 - acc: 0.9987 - val_loss: 0.2021 - val_acc: 0.9765\n"
     ]
    }
   ],
   "source": [
    "trainCNN(x_res, y_res, cnn_model_ac_P1, 100, 'model/model-cnn-sentiment-ac_P1.h5')"
   ]
  },
  {
   "cell_type": "code",
   "execution_count": 122,
   "metadata": {},
   "outputs": [
    {
     "name": "stdout",
     "output_type": "stream",
     "text": [
      "119/119 [==============================] - 2s 14ms/step\n",
      "loss: 0.3181004226207733\n",
      "acc: 0.9075630272136015\n"
     ]
    }
   ],
   "source": [
    "cnn_model_ac_P1 = keras.models.load_model('model/model-cnn-sentiment-ac_P1.h5')\n",
    "metrics = cnn_model_ac_P1.evaluate(x_test_ac_P1, y_test_ac_P1)\n",
    "print(\"{}: {}\".format(cnn_model_ac_P1.metrics_names[0], metrics[0]))\n",
    "print(\"{}: {}\".format(cnn_model_ac_P1.metrics_names[1], metrics[1]))"
   ]
  },
  {
   "cell_type": "code",
   "execution_count": 123,
   "metadata": {},
   "outputs": [],
   "source": [
    "x_train_xg, x_test_xg = get_output_cnn(cnn_model_ac_P1, x_train_ac_P1, x_test_ac_P1)"
   ]
  },
  {
   "cell_type": "code",
   "execution_count": 124,
   "metadata": {},
   "outputs": [],
   "source": [
    "clf = XGBClassifier()\n",
    "clf.fit(x_train_xg, y_train_ac_P1)\n",
    "y_pred = clf.predict(x_test_xg)"
   ]
  },
  {
   "cell_type": "code",
   "execution_count": 125,
   "metadata": {},
   "outputs": [
    {
     "name": "stdout",
     "output_type": "stream",
     "text": [
      "              precision    recall  f1-score   support\n",
      "\n",
      "           0     0.9083    0.9802    0.9429       101\n",
      "           1     0.8000    0.4444    0.5714        18\n",
      "\n",
      "   micro avg     0.8992    0.8992    0.8992       119\n",
      "   macro avg     0.8541    0.7123    0.7571       119\n",
      "weighted avg     0.8919    0.8992    0.8867       119\n",
      "\n"
     ]
    }
   ],
   "source": [
    "print(classification_report(y_test_ac_P1,y_pred, digits=4))"
   ]
  },
  {
   "cell_type": "code",
   "execution_count": null,
   "metadata": {
    "collapsed": true
   },
   "outputs": [],
   "source": []
  }
 ],
 "metadata": {
  "kernelspec": {
   "display_name": "Python 3",
   "language": "python",
   "name": "python3"
  },
  "language_info": {
   "codemirror_mode": {
    "name": "ipython",
    "version": 3
   },
   "file_extension": ".py",
   "mimetype": "text/x-python",
   "name": "python",
   "nbconvert_exporter": "python",
   "pygments_lexer": "ipython3",
   "version": "3.6.3"
  }
 },
 "nbformat": 4,
 "nbformat_minor": 2
}
