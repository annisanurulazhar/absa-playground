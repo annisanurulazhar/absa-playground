{
 "cells": [
  {
   "cell_type": "code",
   "execution_count": 1,
   "metadata": {
    "collapsed": true
   },
   "outputs": [],
   "source": [
    "import numpy as np\n",
    "import pandas as pd\n",
    "from sklearn.preprocessing import MultiLabelBinarizer\n",
    "from sklearn.model_selection import train_test_split"
   ]
  },
  {
   "cell_type": "markdown",
   "metadata": {},
   "source": [
    "## Praproses Data"
   ]
  },
  {
   "cell_type": "code",
   "execution_count": 2,
   "metadata": {
    "collapsed": true
   },
   "outputs": [],
   "source": [
    "data = pd.read_csv('priority_1k_labelled.csv', sep=',')"
   ]
  },
  {
   "cell_type": "code",
   "execution_count": 3,
   "metadata": {},
   "outputs": [
    {
     "data": {
      "text/html": [
       "<div>\n",
       "<style scoped>\n",
       "    .dataframe tbody tr th:only-of-type {\n",
       "        vertical-align: middle;\n",
       "    }\n",
       "\n",
       "    .dataframe tbody tr th {\n",
       "        vertical-align: top;\n",
       "    }\n",
       "\n",
       "    .dataframe thead th {\n",
       "        text-align: right;\n",
       "    }\n",
       "</style>\n",
       "<table border=\"1\" class=\"dataframe\">\n",
       "  <thead>\n",
       "    <tr style=\"text-align: right;\">\n",
       "      <th></th>\n",
       "      <th>review</th>\n",
       "      <th>category-sentiment</th>\n",
       "      <th>category</th>\n",
       "      <th>sentiment</th>\n",
       "      <th>Unnamed: 4</th>\n",
       "    </tr>\n",
       "  </thead>\n",
       "  <tbody>\n",
       "    <tr>\n",
       "      <th>0</th>\n",
       "      <td>Kotor berdebu. Saya tdk berhenti bersin ketika...</td>\n",
       "      <td>kebersihan-neg</td>\n",
       "      <td>kebersihan</td>\n",
       "      <td>neg</td>\n",
       "      <td>NaN</td>\n",
       "    </tr>\n",
       "    <tr>\n",
       "      <th>1</th>\n",
       "      <td>Kotor berdebu. Saya tdk berhenti bersin ketika...</td>\n",
       "      <td>wifi_p1-neg</td>\n",
       "      <td>wifi_p1</td>\n",
       "      <td>neg</td>\n",
       "      <td>NaN</td>\n",
       "    </tr>\n",
       "    <tr>\n",
       "      <th>2</th>\n",
       "      <td>kamar ada semutnya. kamar mandi bermasalah. bu...</td>\n",
       "      <td>kebersihan-neg</td>\n",
       "      <td>kebersihan</td>\n",
       "      <td>neg</td>\n",
       "      <td>NaN</td>\n",
       "    </tr>\n",
       "    <tr>\n",
       "      <th>3</th>\n",
       "      <td>Kamar mandi bau, airnya bau</td>\n",
       "      <td>bau_P1-neg</td>\n",
       "      <td>bau_P1</td>\n",
       "      <td>neg</td>\n",
       "      <td>NaN</td>\n",
       "    </tr>\n",
       "    <tr>\n",
       "      <th>4</th>\n",
       "      <td>tak sesuai espektasi, kamar sempit, pintu kama...</td>\n",
       "      <td>service-neg</td>\n",
       "      <td>service</td>\n",
       "      <td>neg</td>\n",
       "      <td>NaN</td>\n",
       "    </tr>\n",
       "  </tbody>\n",
       "</table>\n",
       "</div>"
      ],
      "text/plain": [
       "                                              review category-sentiment  \\\n",
       "0  Kotor berdebu. Saya tdk berhenti bersin ketika...     kebersihan-neg   \n",
       "1  Kotor berdebu. Saya tdk berhenti bersin ketika...        wifi_p1-neg   \n",
       "2  kamar ada semutnya. kamar mandi bermasalah. bu...     kebersihan-neg   \n",
       "3                        Kamar mandi bau, airnya bau         bau_P1-neg   \n",
       "4  tak sesuai espektasi, kamar sempit, pintu kama...        service-neg   \n",
       "\n",
       "     category sentiment  Unnamed: 4  \n",
       "0  kebersihan       neg         NaN  \n",
       "1     wifi_p1       neg         NaN  \n",
       "2  kebersihan       neg         NaN  \n",
       "3      bau_P1       neg         NaN  \n",
       "4     service       neg         NaN  "
      ]
     },
     "execution_count": 3,
     "metadata": {},
     "output_type": "execute_result"
    }
   ],
   "source": [
    "data.head()"
   ]
  },
  {
   "cell_type": "code",
   "execution_count": 4,
   "metadata": {
    "collapsed": true
   },
   "outputs": [],
   "source": [
    "data = data.drop(columns='category-sentiment')"
   ]
  },
  {
   "cell_type": "code",
   "execution_count": 5,
   "metadata": {},
   "outputs": [
    {
     "data": {
      "text/plain": [
       "review        False\n",
       "category      False\n",
       "sentiment     False\n",
       "Unnamed: 4     True\n",
       "dtype: bool"
      ]
     },
     "execution_count": 5,
     "metadata": {},
     "output_type": "execute_result"
    }
   ],
   "source": [
    "data.isnull().any()"
   ]
  },
  {
   "cell_type": "code",
   "execution_count": 6,
   "metadata": {
    "collapsed": true
   },
   "outputs": [],
   "source": [
    "def get_all_label(x_train, y_train):\n",
    "    y_train_set = []\n",
    "    sent = x_train[0]\n",
    "    X_train_set = [sent]\n",
    "    labels = []\n",
    "    for i in range (len(x_train)):\n",
    "        if sent != x_train[i]:\n",
    "            if (len(labels)>0):\n",
    "                y_train_set.append(labels)\n",
    "            sent = x_train[i]\n",
    "            X_train_set.append(sent)\n",
    "            labels = []\n",
    "        labels.append(y_train[i])\n",
    "    return X_train_set, y_train_set"
   ]
  },
  {
   "cell_type": "code",
   "execution_count": 7,
   "metadata": {
    "collapsed": true
   },
   "outputs": [],
   "source": [
    "X_train, y_train = get_all_label(data['review'], data['category'])"
   ]
  },
  {
   "cell_type": "code",
   "execution_count": 8,
   "metadata": {
    "collapsed": true
   },
   "outputs": [],
   "source": [
    "data_train = list(zip(X_train, y_train))"
   ]
  },
  {
   "cell_type": "code",
   "execution_count": 9,
   "metadata": {},
   "outputs": [
    {
     "data": {
      "text/html": [
       "<div>\n",
       "<style scoped>\n",
       "    .dataframe tbody tr th:only-of-type {\n",
       "        vertical-align: middle;\n",
       "    }\n",
       "\n",
       "    .dataframe tbody tr th {\n",
       "        vertical-align: top;\n",
       "    }\n",
       "\n",
       "    .dataframe thead th {\n",
       "        text-align: right;\n",
       "    }\n",
       "</style>\n",
       "<table border=\"1\" class=\"dataframe\">\n",
       "  <thead>\n",
       "    <tr style=\"text-align: right;\">\n",
       "      <th></th>\n",
       "      <th>review</th>\n",
       "      <th>labels</th>\n",
       "    </tr>\n",
       "  </thead>\n",
       "  <tbody>\n",
       "    <tr>\n",
       "      <th>0</th>\n",
       "      <td>Kotor berdebu. Saya tdk berhenti bersin ketika...</td>\n",
       "      <td>[kebersihan, wifi_p1]</td>\n",
       "    </tr>\n",
       "    <tr>\n",
       "      <th>1</th>\n",
       "      <td>kamar ada semutnya. kamar mandi bermasalah. bu...</td>\n",
       "      <td>[kebersihan]</td>\n",
       "    </tr>\n",
       "    <tr>\n",
       "      <th>2</th>\n",
       "      <td>Kamar mandi bau, airnya bau</td>\n",
       "      <td>[bau_P1]</td>\n",
       "    </tr>\n",
       "    <tr>\n",
       "      <th>3</th>\n",
       "      <td>tak sesuai espektasi, kamar sempit, pintu kama...</td>\n",
       "      <td>[service]</td>\n",
       "    </tr>\n",
       "    <tr>\n",
       "      <th>4</th>\n",
       "      <td>buruk. kasur ada bekas sperma seprai jg air ba...</td>\n",
       "      <td>[linen_P1, wifi_p1]</td>\n",
       "    </tr>\n",
       "  </tbody>\n",
       "</table>\n",
       "</div>"
      ],
      "text/plain": [
       "                                              review                 labels\n",
       "0  Kotor berdebu. Saya tdk berhenti bersin ketika...  [kebersihan, wifi_p1]\n",
       "1  kamar ada semutnya. kamar mandi bermasalah. bu...           [kebersihan]\n",
       "2                        Kamar mandi bau, airnya bau               [bau_P1]\n",
       "3  tak sesuai espektasi, kamar sempit, pintu kama...              [service]\n",
       "4  buruk. kasur ada bekas sperma seprai jg air ba...    [linen_P1, wifi_p1]"
      ]
     },
     "execution_count": 9,
     "metadata": {},
     "output_type": "execute_result"
    }
   ],
   "source": [
    "df_train = pd.DataFrame(data_train, columns=['review', 'labels'])\n",
    "df_train.head()"
   ]
  },
  {
   "cell_type": "code",
   "execution_count": 10,
   "metadata": {},
   "outputs": [
    {
     "data": {
      "text/plain": [
       "array(['ac_P1', 'air_panas_P1', 'bau_P1', 'general', 'kebersihan',\n",
       "       'linen_P1', 'service', 'sunrise_meal_P1', 'tv_P1', 'wifi_P1',\n",
       "       'wifi_p1'], dtype=object)"
      ]
     },
     "execution_count": 10,
     "metadata": {},
     "output_type": "execute_result"
    }
   ],
   "source": [
    "mlb = MultiLabelBinarizer()\n",
    "y = df_train.labels\n",
    "y = mlb.fit_transform(y)\n",
    "mlb.classes_b\n"
   ]
  },
  {
   "cell_type": "code",
   "execution_count": 24,
   "metadata": {},
   "outputs": [
    {
     "name": "stdout",
     "output_type": "stream",
     "text": [
      "[[0 0 0 ... 0 0 1]\n",
      " [0 0 0 ... 0 0 0]\n",
      " [0 0 1 ... 0 0 0]\n",
      " ...\n",
      " [0 0 0 ... 0 0 0]\n",
      " [0 0 0 ... 0 0 1]\n",
      " [0 0 1 ... 0 0 0]]\n"
     ]
    }
   ],
   "source": [
    "y_list = y.tolist()\n",
    "print(y)"
   ]
  },
  {
   "cell_type": "code",
   "execution_count": 11,
   "metadata": {
    "collapsed": true
   },
   "outputs": [],
   "source": [
    "num_classes = len(mlb.classes_)"
   ]
  },
  {
   "cell_type": "code",
   "execution_count": 12,
   "metadata": {},
   "outputs": [],
   "source": [
    "df_y = pd.DataFrame(y, columns=mlb.classes_)\n",
    "df_train = df_train.join(df_y)\n",
    "df_train = df_train.drop(columns=['labels'])"
   ]
  },
  {
   "cell_type": "code",
   "execution_count": 13,
   "metadata": {},
   "outputs": [
    {
     "data": {
      "text/html": [
       "<div>\n",
       "<style scoped>\n",
       "    .dataframe tbody tr th:only-of-type {\n",
       "        vertical-align: middle;\n",
       "    }\n",
       "\n",
       "    .dataframe tbody tr th {\n",
       "        vertical-align: top;\n",
       "    }\n",
       "\n",
       "    .dataframe thead th {\n",
       "        text-align: right;\n",
       "    }\n",
       "</style>\n",
       "<table border=\"1\" class=\"dataframe\">\n",
       "  <thead>\n",
       "    <tr style=\"text-align: right;\">\n",
       "      <th></th>\n",
       "      <th>review</th>\n",
       "      <th>ac_P1</th>\n",
       "      <th>air_panas_P1</th>\n",
       "      <th>bau_P1</th>\n",
       "      <th>general</th>\n",
       "      <th>kebersihan</th>\n",
       "      <th>linen_P1</th>\n",
       "      <th>service</th>\n",
       "      <th>sunrise_meal_P1</th>\n",
       "      <th>tv_P1</th>\n",
       "      <th>wifi_P1</th>\n",
       "      <th>wifi_p1</th>\n",
       "    </tr>\n",
       "  </thead>\n",
       "  <tbody>\n",
       "    <tr>\n",
       "      <th>0</th>\n",
       "      <td>Kotor berdebu. Saya tdk berhenti bersin ketika...</td>\n",
       "      <td>0</td>\n",
       "      <td>0</td>\n",
       "      <td>0</td>\n",
       "      <td>0</td>\n",
       "      <td>1</td>\n",
       "      <td>0</td>\n",
       "      <td>0</td>\n",
       "      <td>0</td>\n",
       "      <td>0</td>\n",
       "      <td>0</td>\n",
       "      <td>1</td>\n",
       "    </tr>\n",
       "    <tr>\n",
       "      <th>1</th>\n",
       "      <td>kamar ada semutnya. kamar mandi bermasalah. bu...</td>\n",
       "      <td>0</td>\n",
       "      <td>0</td>\n",
       "      <td>0</td>\n",
       "      <td>0</td>\n",
       "      <td>1</td>\n",
       "      <td>0</td>\n",
       "      <td>0</td>\n",
       "      <td>0</td>\n",
       "      <td>0</td>\n",
       "      <td>0</td>\n",
       "      <td>0</td>\n",
       "    </tr>\n",
       "    <tr>\n",
       "      <th>2</th>\n",
       "      <td>Kamar mandi bau, airnya bau</td>\n",
       "      <td>0</td>\n",
       "      <td>0</td>\n",
       "      <td>1</td>\n",
       "      <td>0</td>\n",
       "      <td>0</td>\n",
       "      <td>0</td>\n",
       "      <td>0</td>\n",
       "      <td>0</td>\n",
       "      <td>0</td>\n",
       "      <td>0</td>\n",
       "      <td>0</td>\n",
       "    </tr>\n",
       "    <tr>\n",
       "      <th>3</th>\n",
       "      <td>tak sesuai espektasi, kamar sempit, pintu kama...</td>\n",
       "      <td>0</td>\n",
       "      <td>0</td>\n",
       "      <td>0</td>\n",
       "      <td>0</td>\n",
       "      <td>0</td>\n",
       "      <td>0</td>\n",
       "      <td>1</td>\n",
       "      <td>0</td>\n",
       "      <td>0</td>\n",
       "      <td>0</td>\n",
       "      <td>0</td>\n",
       "    </tr>\n",
       "    <tr>\n",
       "      <th>4</th>\n",
       "      <td>buruk. kasur ada bekas sperma seprai jg air ba...</td>\n",
       "      <td>0</td>\n",
       "      <td>0</td>\n",
       "      <td>0</td>\n",
       "      <td>0</td>\n",
       "      <td>0</td>\n",
       "      <td>1</td>\n",
       "      <td>0</td>\n",
       "      <td>0</td>\n",
       "      <td>0</td>\n",
       "      <td>0</td>\n",
       "      <td>1</td>\n",
       "    </tr>\n",
       "  </tbody>\n",
       "</table>\n",
       "</div>"
      ],
      "text/plain": [
       "                                              review  ac_P1  air_panas_P1  \\\n",
       "0  Kotor berdebu. Saya tdk berhenti bersin ketika...      0             0   \n",
       "1  kamar ada semutnya. kamar mandi bermasalah. bu...      0             0   \n",
       "2                        Kamar mandi bau, airnya bau      0             0   \n",
       "3  tak sesuai espektasi, kamar sempit, pintu kama...      0             0   \n",
       "4  buruk. kasur ada bekas sperma seprai jg air ba...      0             0   \n",
       "\n",
       "   bau_P1  general  kebersihan  linen_P1  service  sunrise_meal_P1  tv_P1  \\\n",
       "0       0        0           1         0        0                0      0   \n",
       "1       0        0           1         0        0                0      0   \n",
       "2       1        0           0         0        0                0      0   \n",
       "3       0        0           0         0        1                0      0   \n",
       "4       0        0           0         1        0                0      0   \n",
       "\n",
       "   wifi_P1  wifi_p1  \n",
       "0        0        1  \n",
       "1        0        0  \n",
       "2        0        0  \n",
       "3        0        0  \n",
       "4        0        1  "
      ]
     },
     "execution_count": 13,
     "metadata": {},
     "output_type": "execute_result"
    }
   ],
   "source": [
    "df_train.head()"
   ]
  },
  {
   "cell_type": "code",
   "execution_count": 14,
   "metadata": {
    "collapsed": true
   },
   "outputs": [],
   "source": [
    "df_train.to_csv('priority_1k_labelled_onehot.csv', sep=',')"
   ]
  },
  {
   "cell_type": "code",
   "execution_count": 15,
   "metadata": {
    "collapsed": true
   },
   "outputs": [],
   "source": [
    "import string\n",
    "def tokenize(msg):\n",
    "    clean = [char for char in msg if char not in string.punctuation]\n",
    "    clean = ''.join(clean)\n",
    "    return clean.lower().split()"
   ]
  },
  {
   "cell_type": "code",
   "execution_count": 16,
   "metadata": {},
   "outputs": [
    {
     "name": "stdout",
     "output_type": "stream",
     "text": [
      "118\n"
     ]
    }
   ],
   "source": [
    "longest = 0\n",
    "for review in df_train.review:\n",
    "    if len(tokenize(review)) > longest:\n",
    "        longest = len(review)\n",
    "print(longest)"
   ]
  },
  {
   "cell_type": "code",
   "execution_count": 83,
   "metadata": {
    "collapsed": true
   },
   "outputs": [],
   "source": [
    "docs = [tokenize(doc) for doc in df_train.review]"
   ]
  },
  {
   "cell_type": "code",
   "execution_count": 86,
   "metadata": {},
   "outputs": [
    {
     "data": {
      "text/plain": [
       "(110034, 170070)"
      ]
     },
     "execution_count": 86,
     "metadata": {},
     "output_type": "execute_result"
    }
   ],
   "source": [
    "import gensim \n",
    "model = gensim.models.Word2Vec(\n",
    "        docs,\n",
    "        size=400,\n",
    "        window=10,\n",
    "        min_count=2,\n",
    "        workers=10)\n",
    "\n",
    "model.train(docs, total_examples=len(docs), epochs=10)"
   ]
  },
  {
   "cell_type": "code",
   "execution_count": 87,
   "metadata": {},
   "outputs": [
    {
     "name": "stderr",
     "output_type": "stream",
     "text": [
      "C:\\Users\\Annisa Nurul Azhar\\Anaconda3\\lib\\site-packages\\gensim\\matutils.py:737: FutureWarning: Conversion of the second argument of issubdtype from `int` to `np.signedinteger` is deprecated. In future, it will be treated as `np.int32 == np.dtype(int).type`.\n",
      "  if np.issubdtype(vec.dtype, np.int):\n"
     ]
    },
    {
     "data": {
      "text/plain": [
       "[('kotor', 0.9999662637710571),\n",
       " ('selimut', 0.9999473690986633),\n",
       " ('agak', 0.9999450445175171),\n",
       " ('banyak', 0.9999439120292664),\n",
       " ('kecil', 0.9999438524246216),\n",
       " ('masih', 0.9999436140060425),\n",
       " ('bekas', 0.9999414682388306),\n",
       " ('seperti', 0.9999414682388306),\n",
       " ('jg', 0.9999403953552246),\n",
       " ('dan', 0.9999392032623291)]"
      ]
     },
     "execution_count": 87,
     "metadata": {},
     "output_type": "execute_result"
    }
   ],
   "source": [
    "model.wv.most_similar(\"bau\")"
   ]
  },
  {
   "cell_type": "code",
   "execution_count": 91,
   "metadata": {},
   "outputs": [],
   "source": [
    "from gensim.models import Word2Vec, KeyedVectors\n",
    "\n",
    "model.wv.save_word2vec_format('model.bin', binary=True)"
   ]
  },
  {
   "cell_type": "code",
   "execution_count": 92,
   "metadata": {
    "collapsed": true
   },
   "outputs": [],
   "source": [
    "word_vectors = KeyedVectors.load_word2vec_format('model.bin', binary=True)"
   ]
  },
  {
   "cell_type": "markdown",
   "metadata": {},
   "source": [
    "## Tokenisasi"
   ]
  },
  {
   "cell_type": "code",
   "execution_count": 88,
   "metadata": {},
   "outputs": [],
   "source": [
    "from keras.preprocessing.text import Tokenizer\n",
    "from keras.preprocessing.sequence import pad_sequences\n",
    "\n",
    "tokenizer = Tokenizer(num_words=5000, lower=True)\n",
    "tokenizer.fit_on_texts(df_train.review)\n",
    "sequences = tokenizer.texts_to_sequences(df_train.review)\n",
    "x = pad_sequences(sequences, maxlen=180)\n",
    "word_index = tokenizer.word_index"
   ]
  },
  {
   "cell_type": "code",
   "execution_count": 95,
   "metadata": {
    "collapsed": true
   },
   "outputs": [],
   "source": [
    "EMBEDDING_DIM=400\n",
    "vocabulary_size=min(len(word_index)+1,5000)\n",
    "embedding_matrix = np.zeros((vocabulary_size, EMBEDDING_DIM))\n",
    "for word, i in word_index.items():\n",
    "    if i>=5000:\n",
    "        continue\n",
    "    try:\n",
    "        embedding_vector = word_vectors[word]\n",
    "        embedding_matrix[i] = embedding_vector\n",
    "    except KeyError:\n",
    "        embedding_matrix[i]=np.random.normal(0,np.sqrt(0.25),EMBEDDING_DIM)"
   ]
  },
  {
   "cell_type": "code",
   "execution_count": 18,
   "metadata": {},
   "outputs": [],
   "source": [
    "x_train, x_test, y_train, y_test = train_test_split(x, y, test_size=0.2, random_state=9000)"
   ]
  },
  {
   "cell_type": "code",
   "execution_count": 19,
   "metadata": {},
   "outputs": [],
   "source": [
    "from keras.models import Sequential\n",
    "from keras.layers import Dense, Activation, Embedding, Flatten, GlobalMaxPool1D, Dropout, Conv1D\n",
    "from keras.callbacks import ReduceLROnPlateau, EarlyStopping, ModelCheckpoint\n",
    "from keras.losses import binary_crossentropy\n",
    "from keras.optimizers import Adam"
   ]
  },
  {
   "cell_type": "code",
   "execution_count": null,
   "metadata": {
    "collapsed": true
   },
   "outputs": [],
   "source": []
  },
  {
   "cell_type": "code",
   "execution_count": 25,
   "metadata": {},
   "outputs": [
    {
     "name": "stdout",
     "output_type": "stream",
     "text": [
      "Train on 703 samples, validate on 79 samples\n",
      "Epoch 1/50\n",
      "703/703 [==============================] - 0s 686us/step - loss: 0.5428 - categorical_accuracy: 0.1408 - val_loss: 0.4326 - val_categorical_accuracy: 0.3165\n",
      "Epoch 2/50\n",
      "703/703 [==============================] - 0s 288us/step - loss: 0.4169 - categorical_accuracy: 0.2276 - val_loss: 0.4210 - val_categorical_accuracy: 0.3418\n",
      "Epoch 3/50\n",
      "703/703 [==============================] - 0s 278us/step - loss: 0.3814 - categorical_accuracy: 0.3670 - val_loss: 0.3835 - val_categorical_accuracy: 0.4304\n",
      "Epoch 4/50\n",
      "703/703 [==============================] - 0s 312us/step - loss: 0.3415 - categorical_accuracy: 0.4296 - val_loss: 0.3541 - val_categorical_accuracy: 0.5443\n",
      "Epoch 5/50\n",
      "703/703 [==============================] - 0s 302us/step - loss: 0.3115 - categorical_accuracy: 0.4893 - val_loss: 0.3295 - val_categorical_accuracy: 0.5443\n",
      "Epoch 6/50\n",
      "703/703 [==============================] - 0s 333us/step - loss: 0.2860 - categorical_accuracy: 0.5292 - val_loss: 0.3163 - val_categorical_accuracy: 0.5570\n",
      "Epoch 7/50\n",
      "703/703 [==============================] - 0s 352us/step - loss: 0.2705 - categorical_accuracy: 0.5320 - val_loss: 0.3070 - val_categorical_accuracy: 0.5443\n",
      "Epoch 8/50\n",
      "703/703 [==============================] - 0s 336us/step - loss: 0.2503 - categorical_accuracy: 0.5704 - val_loss: 0.2900 - val_categorical_accuracy: 0.5949\n",
      "Epoch 9/50\n",
      "703/703 [==============================] - 0s 409us/step - loss: 0.2379 - categorical_accuracy: 0.5519 - val_loss: 0.2777 - val_categorical_accuracy: 0.6076\n",
      "Epoch 10/50\n",
      "703/703 [==============================] - 0s 309us/step - loss: 0.2188 - categorical_accuracy: 0.6003 - val_loss: 0.2637 - val_categorical_accuracy: 0.6076\n",
      "Epoch 11/50\n",
      "703/703 [==============================] - 0s 298us/step - loss: 0.2067 - categorical_accuracy: 0.6273 - val_loss: 0.2574 - val_categorical_accuracy: 0.6329\n",
      "Epoch 12/50\n",
      "703/703 [==============================] - 0s 288us/step - loss: 0.1899 - categorical_accuracy: 0.6230 - val_loss: 0.2485 - val_categorical_accuracy: 0.6076\n",
      "Epoch 13/50\n",
      "703/703 [==============================] - 0s 309us/step - loss: 0.1788 - categorical_accuracy: 0.6415 - val_loss: 0.2480 - val_categorical_accuracy: 0.5949\n",
      "Epoch 14/50\n",
      "703/703 [==============================] - 0s 358us/step - loss: 0.1759 - categorical_accuracy: 0.6373 - val_loss: 0.2430 - val_categorical_accuracy: 0.6076\n",
      "Epoch 15/50\n",
      "703/703 [==============================] - 0s 325us/step - loss: 0.1730 - categorical_accuracy: 0.6245 - val_loss: 0.2366 - val_categorical_accuracy: 0.6203\n",
      "Epoch 16/50\n",
      "703/703 [==============================] - 0s 322us/step - loss: 0.1613 - categorical_accuracy: 0.6415 - val_loss: 0.2417 - val_categorical_accuracy: 0.6076\n",
      "Epoch 17/50\n",
      "703/703 [==============================] - 0s 318us/step - loss: 0.1597 - categorical_accuracy: 0.6415 - val_loss: 0.2379 - val_categorical_accuracy: 0.6329\n",
      "Epoch 18/50\n",
      "703/703 [==============================] - 0s 318us/step - loss: 0.1551 - categorical_accuracy: 0.6344 - val_loss: 0.2417 - val_categorical_accuracy: 0.6076\n",
      "Epoch 19/50\n",
      "703/703 [==============================] - 0s 350us/step - loss: 0.1640 - categorical_accuracy: 0.6373 - val_loss: 0.2405 - val_categorical_accuracy: 0.6076\n"
     ]
    }
   ],
   "source": [
    "model = Sequential()\n",
    "model.add(Embedding(5000, 20, input_length=180))\n",
    "model.add(Dropout(0.15))\n",
    "model.add(GlobalMaxPool1D())\n",
    "model.add(Dense(num_classes, activation='sigmoid'))\n",
    "\n",
    "model.compile(optimizer=Adam(0.015), loss='binary_crossentropy', metrics=['categorical_accuracy'])\n",
    "callbacks = [\n",
    "    ReduceLROnPlateau(),\n",
    "    EarlyStopping(patience=4),\n",
    "    ModelCheckpoint(filepath='model-simple.h5', save_best_only=True)\n",
    "]\n",
    "\n",
    "history = model.fit(x_train, y_train,\n",
    "                    epochs=50,\n",
    "                    batch_size=32,\n",
    "                    validation_split=0.1,\n",
    "                    callbacks=callbacks)"
   ]
  },
  {
   "cell_type": "code",
   "execution_count": 27,
   "metadata": {},
   "outputs": [
    {
     "name": "stdout",
     "output_type": "stream",
     "text": [
      "196/196 [==============================] - 0s 331us/step\n",
      "loss: 0.251509889047973\n",
      "categorical_accuracy: 0.5663265306122449\n"
     ]
    }
   ],
   "source": [
    "import keras\n",
    "simple_model = keras.models.load_model('model-simple.h5')\n",
    "metrics = simple_model.evaluate(x_test, y_test)\n",
    "print(\"{}: {}\".format(simple_model.metrics_names[0], metrics[0]))\n",
    "print(\"{}: {}\".format(simple_model.metrics_names[1], metrics[1]))"
   ]
  },
  {
   "cell_type": "markdown",
   "metadata": {},
   "source": [
    "## CNN"
   ]
  },
  {
   "cell_type": "code",
   "execution_count": 70,
   "metadata": {},
   "outputs": [
    {
     "name": "stdout",
     "output_type": "stream",
     "text": [
      "_________________________________________________________________\n",
      "Layer (type)                 Output Shape              Param #   \n",
      "=================================================================\n",
      "embedding_18 (Embedding)     (None, 180, 20)           100000    \n",
      "_________________________________________________________________\n",
      "dropout_18 (Dropout)         (None, 180, 20)           0         \n",
      "_________________________________________________________________\n",
      "conv1d_16 (Conv1D)           (None, 178, 128)          7808      \n",
      "_________________________________________________________________\n",
      "global_max_pooling1d_12 (Glo (None, 128)               0         \n",
      "_________________________________________________________________\n",
      "dense_11 (Dense)             (None, 11)                1419      \n",
      "_________________________________________________________________\n",
      "activation_9 (Activation)    (None, 11)                0         \n",
      "=================================================================\n",
      "Total params: 109,227\n",
      "Trainable params: 109,227\n",
      "Non-trainable params: 0\n",
      "_________________________________________________________________\n",
      "Train on 703 samples, validate on 79 samples\n",
      "Epoch 1/50\n",
      "703/703 [==============================] - 4s 6ms/step - loss: 0.6526 - categorical_accuracy: 0.2034 - val_loss: 0.6088 - val_categorical_accuracy: 0.3165\n",
      "Epoch 2/50\n",
      "703/703 [==============================] - 2s 2ms/step - loss: 0.5315 - categorical_accuracy: 0.2262 - val_loss: 0.4704 - val_categorical_accuracy: 0.3165\n",
      "Epoch 3/50\n",
      "703/703 [==============================] - 2s 2ms/step - loss: 0.4346 - categorical_accuracy: 0.2262 - val_loss: 0.4270 - val_categorical_accuracy: 0.3165\n",
      "Epoch 4/50\n",
      "703/703 [==============================] - 2s 2ms/step - loss: 0.4181 - categorical_accuracy: 0.2262 - val_loss: 0.4272 - val_categorical_accuracy: 0.3165\n",
      "Epoch 5/50\n",
      "703/703 [==============================] - 1s 2ms/step - loss: 0.4104 - categorical_accuracy: 0.2262 - val_loss: 0.4206 - val_categorical_accuracy: 0.3418\n",
      "Epoch 6/50\n",
      "703/703 [==============================] - 2s 2ms/step - loss: 0.3997 - categorical_accuracy: 0.3201 - val_loss: 0.4108 - val_categorical_accuracy: 0.4557\n",
      "Epoch 7/50\n",
      "703/703 [==============================] - 2s 2ms/step - loss: 0.3838 - categorical_accuracy: 0.4410 - val_loss: 0.3968 - val_categorical_accuracy: 0.5696\n",
      "Epoch 8/50\n",
      "703/703 [==============================] - 2s 2ms/step - loss: 0.3644 - categorical_accuracy: 0.5306 - val_loss: 0.3830 - val_categorical_accuracy: 0.5823\n",
      "Epoch 9/50\n",
      "703/703 [==============================] - 2s 2ms/step - loss: 0.3476 - categorical_accuracy: 0.5405 - val_loss: 0.3709 - val_categorical_accuracy: 0.5823\n",
      "Epoch 10/50\n",
      "703/703 [==============================] - 1s 2ms/step - loss: 0.3330 - categorical_accuracy: 0.5462 - val_loss: 0.3569 - val_categorical_accuracy: 0.6076\n",
      "Epoch 11/50\n",
      "703/703 [==============================] - 2s 2ms/step - loss: 0.3187 - categorical_accuracy: 0.5690 - val_loss: 0.3449 - val_categorical_accuracy: 0.6203\n",
      "Epoch 12/50\n",
      "703/703 [==============================] - 2s 2ms/step - loss: 0.3020 - categorical_accuracy: 0.6031 - val_loss: 0.3309 - val_categorical_accuracy: 0.7342\n",
      "Epoch 13/50\n",
      "703/703 [==============================] - 2s 2ms/step - loss: 0.2849 - categorical_accuracy: 0.6814 - val_loss: 0.3142 - val_categorical_accuracy: 0.7722\n",
      "Epoch 14/50\n",
      "703/703 [==============================] - 2s 2ms/step - loss: 0.2662 - categorical_accuracy: 0.6999 - val_loss: 0.2984 - val_categorical_accuracy: 0.7848\n",
      "Epoch 15/50\n",
      "703/703 [==============================] - 1s 2ms/step - loss: 0.2464 - categorical_accuracy: 0.7383 - val_loss: 0.2819 - val_categorical_accuracy: 0.7975\n",
      "Epoch 16/50\n",
      "703/703 [==============================] - 2s 2ms/step - loss: 0.2275 - categorical_accuracy: 0.7354 - val_loss: 0.2667 - val_categorical_accuracy: 0.7722\n",
      "Epoch 17/50\n",
      "703/703 [==============================] - 1s 2ms/step - loss: 0.2100 - categorical_accuracy: 0.7368 - val_loss: 0.2554 - val_categorical_accuracy: 0.7595\n",
      "Epoch 18/50\n",
      "703/703 [==============================] - 2s 2ms/step - loss: 0.1934 - categorical_accuracy: 0.7297 - val_loss: 0.2418 - val_categorical_accuracy: 0.7595\n",
      "Epoch 19/50\n",
      "703/703 [==============================] - 2s 2ms/step - loss: 0.1788 - categorical_accuracy: 0.7297 - val_loss: 0.2323 - val_categorical_accuracy: 0.7468\n",
      "Epoch 20/50\n",
      "703/703 [==============================] - 1s 2ms/step - loss: 0.1640 - categorical_accuracy: 0.7240 - val_loss: 0.2245 - val_categorical_accuracy: 0.7468\n",
      "Epoch 21/50\n",
      "703/703 [==============================] - 2s 2ms/step - loss: 0.1520 - categorical_accuracy: 0.7269 - val_loss: 0.2146 - val_categorical_accuracy: 0.7468\n",
      "Epoch 22/50\n",
      "703/703 [==============================] - 1s 2ms/step - loss: 0.1418 - categorical_accuracy: 0.7255 - val_loss: 0.2112 - val_categorical_accuracy: 0.7468\n",
      "Epoch 23/50\n",
      "703/703 [==============================] - 1s 2ms/step - loss: 0.1328 - categorical_accuracy: 0.7212 - val_loss: 0.2038 - val_categorical_accuracy: 0.7468\n",
      "Epoch 24/50\n",
      "703/703 [==============================] - 1s 2ms/step - loss: 0.1235 - categorical_accuracy: 0.7255 - val_loss: 0.1996 - val_categorical_accuracy: 0.7468\n",
      "Epoch 25/50\n",
      "703/703 [==============================] - 1s 2ms/step - loss: 0.1142 - categorical_accuracy: 0.7368 - val_loss: 0.1952 - val_categorical_accuracy: 0.7468\n",
      "Epoch 26/50\n",
      "703/703 [==============================] - 2s 2ms/step - loss: 0.1086 - categorical_accuracy: 0.7354 - val_loss: 0.1926 - val_categorical_accuracy: 0.7468\n",
      "Epoch 27/50\n",
      "703/703 [==============================] - 1s 2ms/step - loss: 0.1011 - categorical_accuracy: 0.7354 - val_loss: 0.1909 - val_categorical_accuracy: 0.7215\n",
      "Epoch 28/50\n",
      "703/703 [==============================] - 1s 2ms/step - loss: 0.0946 - categorical_accuracy: 0.7127 - val_loss: 0.1896 - val_categorical_accuracy: 0.7468\n",
      "Epoch 29/50\n",
      "703/703 [==============================] - 1s 2ms/step - loss: 0.0881 - categorical_accuracy: 0.7240 - val_loss: 0.1867 - val_categorical_accuracy: 0.7342\n",
      "Epoch 30/50\n",
      "703/703 [==============================] - 1s 2ms/step - loss: 0.0830 - categorical_accuracy: 0.7297 - val_loss: 0.1857 - val_categorical_accuracy: 0.7722\n",
      "Epoch 31/50\n",
      "703/703 [==============================] - 1s 2ms/step - loss: 0.0781 - categorical_accuracy: 0.7084 - val_loss: 0.1842 - val_categorical_accuracy: 0.7595\n",
      "Epoch 32/50\n",
      "703/703 [==============================] - 1s 2ms/step - loss: 0.0743 - categorical_accuracy: 0.7326 - val_loss: 0.1837 - val_categorical_accuracy: 0.7722\n",
      "Epoch 33/50\n",
      "703/703 [==============================] - 1s 2ms/step - loss: 0.0690 - categorical_accuracy: 0.7340 - val_loss: 0.1824 - val_categorical_accuracy: 0.7342\n",
      "Epoch 34/50\n",
      "703/703 [==============================] - ETA: 0s - loss: 0.0649 - categorical_accuracy: 0.7173 ETA: 1s - loss: 0.061 - 1s 2ms/step - loss: 0.0657 - categorical_accuracy: 0.7169 - val_loss: 0.1818 - val_categorical_accuracy: 0.7468\n",
      "Epoch 35/50\n",
      "703/703 [==============================] - 2s 2ms/step - loss: 0.0615 - categorical_accuracy: 0.7226 - val_loss: 0.1825 - val_categorical_accuracy: 0.7468\n",
      "Epoch 36/50\n",
      "703/703 [==============================] - 1s 2ms/step - loss: 0.0587 - categorical_accuracy: 0.7084 - val_loss: 0.1817 - val_categorical_accuracy: 0.7595\n",
      "Epoch 37/50\n",
      "703/703 [==============================] - 2s 2ms/step - loss: 0.0551 - categorical_accuracy: 0.7454 - val_loss: 0.1828 - val_categorical_accuracy: 0.7595\n",
      "Epoch 38/50\n",
      "703/703 [==============================] - 1s 2ms/step - loss: 0.0526 - categorical_accuracy: 0.7255 - val_loss: 0.1817 - val_categorical_accuracy: 0.7342\n",
      "Epoch 39/50\n",
      "703/703 [==============================] - 1s 2ms/step - loss: 0.0487 - categorical_accuracy: 0.7141 - val_loss: 0.1815 - val_categorical_accuracy: 0.7595\n",
      "Epoch 40/50\n",
      "703/703 [==============================] - 1s 2ms/step - loss: 0.0470 - categorical_accuracy: 0.7198 - val_loss: 0.1814 - val_categorical_accuracy: 0.7215\n",
      "Epoch 41/50\n",
      "703/703 [==============================] - 1s 2ms/step - loss: 0.0442 - categorical_accuracy: 0.7141 - val_loss: 0.1818 - val_categorical_accuracy: 0.7215\n",
      "Epoch 42/50\n"
     ]
    },
    {
     "name": "stdout",
     "output_type": "stream",
     "text": [
      "703/703 [==============================] - 1s 2ms/step - loss: 0.0425 - categorical_accuracy: 0.7240 - val_loss: 0.1826 - val_categorical_accuracy: 0.7342\n",
      "Epoch 43/50\n",
      "703/703 [==============================] - 2s 2ms/step - loss: 0.0397 - categorical_accuracy: 0.7183 - val_loss: 0.1825 - val_categorical_accuracy: 0.7215\n",
      "Epoch 44/50\n",
      "703/703 [==============================] - 1s 2ms/step - loss: 0.0372 - categorical_accuracy: 0.7141 - val_loss: 0.1805 - val_categorical_accuracy: 0.7595\n",
      "Epoch 45/50\n",
      "703/703 [==============================] - 2s 2ms/step - loss: 0.0350 - categorical_accuracy: 0.7198 - val_loss: 0.1825 - val_categorical_accuracy: 0.7468\n",
      "Epoch 46/50\n",
      "703/703 [==============================] - 2s 2ms/step - loss: 0.0331 - categorical_accuracy: 0.7283 - val_loss: 0.1829 - val_categorical_accuracy: 0.7215\n",
      "Epoch 47/50\n",
      "703/703 [==============================] - 2s 2ms/step - loss: 0.0309 - categorical_accuracy: 0.7013 - val_loss: 0.1832 - val_categorical_accuracy: 0.7342\n",
      "Epoch 48/50\n",
      "703/703 [==============================] - 2s 2ms/step - loss: 0.0303 - categorical_accuracy: 0.7183 - val_loss: 0.1834 - val_categorical_accuracy: 0.7342\n"
     ]
    }
   ],
   "source": [
    "filter_length = 128\n",
    "\n",
    "model = Sequential()\n",
    "model.add(Embedding(5000, 20, input_length=180))\n",
    "model.add(Dropout(0.5))\n",
    "model.add(Conv1D(filter_length, 3, padding='valid', activation='relu', strides=1))\n",
    "model.add(GlobalMaxPool1D())\n",
    "model.add(Dense(num_classes))\n",
    "model.add(Activation('sigmoid'))\n",
    "\n",
    "model.compile(optimizer='adam', loss='binary_crossentropy', metrics=['categorical_accuracy'])\n",
    "model.summary()\n",
    "\n",
    "callbacks = [\n",
    "    ReduceLROnPlateau(),\n",
    "    EarlyStopping(patience=4),\n",
    "    ModelCheckpoint(filepath='model-conv1d.h5', save_best_only=True)\n",
    "]\n",
    "\n",
    "history = model.fit(x_train, y_train,\n",
    "                    epochs=50,\n",
    "                    batch_size=32,\n",
    "                    validation_split=0.1,\n",
    "                    callbacks=callbacks)"
   ]
  },
  {
   "cell_type": "code",
   "execution_count": 71,
   "metadata": {},
   "outputs": [
    {
     "name": "stdout",
     "output_type": "stream",
     "text": [
      "196/196 [==============================] - 1s 5ms/step\n",
      "loss: 0.20297585701455875\n",
      "categorical_accuracy: 0.6326530612244898\n"
     ]
    }
   ],
   "source": [
    "cnn_model = keras.models.load_model('model-conv1d.h5')\n",
    "metrics = cnn_model.evaluate(x_test, y_test)\n",
    "print(\"{}: {}\".format(model.metrics_names[0], metrics[0]))\n",
    "print(\"{}: {}\".format(model.metrics_names[1], metrics[1]))"
   ]
  },
  {
   "cell_type": "markdown",
   "metadata": {},
   "source": [
    "## CNN-XGBoost"
   ]
  },
  {
   "cell_type": "code",
   "execution_count": 72,
   "metadata": {
    "collapsed": true
   },
   "outputs": [],
   "source": [
    "from keras.models import Model\n",
    "total_layers = len(cnn_model.layers)\n",
    "\n",
    "fl_index = total_layers-1\n",
    "\n",
    "feature_layer_model = Model(\n",
    "                     inputs=cnn_model.input,\n",
    "                     outputs=cnn_model.get_layer(index=fl_index).output)\n",
    "\n",
    "x_train_xg = feature_layer_model.predict(x_train)\n",
    "x_test_xg = feature_layer_model.predict(x_test)"
   ]
  },
  {
   "cell_type": "code",
   "execution_count": 73,
   "metadata": {},
   "outputs": [
    {
     "name": "stdout",
     "output_type": "stream",
     "text": [
      "0.7598790307819695\n"
     ]
    }
   ],
   "source": [
    "from skmultilearn.problem_transform import BinaryRelevance\n",
    "from xgboost import XGBClassifier\n",
    "from sklearn.metrics import f1_score\n",
    "\n",
    "clf = BinaryRelevance(XGBClassifier())\n",
    "clf.fit(x_train_xg, y_train)\n",
    "y_pred = clf.predict(x_test_xg)\n",
    "\n",
    "f1 = f1_score(y_test, y_pred, average='weighted')\n",
    "print(f1)"
   ]
  },
  {
   "cell_type": "code",
   "execution_count": 74,
   "metadata": {},
   "outputs": [
    {
     "name": "stdout",
     "output_type": "stream",
     "text": [
      "0.7592212078185165\n"
     ]
    }
   ],
   "source": [
    "from skmultilearn.problem_transform import ClassifierChain\n",
    "\n",
    "clf = ClassifierChain(XGBClassifier())\n",
    "clf.fit(x_train_xg, y_train)\n",
    "y_pred = clf.predict(x_test_xg)\n",
    "\n",
    "f1 = f1_score(y_test, y_pred, average='weighted')\n",
    "print(f1)"
   ]
  },
  {
   "cell_type": "code",
   "execution_count": 52,
   "metadata": {},
   "outputs": [
    {
     "name": "stdout",
     "output_type": "stream",
     "text": [
      "  (0, 1)\t1.0\n",
      "  (0, 3)\t1.0\n"
     ]
    }
   ],
   "source": [
    "print(y_pred[0])"
   ]
  },
  {
   "cell_type": "markdown",
   "metadata": {},
   "source": [
    "## CNN-SVM"
   ]
  },
  {
   "cell_type": "code",
   "execution_count": 75,
   "metadata": {},
   "outputs": [
    {
     "name": "stdout",
     "output_type": "stream",
     "text": [
      "0.7597110781217628\n"
     ]
    }
   ],
   "source": [
    "from sklearn.svm import LinearSVC\n",
    "\n",
    "clf = BinaryRelevance(LinearSVC())\n",
    "clf.fit(x_train_xg, y_train)\n",
    "y_pred = clf.predict(x_test_xg)\n",
    "\n",
    "f1 = f1_score(y_test, y_pred, average='weighted')\n",
    "print(f1)"
   ]
  },
  {
   "cell_type": "markdown",
   "metadata": {},
   "source": [
    "## CNN-LSTM"
   ]
  },
  {
   "cell_type": "code",
   "execution_count": 82,
   "metadata": {},
   "outputs": [
    {
     "name": "stdout",
     "output_type": "stream",
     "text": [
      "_________________________________________________________________\n",
      "Layer (type)                 Output Shape              Param #   \n",
      "=================================================================\n",
      "embedding_23 (Embedding)     (None, 180, 20)           100000    \n",
      "_________________________________________________________________\n",
      "dropout_23 (Dropout)         (None, 180, 20)           0         \n",
      "_________________________________________________________________\n",
      "conv1d_21 (Conv1D)           (None, 178, 128)          7808      \n",
      "_________________________________________________________________\n",
      "max_pooling1d_8 (MaxPooling1 (None, 89, 128)           0         \n",
      "_________________________________________________________________\n",
      "dense_19 (Dense)             (None, 89, 256)           33024     \n",
      "_________________________________________________________________\n",
      "lstm_14 (LSTM)               (None, 128)               197120    \n",
      "_________________________________________________________________\n",
      "dense_20 (Dense)             (None, 11)                1419      \n",
      "_________________________________________________________________\n",
      "activation_13 (Activation)   (None, 11)                0         \n",
      "=================================================================\n",
      "Total params: 339,371\n",
      "Trainable params: 339,371\n",
      "Non-trainable params: 0\n",
      "_________________________________________________________________\n",
      "Train on 703 samples, validate on 79 samples\n",
      "Epoch 1/50\n",
      "703/703 [==============================] - 7s 9ms/step - loss: 0.5109 - categorical_accuracy: 0.2347 - val_loss: 0.4360 - val_categorical_accuracy: 0.3165\n",
      "Epoch 2/50\n",
      "703/703 [==============================] - 4s 5ms/step - loss: 0.4228 - categorical_accuracy: 0.2262 - val_loss: 0.4289 - val_categorical_accuracy: 0.3165\n",
      "Epoch 3/50\n",
      "703/703 [==============================] - 4s 5ms/step - loss: 0.4204 - categorical_accuracy: 0.2262 - val_loss: 0.4284 - val_categorical_accuracy: 0.3165\n",
      "Epoch 4/50\n",
      "703/703 [==============================] - 4s 5ms/step - loss: 0.4141 - categorical_accuracy: 0.2262 - val_loss: 0.4155 - val_categorical_accuracy: 0.3038\n",
      "Epoch 5/50\n",
      "703/703 [==============================] - 4s 5ms/step - loss: 0.3977 - categorical_accuracy: 0.2361 - val_loss: 0.4058 - val_categorical_accuracy: 0.3544\n",
      "Epoch 6/50\n",
      "703/703 [==============================] - 4s 5ms/step - loss: 0.3790 - categorical_accuracy: 0.3257 - val_loss: 0.3959 - val_categorical_accuracy: 0.3291\n",
      "Epoch 7/50\n",
      "703/703 [==============================] - 4s 5ms/step - loss: 0.3639 - categorical_accuracy: 0.3713 - val_loss: 0.3953 - val_categorical_accuracy: 0.2785\n",
      "Epoch 8/50\n",
      "703/703 [==============================] - 4s 6ms/step - loss: 0.3508 - categorical_accuracy: 0.4111 - val_loss: 0.3988 - val_categorical_accuracy: 0.3291\n",
      "Epoch 9/50\n",
      "703/703 [==============================] - 4s 5ms/step - loss: 0.3313 - categorical_accuracy: 0.4666 - val_loss: 0.4000 - val_categorical_accuracy: 0.2911\n",
      "Epoch 10/50\n",
      "703/703 [==============================] - 4s 5ms/step - loss: 0.3090 - categorical_accuracy: 0.5064 - val_loss: 0.3993 - val_categorical_accuracy: 0.3038\n",
      "Epoch 11/50\n",
      "703/703 [==============================] - 4s 6ms/step - loss: 0.2813 - categorical_accuracy: 0.6003 - val_loss: 0.4028 - val_categorical_accuracy: 0.3291\n"
     ]
    }
   ],
   "source": [
    "from keras.layers import LSTM\n",
    "from keras.layers import MaxPooling1D\n",
    "\n",
    "filter_length = 128\n",
    "\n",
    "model = Sequential()\n",
    "model.add(Embedding(5000, 20, input_length=180))\n",
    "model.add(Dropout(0.1))\n",
    "model.add(Conv1D(filter_length, 3, padding='valid', activation='relu', strides=1))\n",
    "model.add(MaxPooling1D(pool_size=2))\n",
    "model.add(Dense(256))\n",
    "model.add(LSTM(128))\n",
    "model.add(Dense(num_classes))\n",
    "model.add(Activation('sigmoid'))\n",
    "\n",
    "model.compile(optimizer='adam', loss='binary_crossentropy', metrics=['categorical_accuracy'])\n",
    "model.summary()\n",
    "\n",
    "callbacks = [\n",
    "    ReduceLROnPlateau(),\n",
    "    EarlyStopping(patience=4),\n",
    "    ModelCheckpoint(filepath='model-conv1d-lstm.h5', save_best_only=True)\n",
    "]\n",
    "\n",
    "history = model.fit(x_train, y_train,\n",
    "                    epochs=50,\n",
    "                    batch_size=32,\n",
    "                    validation_split=0.1,\n",
    "                    callbacks=callbacks)"
   ]
  },
  {
   "cell_type": "code",
   "execution_count": 81,
   "metadata": {},
   "outputs": [
    {
     "name": "stdout",
     "output_type": "stream",
     "text": [
      "196/196 [==============================] - 2s 11ms/step\n",
      "loss: 0.40627565919136516\n",
      "categorical_accuracy: 0.45408163265306123\n"
     ]
    }
   ],
   "source": [
    "cnn_lstm_model = keras.models.load_model('model-conv1d-lstm.h5')\n",
    "metrics = cnn_lstm_model.evaluate(x_test, y_test)\n",
    "print(\"{}: {}\".format(model.metrics_names[0], metrics[0]))\n",
    "print(\"{}: {}\".format(model.metrics_names[1], metrics[1]))"
   ]
  },
  {
   "cell_type": "code",
   "execution_count": 104,
   "metadata": {},
   "outputs": [
    {
     "name": "stdout",
     "output_type": "stream",
     "text": [
      "_________________________________________________________________\n",
      "Layer (type)                 Output Shape              Param #   \n",
      "=================================================================\n",
      "embedding_26 (Embedding)     (None, 180, 400)          1092000   \n",
      "_________________________________________________________________\n",
      "dropout_26 (Dropout)         (None, 180, 400)          0         \n",
      "_________________________________________________________________\n",
      "conv1d_24 (Conv1D)           (None, 180, 128)          153728    \n",
      "_________________________________________________________________\n",
      "global_max_pooling1d_16 (Glo (None, 128)               0         \n",
      "_________________________________________________________________\n",
      "dense_23 (Dense)             (None, 11)                1419      \n",
      "_________________________________________________________________\n",
      "activation_16 (Activation)   (None, 11)                0         \n",
      "=================================================================\n",
      "Total params: 1,247,147\n",
      "Trainable params: 1,247,147\n",
      "Non-trainable params: 0\n",
      "_________________________________________________________________\n",
      "Train on 703 samples, validate on 79 samples\n",
      "Epoch 1/50\n",
      "703/703 [==============================] - 7s 10ms/step - loss: 0.5208 - categorical_accuracy: 0.1721 - val_loss: 0.4495 - val_categorical_accuracy: 0.3038\n",
      "Epoch 2/50\n",
      "703/703 [==============================] - 5s 7ms/step - loss: 0.4277 - categorical_accuracy: 0.2233 - val_loss: 0.4384 - val_categorical_accuracy: 0.2911\n",
      "Epoch 3/50\n",
      "703/703 [==============================] - 5s 7ms/step - loss: 0.4062 - categorical_accuracy: 0.2589 - val_loss: 0.4331 - val_categorical_accuracy: 0.2785\n",
      "Epoch 4/50\n",
      "703/703 [==============================] - 5s 7ms/step - loss: 0.3879 - categorical_accuracy: 0.2731 - val_loss: 0.4324 - val_categorical_accuracy: 0.2911\n",
      "Epoch 5/50\n",
      "703/703 [==============================] - 5s 7ms/step - loss: 0.3695 - categorical_accuracy: 0.3400 - val_loss: 0.4252 - val_categorical_accuracy: 0.3291\n",
      "Epoch 6/50\n",
      "703/703 [==============================] - 5s 7ms/step - loss: 0.3523 - categorical_accuracy: 0.3741 - val_loss: 0.4222 - val_categorical_accuracy: 0.3544\n",
      "Epoch 7/50\n",
      "703/703 [==============================] - 5s 7ms/step - loss: 0.3321 - categorical_accuracy: 0.3997 - val_loss: 0.4152 - val_categorical_accuracy: 0.3418\n",
      "Epoch 8/50\n",
      "703/703 [==============================] - 5s 7ms/step - loss: 0.3163 - categorical_accuracy: 0.4538 - val_loss: 0.4143 - val_categorical_accuracy: 0.4430174 - categori\n",
      "Epoch 9/50\n",
      "703/703 [==============================] - 5s 6ms/step - loss: 0.2925 - categorical_accuracy: 0.5121 - val_loss: 0.4076 - val_categorical_accuracy: 0.4177\n",
      "Epoch 10/50\n",
      "703/703 [==============================] - 5s 7ms/step - loss: 0.2754 - categorical_accuracy: 0.5349 - val_loss: 0.3985 - val_categorical_accuracy: 0.4430\n",
      "Epoch 11/50\n",
      "703/703 [==============================] - 5s 7ms/step - loss: 0.2514 - categorical_accuracy: 0.6117 - val_loss: 0.3861 - val_categorical_accuracy: 0.4430\n",
      "Epoch 12/50\n",
      "703/703 [==============================] - 5s 7ms/step - loss: 0.2279 - categorical_accuracy: 0.6472 - val_loss: 0.3737 - val_categorical_accuracy: 0.4684\n",
      "Epoch 13/50\n",
      "703/703 [==============================] - 5s 6ms/step - loss: 0.2060 - categorical_accuracy: 0.6344 - val_loss: 0.3702 - val_categorical_accuracy: 0.5063\n",
      "Epoch 14/50\n",
      "703/703 [==============================] - 5s 6ms/step - loss: 0.1869 - categorical_accuracy: 0.6743 - val_loss: 0.3627 - val_categorical_accuracy: 0.5823\n",
      "Epoch 15/50\n",
      "703/703 [==============================] - 5s 7ms/step - loss: 0.1657 - categorical_accuracy: 0.7198 - val_loss: 0.3455 - val_categorical_accuracy: 0.6076\n",
      "Epoch 16/50\n",
      "703/703 [==============================] - 5s 7ms/step - loss: 0.1506 - categorical_accuracy: 0.7141 - val_loss: 0.3359 - val_categorical_accuracy: 0.6076\n",
      "Epoch 17/50\n",
      "703/703 [==============================] - 5s 8ms/step - loss: 0.1360 - categorical_accuracy: 0.7169 - val_loss: 0.3219 - val_categorical_accuracy: 0.6076\n",
      "Epoch 18/50\n",
      "703/703 [==============================] - 5s 6ms/step - loss: 0.1200 - categorical_accuracy: 0.6999 - val_loss: 0.3238 - val_categorical_accuracy: 0.6329\n",
      "Epoch 19/50\n",
      "703/703 [==============================] - 4s 6ms/step - loss: 0.1082 - categorical_accuracy: 0.7055 - val_loss: 0.3139 - val_categorical_accuracy: 0.6835\n",
      "Epoch 20/50\n",
      "703/703 [==============================] - 5s 6ms/step - loss: 0.0972 - categorical_accuracy: 0.7198 - val_loss: 0.3034 - val_categorical_accuracy: 0.6076\n",
      "Epoch 21/50\n",
      "703/703 [==============================] - 4s 6ms/step - loss: 0.0868 - categorical_accuracy: 0.7155 - val_loss: 0.3020 - val_categorical_accuracy: 0.6456\n",
      "Epoch 22/50\n",
      "703/703 [==============================] - 4s 6ms/step - loss: 0.0782 - categorical_accuracy: 0.7141 - val_loss: 0.3009 - val_categorical_accuracy: 0.6329\n",
      "Epoch 23/50\n",
      "703/703 [==============================] - 5s 7ms/step - loss: 0.0702 - categorical_accuracy: 0.7070 - val_loss: 0.2981 - val_categorical_accuracy: 0.6709\n",
      "Epoch 24/50\n",
      "703/703 [==============================] - 5s 7ms/step - loss: 0.0610 - categorical_accuracy: 0.7084 - val_loss: 0.2947 - val_categorical_accuracy: 0.6582\n",
      "Epoch 25/50\n",
      "703/703 [==============================] - 5s 7ms/step - loss: 0.0557 - categorical_accuracy: 0.6999 - val_loss: 0.2845 - val_categorical_accuracy: 0.6709\n",
      "Epoch 26/50\n",
      "703/703 [==============================] - 5s 7ms/step - loss: 0.0492 - categorical_accuracy: 0.7041 - val_loss: 0.2801 - val_categorical_accuracy: 0.6456\n",
      "Epoch 27/50\n",
      "703/703 [==============================] - 5s 7ms/step - loss: 0.0443 - categorical_accuracy: 0.7055 - val_loss: 0.2867 - val_categorical_accuracy: 0.6582\n",
      "Epoch 28/50\n",
      "703/703 [==============================] - 5s 7ms/step - loss: 0.0401 - categorical_accuracy: 0.6942 - val_loss: 0.2828 - val_categorical_accuracy: 0.6962\n",
      "Epoch 29/50\n",
      "703/703 [==============================] - 5s 8ms/step - loss: 0.0354 - categorical_accuracy: 0.6999 - val_loss: 0.2785 - val_categorical_accuracy: 0.7215\n",
      "Epoch 30/50\n",
      "703/703 [==============================] - 5s 8ms/step - loss: 0.0324 - categorical_accuracy: 0.7098 - val_loss: 0.2736 - val_categorical_accuracy: 0.7089\n",
      "Epoch 31/50\n",
      "703/703 [==============================] - 5s 7ms/step - loss: 0.0291 - categorical_accuracy: 0.7112 - val_loss: 0.2749 - val_categorical_accuracy: 0.6962\n",
      "Epoch 32/50\n",
      "703/703 [==============================] - 5s 7ms/step - loss: 0.0283 - categorical_accuracy: 0.7141 - val_loss: 0.2775 - val_categorical_accuracy: 0.6962\n",
      "Epoch 33/50\n",
      "703/703 [==============================] - 5s 7ms/step - loss: 0.0236 - categorical_accuracy: 0.7041 - val_loss: 0.2780 - val_categorical_accuracy: 0.7089\n",
      "Epoch 34/50\n",
      "703/703 [==============================] - 5s 7ms/step - loss: 0.0221 - categorical_accuracy: 0.7027 - val_loss: 0.2729 - val_categorical_accuracy: 0.7342\n",
      "Epoch 35/50\n",
      "703/703 [==============================] - 5s 7ms/step - loss: 0.0194 - categorical_accuracy: 0.6970 - val_loss: 0.2797 - val_categorical_accuracy: 0.7342\n",
      "Epoch 36/50\n",
      "703/703 [==============================] - 5s 7ms/step - loss: 0.0183 - categorical_accuracy: 0.6885 - val_loss: 0.2705 - val_categorical_accuracy: 0.6962\n",
      "Epoch 37/50\n",
      "703/703 [==============================] - 5s 7ms/step - loss: 0.0163 - categorical_accuracy: 0.6942 - val_loss: 0.2837 - val_categorical_accuracy: 0.6835\n",
      "Epoch 38/50\n",
      "703/703 [==============================] - 5s 7ms/step - loss: 0.0151 - categorical_accuracy: 0.6871 - val_loss: 0.2784 - val_categorical_accuracy: 0.7342\n",
      "Epoch 39/50\n",
      "703/703 [==============================] - 5s 7ms/step - loss: 0.0152 - categorical_accuracy: 0.7013 - val_loss: 0.2760 - val_categorical_accuracy: 0.6962\n",
      "Epoch 40/50\n",
      "703/703 [==============================] - 5s 7ms/step - loss: 0.0131 - categorical_accuracy: 0.6970 - val_loss: 0.2763 - val_categorical_accuracy: 0.6962\n"
     ]
    }
   ],
   "source": [
    "filter_length = 128\n",
    "\n",
    "model = Sequential()\n",
    "model.add(Embedding(vocabulary_size,\n",
    "                            EMBEDDING_DIM,\n",
    "                            weights=[embedding_matrix],\n",
    "                            trainable=True, input_length=180))\n",
    "model.add(Dropout(0.5))\n",
    "model.add(Conv1D(filter_length, 3, padding='same', activation='relu', strides=1))\n",
    "model.add(GlobalMaxPool1D())\n",
    "model.add(Dense(num_classes))\n",
    "model.add(Activation('sigmoid'))\n",
    "\n",
    "model.compile(optimizer='adam', loss='binary_crossentropy', metrics=['categorical_accuracy'])\n",
    "model.summary()\n",
    "\n",
    "callbacks = [\n",
    "    ReduceLROnPlateau(),\n",
    "    EarlyStopping(patience=4),\n",
    "    ModelCheckpoint(filepath='model-conv1d.h5', save_best_only=True)\n",
    "]\n",
    "\n",
    "history = model.fit(x_train, y_train,\n",
    "                    epochs=50,\n",
    "                    batch_size=32,\n",
    "                    validation_split=0.1,\n",
    "                    callbacks=callbacks)"
   ]
  },
  {
   "cell_type": "code",
   "execution_count": 199,
   "metadata": {},
   "outputs": [
    {
     "name": "stdout",
     "output_type": "stream",
     "text": [
      "__________________________________________________________________________________________________\n",
      "Layer (type)                    Output Shape         Param #     Connected to                     \n",
      "==================================================================================================\n",
      "input_50 (InputLayer)           (None, 180)          0                                            \n",
      "__________________________________________________________________________________________________\n",
      "embedding_76 (Embedding)        (None, 180, 400)     1092000     input_50[0][0]                   \n",
      "__________________________________________________________________________________________________\n",
      "conv1d_61 (Conv1D)              (None, 178, 128)     153728      embedding_76[0][0]               \n",
      "__________________________________________________________________________________________________\n",
      "conv1d_62 (Conv1D)              (None, 177, 128)     204928      embedding_76[0][0]               \n",
      "__________________________________________________________________________________________________\n",
      "conv1d_63 (Conv1D)              (None, 176, 128)     256128      embedding_76[0][0]               \n",
      "__________________________________________________________________________________________________\n",
      "max_pooling1d_35 (MaxPooling1D) (None, 1, 128)       0           conv1d_61[0][0]                  \n",
      "__________________________________________________________________________________________________\n",
      "max_pooling1d_36 (MaxPooling1D) (None, 1, 128)       0           conv1d_62[0][0]                  \n",
      "__________________________________________________________________________________________________\n",
      "max_pooling1d_37 (MaxPooling1D) (None, 1, 128)       0           conv1d_63[0][0]                  \n",
      "__________________________________________________________________________________________________\n",
      "concatenate_32 (Concatenate)    (None, 3, 128)       0           max_pooling1d_35[0][0]           \n",
      "                                                                 max_pooling1d_36[0][0]           \n",
      "                                                                 max_pooling1d_37[0][0]           \n",
      "__________________________________________________________________________________________________\n",
      "flatten_29 (Flatten)            (None, 384)          0           concatenate_32[0][0]             \n",
      "__________________________________________________________________________________________________\n",
      "dense_63 (Dense)                (None, 256)          98560       flatten_29[0][0]                 \n",
      "__________________________________________________________________________________________________\n",
      "dropout_55 (Dropout)            (None, 256)          0           dense_63[0][0]                   \n",
      "__________________________________________________________________________________________________\n",
      "dense_64 (Dense)                (None, 11)           2827        dropout_55[0][0]                 \n",
      "==================================================================================================\n",
      "Total params: 1,808,171\n",
      "Trainable params: 1,808,171\n",
      "Non-trainable params: 0\n",
      "__________________________________________________________________________________________________\n"
     ]
    }
   ],
   "source": [
    "from keras.layers import Input, Dense, Embedding, Conv2D, MaxPooling2D, Dropout,concatenate\n",
    "from keras.layers.core import Reshape, Flatten\n",
    "from keras import regularizers\n",
    "\n",
    "filter_sizes = [3,4,5]\n",
    "num_filters = 128\n",
    "drop = 0.5\n",
    "\n",
    "inputs = Input(shape=(180,))\n",
    "embedding_layer = Embedding(vocabulary_size,\n",
    "                            EMBEDDING_DIM,\n",
    "                            weights=[embedding_matrix],\n",
    "                            trainable=True)\n",
    "embedding = embedding_layer(inputs)\n",
    "\n",
    "conv_0 = Conv1D(num_filters, filter_sizes[0],activation='relu',kernel_regularizer=regularizers.l2(0.01))(embedding)\n",
    "conv_1 = Conv1D(num_filters, filter_sizes[1],activation='relu',kernel_regularizer=regularizers.l2(0.01))(embedding)\n",
    "conv_2 = Conv1D(num_filters, filter_sizes[2],activation='relu',kernel_regularizer=regularizers.l2(0.01))(embedding)\n",
    "\n",
    "maxpool_0 = MaxPooling1D(180 - filter_sizes[0] + 1, strides=1)(conv_0)\n",
    "maxpool_1 = MaxPooling1D(180 - filter_sizes[1] + 1, strides=1)(conv_1)\n",
    "maxpool_2 = MaxPooling1D(180 - filter_sizes[2] + 1, strides=1)(conv_2)\n",
    "\n",
    "merged_tensor = concatenate([maxpool_0, maxpool_1, maxpool_2], axis=1)\n",
    "flatten = Flatten()(merged_tensor)\n",
    "\n",
    "dense1 = Dense(256)(flatten)\n",
    "dropout = Dropout(drop)(dense1)\n",
    "\n",
    "output = Dense(units=11, activation='softmax',kernel_regularizer=regularizers.l2(0.01))(dropout)\n",
    "\n",
    "# this creates a model that includes\n",
    "model = Model(inputs, output)\n",
    "model.summary()"
   ]
  },
  {
   "cell_type": "code",
   "execution_count": 200,
   "metadata": {},
   "outputs": [
    {
     "name": "stdout",
     "output_type": "stream",
     "text": [
      "__________________________________________________________________________________________________\n",
      "Layer (type)                    Output Shape         Param #     Connected to                     \n",
      "==================================================================================================\n",
      "input_50 (InputLayer)           (None, 180)          0                                            \n",
      "__________________________________________________________________________________________________\n",
      "embedding_76 (Embedding)        (None, 180, 400)     1092000     input_50[0][0]                   \n",
      "__________________________________________________________________________________________________\n",
      "conv1d_61 (Conv1D)              (None, 178, 128)     153728      embedding_76[0][0]               \n",
      "__________________________________________________________________________________________________\n",
      "conv1d_62 (Conv1D)              (None, 177, 128)     204928      embedding_76[0][0]               \n",
      "__________________________________________________________________________________________________\n",
      "conv1d_63 (Conv1D)              (None, 176, 128)     256128      embedding_76[0][0]               \n",
      "__________________________________________________________________________________________________\n",
      "max_pooling1d_35 (MaxPooling1D) (None, 1, 128)       0           conv1d_61[0][0]                  \n",
      "__________________________________________________________________________________________________\n",
      "max_pooling1d_36 (MaxPooling1D) (None, 1, 128)       0           conv1d_62[0][0]                  \n",
      "__________________________________________________________________________________________________\n",
      "max_pooling1d_37 (MaxPooling1D) (None, 1, 128)       0           conv1d_63[0][0]                  \n",
      "__________________________________________________________________________________________________\n",
      "concatenate_32 (Concatenate)    (None, 3, 128)       0           max_pooling1d_35[0][0]           \n",
      "                                                                 max_pooling1d_36[0][0]           \n",
      "                                                                 max_pooling1d_37[0][0]           \n",
      "__________________________________________________________________________________________________\n",
      "flatten_29 (Flatten)            (None, 384)          0           concatenate_32[0][0]             \n",
      "__________________________________________________________________________________________________\n",
      "dense_63 (Dense)                (None, 256)          98560       flatten_29[0][0]                 \n",
      "__________________________________________________________________________________________________\n",
      "dropout_55 (Dropout)            (None, 256)          0           dense_63[0][0]                   \n",
      "__________________________________________________________________________________________________\n",
      "dense_64 (Dense)                (None, 11)           2827        dropout_55[0][0]                 \n",
      "==================================================================================================\n",
      "Total params: 1,808,171\n",
      "Trainable params: 1,808,171\n",
      "Non-trainable params: 0\n",
      "__________________________________________________________________________________________________\n",
      "Train on 703 samples, validate on 79 samples\n",
      "Epoch 1/100\n",
      "703/703 [==============================] - 28s 40ms/step - loss: 4.5611 - categorical_accuracy: 0.1892 - val_loss: 2.7822 - val_categorical_accuracy: 0.1772\n",
      "Epoch 2/100\n",
      "703/703 [==============================] - 18s 26ms/step - loss: 1.8606 - categorical_accuracy: 0.2560 - val_loss: 1.1939 - val_categorical_accuracy: 0.2025\n",
      "Epoch 3/100\n",
      "703/703 [==============================] - 18s 25ms/step - loss: 0.8893 - categorical_accuracy: 0.2674 - val_loss: 0.7226 - val_categorical_accuracy: 0.3165\n",
      "Epoch 4/100\n",
      "703/703 [==============================] - 18s 25ms/step - loss: 0.6305 - categorical_accuracy: 0.2688 - val_loss: 0.6121 - val_categorical_accuracy: 0.0886\n",
      "Epoch 5/100\n",
      "703/703 [==============================] - 18s 26ms/step - loss: 0.5606 - categorical_accuracy: 0.2518 - val_loss: 0.5685 - val_categorical_accuracy: 0.3165\n",
      "Epoch 6/100\n",
      "703/703 [==============================] - 18s 26ms/step - loss: 0.5300 - categorical_accuracy: 0.2560 - val_loss: 0.5468 - val_categorical_accuracy: 0.2658\n",
      "Epoch 7/100\n",
      "703/703 [==============================] - 18s 26ms/step - loss: 0.5147 - categorical_accuracy: 0.2504 - val_loss: 0.5306 - val_categorical_accuracy: 0.3165\n",
      "Epoch 8/100\n",
      "703/703 [==============================] - 18s 26ms/step - loss: 0.4994 - categorical_accuracy: 0.2674 - val_loss: 0.5225 - val_categorical_accuracy: 0.3165\n",
      "Epoch 9/100\n",
      "703/703 [==============================] - 18s 25ms/step - loss: 0.4863 - categorical_accuracy: 0.3243 - val_loss: 0.5150 - val_categorical_accuracy: 0.2785\n",
      "Epoch 10/100\n",
      "703/703 [==============================] - 18s 25ms/step - loss: 0.4790 - categorical_accuracy: 0.3457 - val_loss: 0.5103 - val_categorical_accuracy: 0.3165\n",
      "Epoch 11/100\n",
      "703/703 [==============================] - 18s 25ms/step - loss: 0.4639 - categorical_accuracy: 0.4424 - val_loss: 0.4947 - val_categorical_accuracy: 0.4304\n",
      "Epoch 12/100\n",
      "703/703 [==============================] - 18s 25ms/step - loss: 0.4491 - categorical_accuracy: 0.4737 - val_loss: 0.4989 - val_categorical_accuracy: 0.4177\n",
      "Epoch 13/100\n",
      "703/703 [==============================] - 18s 25ms/step - loss: 0.4330 - categorical_accuracy: 0.5050 - val_loss: 0.4718 - val_categorical_accuracy: 0.4430\n",
      "Epoch 14/100\n",
      "703/703 [==============================] - 18s 25ms/step - loss: 0.4143 - categorical_accuracy: 0.5306 - val_loss: 0.4651 - val_categorical_accuracy: 0.4937\n",
      "Epoch 15/100\n",
      "703/703 [==============================] - 17s 25ms/step - loss: 0.3959 - categorical_accuracy: 0.5405 - val_loss: 0.4659 - val_categorical_accuracy: 0.4304\n",
      "Epoch 16/100\n",
      "703/703 [==============================] - 17s 24ms/step - loss: 0.3920 - categorical_accuracy: 0.5633 - val_loss: 0.4542 - val_categorical_accuracy: 0.5190\n",
      "Epoch 17/100\n",
      "703/703 [==============================] - 17s 25ms/step - loss: 0.3807 - categorical_accuracy: 0.5875 - val_loss: 0.4439 - val_categorical_accuracy: 0.5949\n",
      "Epoch 18/100\n",
      "703/703 [==============================] - 17s 24ms/step - loss: 0.3704 - categorical_accuracy: 0.6088 - val_loss: 0.4302 - val_categorical_accuracy: 0.5949\n",
      "Epoch 19/100\n",
      "703/703 [==============================] - 17s 24ms/step - loss: 0.3590 - categorical_accuracy: 0.5917 - val_loss: 0.4344 - val_categorical_accuracy: 0.6456\n",
      "Epoch 20/100\n",
      "703/703 [==============================] - 17s 24ms/step - loss: 0.3419 - categorical_accuracy: 0.6131 - val_loss: 0.4027 - val_categorical_accuracy: 0.6076\n",
      "Epoch 21/100\n",
      "703/703 [==============================] - 18s 25ms/step - loss: 0.3356 - categorical_accuracy: 0.5846 - val_loss: 0.4109 - val_categorical_accuracy: 0.7215\n",
      "Epoch 22/100\n",
      "703/703 [==============================] - 18s 26ms/step - loss: 0.3301 - categorical_accuracy: 0.5789 - val_loss: 0.3995 - val_categorical_accuracy: 0.5823\n",
      "Epoch 23/100\n",
      "703/703 [==============================] - 17s 24ms/step - loss: 0.3277 - categorical_accuracy: 0.5974 - val_loss: 0.4193 - val_categorical_accuracy: 0.6835\n",
      "Epoch 24/100\n",
      "703/703 [==============================] - 17s 24ms/step - loss: 0.3305 - categorical_accuracy: 0.6088 - val_loss: 0.4125 - val_categorical_accuracy: 0.5823\n",
      "Epoch 25/100\n",
      "703/703 [==============================] - 16s 23ms/step - loss: 0.3232 - categorical_accuracy: 0.6259 - val_loss: 0.3858 - val_categorical_accuracy: 0.6456\n",
      "Epoch 26/100\n",
      "703/703 [==============================] - 17s 25ms/step - loss: 0.3051 - categorical_accuracy: 0.6401 - val_loss: 0.3965 - val_categorical_accuracy: 0.7468\n",
      "Epoch 27/100\n",
      "703/703 [==============================] - 17s 24ms/step - loss: 0.2989 - categorical_accuracy: 0.6515 - val_loss: 0.3821 - val_categorical_accuracy: 0.6582\n",
      "Epoch 28/100\n",
      "703/703 [==============================] - 17s 24ms/step - loss: 0.2957 - categorical_accuracy: 0.6643 - val_loss: 0.3840 - val_categorical_accuracy: 0.7342\n",
      "Epoch 29/100\n",
      "703/703 [==============================] - 17s 24ms/step - loss: 0.2914 - categorical_accuracy: 0.6515 - val_loss: 0.3735 - val_categorical_accuracy: 0.6456\n"
     ]
    },
    {
     "name": "stdout",
     "output_type": "stream",
     "text": [
      "Epoch 30/100\n",
      "703/703 [==============================] - 17s 24ms/step - loss: 0.2899 - categorical_accuracy: 0.6743 - val_loss: 0.3725 - val_categorical_accuracy: 0.6203\n",
      "Epoch 31/100\n",
      "703/703 [==============================] - 17s 24ms/step - loss: 0.2951 - categorical_accuracy: 0.6657 - val_loss: 0.3734 - val_categorical_accuracy: 0.7342\n",
      "Epoch 32/100\n",
      "703/703 [==============================] - 17s 24ms/step - loss: 0.2876 - categorical_accuracy: 0.6714 - val_loss: 0.3679 - val_categorical_accuracy: 0.6709\n",
      "Epoch 33/100\n",
      "703/703 [==============================] - 17s 24ms/step - loss: 0.2858 - categorical_accuracy: 0.6785 - val_loss: 0.3704 - val_categorical_accuracy: 0.7215\n",
      "Epoch 34/100\n",
      "703/703 [==============================] - 17s 24ms/step - loss: 0.2842 - categorical_accuracy: 0.6615 - val_loss: 0.3607 - val_categorical_accuracy: 0.6582\n",
      "Epoch 35/100\n",
      "703/703 [==============================] - 17s 24ms/step - loss: 0.2781 - categorical_accuracy: 0.6785 - val_loss: 0.3588 - val_categorical_accuracy: 0.6203\n",
      "Epoch 36/100\n",
      "703/703 [==============================] - 17s 24ms/step - loss: 0.2752 - categorical_accuracy: 0.6885 - val_loss: 0.3698 - val_categorical_accuracy: 0.6203\n",
      "Epoch 37/100\n",
      "703/703 [==============================] - 17s 24ms/step - loss: 0.2770 - categorical_accuracy: 0.6757 - val_loss: 0.3642 - val_categorical_accuracy: 0.6709\n",
      "Epoch 38/100\n",
      "703/703 [==============================] - 17s 24ms/step - loss: 0.2738 - categorical_accuracy: 0.6757 - val_loss: 0.3599 - val_categorical_accuracy: 0.6962\n",
      "Epoch 39/100\n",
      "703/703 [==============================] - 17s 24ms/step - loss: 0.2711 - categorical_accuracy: 0.6728 - val_loss: 0.3638 - val_categorical_accuracy: 0.7089\n"
     ]
    },
    {
     "data": {
      "text/plain": [
       "<keras.callbacks.History at 0x2a2ea55cba8>"
      ]
     },
     "execution_count": 200,
     "metadata": {},
     "output_type": "execute_result"
    }
   ],
   "source": [
    "adam = Adam(lr=1e-3)\n",
    "\n",
    "model.compile(loss='binary_crossentropy', metrics=['categorical_accuracy'],\n",
    "              optimizer=adam)\n",
    "model.summary()\n",
    "callbacks = [EarlyStopping(patience=4),\n",
    "            ModelCheckpoint(filepath='model-conv2d.h5', save_best_only=True)]\n",
    "model.fit(x_train, y_train, batch_size=32, epochs=100, validation_split=0.1,\n",
    "         callbacks=callbacks)"
   ]
  },
  {
   "cell_type": "code",
   "execution_count": 201,
   "metadata": {},
   "outputs": [
    {
     "name": "stdout",
     "output_type": "stream",
     "text": [
      "196/196 [==============================] - 5s 24ms/step\n",
      "loss: 0.3565950600468383\n",
      "categorical_accuracy: 0.5357142857142857\n"
     ]
    }
   ],
   "source": [
    "cnn_model = keras.models.load_model('model-conv2d.h5')\n",
    "metrics = cnn_model.evaluate(x_test, y_test)\n",
    "print(\"{}: {}\".format(model.metrics_names[0], metrics[0]))\n",
    "print(\"{}: {}\".format(model.metrics_names[1], metrics[1]))"
   ]
  },
  {
   "cell_type": "code",
   "execution_count": 202,
   "metadata": {
    "collapsed": true
   },
   "outputs": [],
   "source": [
    "from keras.models import Model\n",
    "total_layers = len(cnn_model.layers)\n",
    "\n",
    "fl_index = total_layers-1\n",
    "\n",
    "feature_layer_model = Model(\n",
    "                     inputs=cnn_model.input,\n",
    "                     outputs=cnn_model.get_layer(index=fl_index).output)\n",
    "\n",
    "x_train_xg = feature_layer_model.predict(x_train)\n",
    "x_test_xg = feature_layer_model.predict(x_test)"
   ]
  },
  {
   "cell_type": "code",
   "execution_count": 128,
   "metadata": {},
   "outputs": [
    {
     "ename": "TypeError",
     "evalue": "'tuple' object is not callable",
     "output_type": "error",
     "traceback": [
      "\u001b[1;31m---------------------------------------------------------------------------\u001b[0m",
      "\u001b[1;31mTypeError\u001b[0m                                 Traceback (most recent call last)",
      "\u001b[1;32m<ipython-input-128-e4524798a5ac>\u001b[0m in \u001b[0;36m<module>\u001b[1;34m()\u001b[0m\n\u001b[1;32m----> 1\u001b[1;33m \u001b[0mx_train_xg\u001b[0m\u001b[1;33m.\u001b[0m\u001b[0mshape\u001b[0m\u001b[1;33m(\u001b[0m\u001b[1;33m)\u001b[0m\u001b[1;33m\u001b[0m\u001b[0m\n\u001b[0m",
      "\u001b[1;31mTypeError\u001b[0m: 'tuple' object is not callable"
     ]
    }
   ],
   "source": [
    "x_train_xg.shape()"
   ]
  },
  {
   "cell_type": "code",
   "execution_count": 203,
   "metadata": {},
   "outputs": [
    {
     "name": "stdout",
     "output_type": "stream",
     "text": [
      "0.7425836082881597\n"
     ]
    },
    {
     "name": "stderr",
     "output_type": "stream",
     "text": [
      "C:\\Users\\Annisa Nurul Azhar\\Anaconda3\\lib\\site-packages\\sklearn\\metrics\\classification.py:1143: UndefinedMetricWarning: F-score is ill-defined and being set to 0.0 in labels with no predicted samples.\n",
      "  'precision', 'predicted', average, warn_for)\n"
     ]
    }
   ],
   "source": [
    "from skmultilearn.problem_transform import BinaryRelevance\n",
    "from xgboost import XGBClassifier\n",
    "from sklearn.metrics import f1_score\n",
    "\n",
    "clf = BinaryRelevance(XGBClassifier())\n",
    "clf.fit(x_train_xg, y_train)\n",
    "y_pred = clf.predict(x_test_xg)\n",
    "\n",
    "f1 = f1_score(y_test, y_pred, average='weighted')\n",
    "print(f1)"
   ]
  },
  {
   "cell_type": "code",
   "execution_count": 171,
   "metadata": {},
   "outputs": [
    {
     "name": "stdout",
     "output_type": "stream",
     "text": [
      "__________________________________________________________________________________________________\n",
      "Layer (type)                    Output Shape         Param #     Connected to                     \n",
      "==================================================================================================\n",
      "input_37 (InputLayer)           (None, 180)          0                                            \n",
      "__________________________________________________________________________________________________\n",
      "embedding_63 (Embedding)        (None, 180, 400)     1092000     input_37[0][0]                   \n",
      "__________________________________________________________________________________________________\n",
      "reshape_56 (Reshape)            (None, 180, 400, 1)  0           embedding_63[0][0]               \n",
      "__________________________________________________________________________________________________\n",
      "conv2d_103 (Conv2D)             (None, 178, 1, 128)  153728      reshape_56[0][0]                 \n",
      "__________________________________________________________________________________________________\n",
      "conv2d_104 (Conv2D)             (None, 177, 1, 128)  204928      reshape_56[0][0]                 \n",
      "__________________________________________________________________________________________________\n",
      "conv2d_105 (Conv2D)             (None, 176, 1, 128)  256128      reshape_56[0][0]                 \n",
      "__________________________________________________________________________________________________\n",
      "max_pooling2d_80 (MaxPooling2D) (None, 1, 1, 128)    0           conv2d_103[0][0]                 \n",
      "__________________________________________________________________________________________________\n",
      "max_pooling2d_81 (MaxPooling2D) (None, 1, 1, 128)    0           conv2d_104[0][0]                 \n",
      "__________________________________________________________________________________________________\n",
      "max_pooling2d_82 (MaxPooling2D) (None, 1, 1, 128)    0           conv2d_105[0][0]                 \n",
      "__________________________________________________________________________________________________\n",
      "concatenate_24 (Concatenate)    (None, 3, 1, 128)    0           max_pooling2d_80[0][0]           \n",
      "                                                                 max_pooling2d_81[0][0]           \n",
      "                                                                 max_pooling2d_82[0][0]           \n",
      "__________________________________________________________________________________________________\n",
      "flatten_22 (Flatten)            (None, 384)          0           concatenate_24[0][0]             \n",
      "__________________________________________________________________________________________________\n",
      "reshape_57 (Reshape)            (None, 384)          0           flatten_22[0][0]                 \n",
      "__________________________________________________________________________________________________\n",
      "dense_50 (Dense)                (None, 256)          98560       reshape_57[0][0]                 \n",
      "__________________________________________________________________________________________________\n",
      "dropout_49 (Dropout)            (None, 256)          0           dense_50[0][0]                   \n",
      "__________________________________________________________________________________________________\n",
      "dense_51 (Dense)                (None, 11)           2827        dropout_49[0][0]                 \n",
      "==================================================================================================\n",
      "Total params: 1,808,171\n",
      "Trainable params: 1,808,171\n",
      "Non-trainable params: 0\n",
      "__________________________________________________________________________________________________\n"
     ]
    }
   ],
   "source": [
    "from keras.layers import Input, Dense, Embedding, Conv2D, MaxPooling2D, Dropout,concatenate\n",
    "from keras.layers.core import Reshape, Flatten\n",
    "from keras import regularizers\n",
    "\n",
    "filter_sizes = [3,4,5]\n",
    "num_filters = 128\n",
    "drop = 0.5\n",
    "\n",
    "inputs = Input(shape=(180,))\n",
    "embedding_layer = Embedding(vocabulary_size,\n",
    "                            EMBEDDING_DIM,\n",
    "                            weights=[embedding_matrix],\n",
    "                            trainable=True)\n",
    "embedding = embedding_layer(inputs)\n",
    "reshape = Reshape((180,EMBEDDING_DIM,1))(embedding)\n",
    "\n",
    "conv_0 = Conv2D(num_filters, (filter_sizes[0], EMBEDDING_DIM),activation='relu',kernel_regularizer=regularizers.l2(0.01))(reshape)\n",
    "conv_1 = Conv2D(num_filters, (filter_sizes[1], EMBEDDING_DIM),activation='relu',kernel_regularizer=regularizers.l2(0.01))(reshape)\n",
    "conv_2 = Conv2D(num_filters, (filter_sizes[2], EMBEDDING_DIM),activation='relu',kernel_regularizer=regularizers.l2(0.01))(reshape)\n",
    "\n",
    "maxpool_0 = MaxPooling2D((180 - filter_sizes[0] + 1, 1), strides=(1,1))(conv_0)\n",
    "maxpool_1 = MaxPooling2D((180 - filter_sizes[1] + 1, 1), strides=(1,1))(conv_1)\n",
    "maxpool_2 = MaxPooling2D((180 - filter_sizes[2] + 1, 1), strides=(1,1))(conv_2)\n",
    "\n",
    "merged_tensor = concatenate([maxpool_0, maxpool_1, maxpool_2], axis=1)\n",
    "\n",
    "dense1 = Dense(256)(merged_tensor)\n",
    "dropout = Dropout(drop)(dense1)\n",
    "\n",
    "lstm_1 = LSTM(128)(dropout)\n",
    "\n",
    "output = Dense(units=11, activation='softmax',kernel_regularizer=regularizers.l2(0.01))(dropout)\n",
    "\n",
    "# this creates a model that includes\n",
    "model = Model(inputs, output)\n",
    "model.summary()"
   ]
  },
  {
   "cell_type": "code",
   "execution_count": null,
   "metadata": {
    "collapsed": true
   },
   "outputs": [],
   "source": []
  }
 ],
 "metadata": {
  "kernelspec": {
   "display_name": "Python 3",
   "language": "python",
   "name": "python3"
  },
  "language_info": {
   "codemirror_mode": {
    "name": "ipython",
    "version": 3
   },
   "file_extension": ".py",
   "mimetype": "text/x-python",
   "name": "python",
   "nbconvert_exporter": "python",
   "pygments_lexer": "ipython3",
   "version": "3.6.3"
  }
 },
 "nbformat": 4,
 "nbformat_minor": 2
}
